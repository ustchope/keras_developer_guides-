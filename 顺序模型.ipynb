{
 "cells": [
  {
   "cell_type": "code",
   "execution_count": 2,
   "id": "pleased-paris",
   "metadata": {},
   "outputs": [
    {
     "name": "stdout",
     "output_type": "stream",
     "text": [
      "time: 558 ms (started: 2021-08-23 17:05:47 +08:00)\n"
     ]
    }
   ],
   "source": [
    "# 自动计算cell的计算时间\n",
    "%load_ext autotime\n",
    "\n",
    "%matplotlib inline\n",
    "%config InlineBackend.figure_format='svg' #矢量图设置，让绘图更清晰"
   ]
  },
  {
   "cell_type": "code",
   "execution_count": 3,
   "id": "special-canada",
   "metadata": {},
   "outputs": [
    {
     "name": "stdout",
     "output_type": "stream",
     "text": [
      "origin\tgit@github.com:ustchope/keras_developer_guides-.git (fetch)\n",
      "origin\tgit@github.com:ustchope/keras_developer_guides-.git (push)\n",
      "[main f760c7b] 更新 #3  Aug 23, 2021\n",
      " 3 files changed, 2380 insertions(+), 141 deletions(-)\n",
      " create mode 100644 The Functional API.ipynb\n",
      " create mode 100644 \"\\351\\241\\272\\345\\272\\217\\346\\250\\241\\345\\236\\213.ipynb\"\n"
     ]
    },
    {
     "name": "stderr",
     "output_type": "stream",
     "text": [
      "To git@github.com:ustchope/keras_developer_guides-.git\n",
      "   b364734..f760c7b  main -> main\n"
     ]
    },
    {
     "name": "stdout",
     "output_type": "stream",
     "text": [
      "time: 5.96 s (started: 2021-08-23 17:05:49 +08:00)\n"
     ]
    }
   ],
   "source": [
    "%%bash\n",
    "\n",
    "# 增加更新\n",
    "git add *.ipynb *.md\n",
    "\n",
    "git remote -v\n",
    "\n",
    "git commit -m '更新 #3  Aug 23, 2021'\n",
    "\n",
    "#git push origin master\n",
    "git push"
   ]
  },
  {
   "cell_type": "code",
   "execution_count": 4,
   "id": "distinct-planner",
   "metadata": {},
   "outputs": [
    {
     "name": "stdout",
     "output_type": "stream",
     "text": [
      "time: 3.9 s (started: 2021-08-23 17:06:17 +08:00)\n"
     ]
    }
   ],
   "source": [
    "#设置使用的gpu\n",
    "import tensorflow as tf\n",
    "from tensorflow import keras\n",
    "\n",
    "gpus = tf.config.list_physical_devices(\"GPU\")\n",
    "\n",
    "if gpus:\n",
    "   \n",
    "    gpu0 = gpus[0] #如果有多个GPU，仅使用第0个GPU\n",
    "    tf.config.experimental.set_memory_growth(gpu0, True) #设置GPU显存用量按需使用\n",
    "    # 或者也可以设置GPU显存为固定使用量(例如：4G)\n",
    "    #tf.config.experimental.set_virtual_device_configuration(gpu0,\n",
    "    #    [tf.config.experimental.VirtualDeviceConfiguration(memory_limit=4096)]) \n",
    "    tf.config.set_visible_devices([gpu0],\"GPU\")"
   ]
  },
  {
   "cell_type": "markdown",
   "id": "formal-bridge",
   "metadata": {},
   "source": [
    "# 设置"
   ]
  },
  {
   "cell_type": "code",
   "execution_count": 5,
   "id": "frozen-trick",
   "metadata": {},
   "outputs": [
    {
     "name": "stdout",
     "output_type": "stream",
     "text": [
      "time: 1.16 ms (started: 2021-08-23 17:06:44 +08:00)\n"
     ]
    }
   ],
   "source": [
    "import tensorflow as tf\n",
    "from tensorflow import keras\n",
    "from tensorflow.keras import layers"
   ]
  },
  {
   "cell_type": "markdown",
   "id": "operating-kelly",
   "metadata": {},
   "source": [
    "# 何时使用顺序模型"
   ]
  },
  {
   "cell_type": "markdown",
   "id": "combined-mexico",
   "metadata": {},
   "source": [
    "Sequential 模型适用于一个普通的层堆栈，其中每一层恰好有一个输入张量和一个输出张量。\n",
    "\n",
    "示意性地，以下顺序模型："
   ]
  },
  {
   "cell_type": "code",
   "execution_count": 6,
   "id": "atlantic-cleveland",
   "metadata": {},
   "outputs": [
    {
     "name": "stdout",
     "output_type": "stream",
     "text": [
      "time: 3.25 s (started: 2021-08-23 17:07:20 +08:00)\n"
     ]
    }
   ],
   "source": [
    "# Define Sequential model with 3 layers\n",
    "model = keras.Sequential(\n",
    "    [\n",
    "        layers.Dense(2, activation=\"relu\", name=\"layer1\"),\n",
    "        layers.Dense(3, activation=\"relu\", name=\"layer2\"),\n",
    "        layers.Dense(4, name=\"layer3\"),\n",
    "    ]\n",
    ")\n",
    "# Call model on a test input\n",
    "x = tf.ones((3, 3))\n",
    "y = model(x)"
   ]
  },
  {
   "cell_type": "markdown",
   "id": "accepted-vampire",
   "metadata": {},
   "source": [
    "相当于这个函数："
   ]
  },
  {
   "cell_type": "code",
   "execution_count": 7,
   "id": "inside-influence",
   "metadata": {},
   "outputs": [
    {
     "name": "stdout",
     "output_type": "stream",
     "text": [
      "time: 22.4 ms (started: 2021-08-23 17:08:01 +08:00)\n"
     ]
    }
   ],
   "source": [
    "# Create 3 layers\n",
    "layer1 = layers.Dense(2, activation=\"relu\", name=\"layer1\")\n",
    "layer2 = layers.Dense(3, activation=\"relu\", name=\"layer2\")\n",
    "layer3 = layers.Dense(4, name=\"layer3\")\n",
    "\n",
    "# Call layers on a test input\n",
    "x = tf.ones((3, 3))\n",
    "y = layer3(layer2(layer1(x)))"
   ]
  },
  {
   "cell_type": "markdown",
   "id": "proper-trunk",
   "metadata": {},
   "source": [
    "在以下情况下，顺序模型不合适：\n",
    "* 您的模型有多个输入或多个输出\n",
    "* 您的任何层都有多个输入或多个输出\n",
    "* 你需要做图层共享\n",
    "* 您需要非线性拓扑（例如残差连接、多分支模型）"
   ]
  },
  {
   "cell_type": "markdown",
   "id": "serial-index",
   "metadata": {},
   "source": [
    "# 创建顺序模型"
   ]
  },
  {
   "cell_type": "markdown",
   "id": "appropriate-nursery",
   "metadata": {},
   "source": [
    "您可以通过将层列表传递给 Sequential 构造函数来创建 Sequential 模型："
   ]
  },
  {
   "cell_type": "code",
   "execution_count": 8,
   "id": "familiar-symposium",
   "metadata": {},
   "outputs": [
    {
     "name": "stdout",
     "output_type": "stream",
     "text": [
      "time: 8.73 ms (started: 2021-08-23 17:08:58 +08:00)\n"
     ]
    }
   ],
   "source": [
    "model = keras.Sequential(\n",
    "    [\n",
    "        layers.Dense(2, activation=\"relu\"),\n",
    "        layers.Dense(3, activation=\"relu\"),\n",
    "        layers.Dense(4),\n",
    "    ]\n",
    ")"
   ]
  },
  {
   "cell_type": "markdown",
   "id": "ahead-passion",
   "metadata": {},
   "source": [
    "它的图层可以通过图层属性访问："
   ]
  },
  {
   "cell_type": "code",
   "execution_count": 10,
   "id": "empty-jonathan",
   "metadata": {},
   "outputs": [
    {
     "data": {
      "text/plain": [
       "[<tensorflow.python.keras.layers.core.Dense at 0x7f6ca003b850>,\n",
       " <tensorflow.python.keras.layers.core.Dense at 0x7f6ca003bac0>,\n",
       " <tensorflow.python.keras.layers.core.Dense at 0x7f6ca003bfd0>]"
      ]
     },
     "execution_count": 10,
     "metadata": {},
     "output_type": "execute_result"
    },
    {
     "name": "stdout",
     "output_type": "stream",
     "text": [
      "time: 6.48 ms (started: 2021-08-23 17:09:24 +08:00)\n"
     ]
    }
   ],
   "source": [
    "model.layers"
   ]
  },
  {
   "cell_type": "markdown",
   "id": "retired-wrong",
   "metadata": {},
   "source": [
    "您还可以通过 add() 方法以增量方式创建 Sequential 模型："
   ]
  },
  {
   "cell_type": "code",
   "execution_count": 12,
   "id": "norwegian-headset",
   "metadata": {},
   "outputs": [
    {
     "name": "stdout",
     "output_type": "stream",
     "text": [
      "time: 9.47 ms (started: 2021-08-23 17:09:54 +08:00)\n"
     ]
    }
   ],
   "source": [
    "model = keras.Sequential()\n",
    "model.add(layers.Dense(2, activation=\"relu\"))\n",
    "model.add(layers.Dense(3, activation=\"relu\"))\n",
    "model.add(layers.Dense(4))"
   ]
  },
  {
   "cell_type": "markdown",
   "id": "infrared-resource",
   "metadata": {},
   "source": [
    "请注意，还有一个相应的 pop() 方法来删除层：Sequential 模型的行为非常类似于层列表。"
   ]
  },
  {
   "cell_type": "code",
   "execution_count": 13,
   "id": "direct-pepper",
   "metadata": {},
   "outputs": [
    {
     "name": "stdout",
     "output_type": "stream",
     "text": [
      "2\n",
      "time: 1.13 ms (started: 2021-08-23 17:10:15 +08:00)\n"
     ]
    }
   ],
   "source": [
    "model.pop()\n",
    "print(len(model.layers))  # 2"
   ]
  },
  {
   "cell_type": "markdown",
   "id": "fifty-utility",
   "metadata": {},
   "source": [
    "另请注意，Sequential 构造函数接受名称参数，就像 Keras 中的任何层或模型一样。 这对于使用语义上有意义的名称注释 TensorBoard 图很有用。"
   ]
  },
  {
   "cell_type": "code",
   "execution_count": 14,
   "id": "thermal-coaching",
   "metadata": {},
   "outputs": [
    {
     "name": "stdout",
     "output_type": "stream",
     "text": [
      "time: 9.58 ms (started: 2021-08-23 17:10:42 +08:00)\n"
     ]
    }
   ],
   "source": [
    "model = keras.Sequential(name=\"my_sequential\")\n",
    "model.add(layers.Dense(2, activation=\"relu\", name=\"layer1\"))\n",
    "model.add(layers.Dense(3, activation=\"relu\", name=\"layer2\"))\n",
    "model.add(layers.Dense(4, name=\"layer3\"))"
   ]
  },
  {
   "cell_type": "markdown",
   "id": "sound-estate",
   "metadata": {},
   "source": [
    "# 预先指定输入形状"
   ]
  },
  {
   "cell_type": "markdown",
   "id": "psychological-salad",
   "metadata": {},
   "source": [
    "通常，Keras 中的所有层都需要知道其输入的形状，以便能够创建它们的权重。 因此，当您创建这样的图层时，最初它没有权重："
   ]
  },
  {
   "cell_type": "code",
   "execution_count": 15,
   "id": "wired-symposium",
   "metadata": {},
   "outputs": [
    {
     "data": {
      "text/plain": [
       "[]"
      ]
     },
     "execution_count": 15,
     "metadata": {},
     "output_type": "execute_result"
    },
    {
     "name": "stdout",
     "output_type": "stream",
     "text": [
      "time: 4.3 ms (started: 2021-08-23 17:11:14 +08:00)\n"
     ]
    }
   ],
   "source": [
    "layer = layers.Dense(3)\n",
    "layer.weights  # Empty"
   ]
  },
  {
   "cell_type": "markdown",
   "id": "fluid-calcium",
   "metadata": {},
   "source": [
    "它在第一次对输入调用时创建它的权重，因为权重的形状取决于输入的形状："
   ]
  },
  {
   "cell_type": "code",
   "execution_count": 16,
   "id": "funded-patrol",
   "metadata": {},
   "outputs": [
    {
     "data": {
      "text/plain": [
       "[<tf.Variable 'dense_6/kernel:0' shape=(4, 3) dtype=float32, numpy=\n",
       " array([[-0.41448128,  0.3380506 , -0.29851627],\n",
       "        [-0.23768789, -0.7175736 , -0.246292  ],\n",
       "        [-0.3601464 , -0.44008276, -0.21690255],\n",
       "        [-0.64696825, -0.57585347, -0.4932522 ]], dtype=float32)>,\n",
       " <tf.Variable 'dense_6/bias:0' shape=(3,) dtype=float32, numpy=array([0., 0., 0.], dtype=float32)>]"
      ]
     },
     "execution_count": 16,
     "metadata": {},
     "output_type": "execute_result"
    },
    {
     "name": "stdout",
     "output_type": "stream",
     "text": [
      "time: 14.7 ms (started: 2021-08-23 17:11:36 +08:00)\n"
     ]
    }
   ],
   "source": [
    "# Call layer on a test input\n",
    "x = tf.ones((1, 4))\n",
    "y = layer(x)\n",
    "layer.weights  # Now it has weights, of shape (4, 3) and (3,)"
   ]
  },
  {
   "cell_type": "markdown",
   "id": "vanilla-language",
   "metadata": {},
   "source": [
    "当然，这也适用于顺序模型。 当您在没有输入形状的情况下实例化 Sequential 模型时，它不是“构建”的：它没有权重（并且调用 model.weights 会导致错误说明这一点）。 当模型第一次看到一些输入数据时创建权重："
   ]
  },
  {
   "cell_type": "code",
   "execution_count": 17,
   "id": "sacred-training",
   "metadata": {},
   "outputs": [
    {
     "name": "stdout",
     "output_type": "stream",
     "text": [
      "Number of weights after calling the model: 6\n",
      "time: 50.6 ms (started: 2021-08-23 17:12:12 +08:00)\n"
     ]
    }
   ],
   "source": [
    "model = keras.Sequential(\n",
    "    [\n",
    "        layers.Dense(2, activation=\"relu\"),\n",
    "        layers.Dense(3, activation=\"relu\"),\n",
    "        layers.Dense(4),\n",
    "    ]\n",
    ")  # No weights at this stage!\n",
    "\n",
    "# At this point, you can't do this:\n",
    "# model.weights\n",
    "\n",
    "# You also can't do this:\n",
    "# model.summary()\n",
    "\n",
    "# Call the model on a test input\n",
    "x = tf.ones((1, 4))\n",
    "y = model(x)\n",
    "print(\"Number of weights after calling the model:\", len(model.weights))  # 6"
   ]
  },
  {
   "cell_type": "markdown",
   "id": "surrounded-elimination",
   "metadata": {},
   "source": [
    "“构建”模型后，您可以调用它的 summary() 方法来显示其内容："
   ]
  },
  {
   "cell_type": "code",
   "execution_count": 19,
   "id": "criminal-partition",
   "metadata": {},
   "outputs": [
    {
     "name": "stdout",
     "output_type": "stream",
     "text": [
      "Model: \"sequential_3\"\n",
      "_________________________________________________________________\n",
      "Layer (type)                 Output Shape              Param #   \n",
      "=================================================================\n",
      "dense_7 (Dense)              (1, 2)                    10        \n",
      "_________________________________________________________________\n",
      "dense_8 (Dense)              (1, 3)                    9         \n",
      "_________________________________________________________________\n",
      "dense_9 (Dense)              (1, 4)                    16        \n",
      "=================================================================\n",
      "Total params: 35\n",
      "Trainable params: 35\n",
      "Non-trainable params: 0\n",
      "_________________________________________________________________\n",
      "time: 4.3 ms (started: 2021-08-23 17:12:37 +08:00)\n"
     ]
    }
   ],
   "source": [
    "model.summary()"
   ]
  },
  {
   "cell_type": "markdown",
   "id": "suspected-establishment",
   "metadata": {},
   "source": [
    "但是，在逐步构建 Sequential 模型以显示迄今为止模型的摘要（包括当前输出形状）时非常有用。 在这种情况下，您应该通过将 Input 对象传递给模型来启动模型，以便它从一开始就知道其输入形状："
   ]
  },
  {
   "cell_type": "code",
   "execution_count": 20,
   "id": "generic-nevada",
   "metadata": {},
   "outputs": [
    {
     "name": "stdout",
     "output_type": "stream",
     "text": [
      "WARNING:tensorflow:Please add `keras.layers.InputLayer` instead of `keras.Input` to Sequential model. `keras.Input` is intended to be used by Functional model.\n",
      "Model: \"sequential_4\"\n",
      "_________________________________________________________________\n",
      "Layer (type)                 Output Shape              Param #   \n",
      "=================================================================\n",
      "dense_10 (Dense)             (None, 2)                 10        \n",
      "=================================================================\n",
      "Total params: 10\n",
      "Trainable params: 10\n",
      "Non-trainable params: 0\n",
      "_________________________________________________________________\n",
      "time: 31.1 ms (started: 2021-08-23 17:13:04 +08:00)\n"
     ]
    }
   ],
   "source": [
    "model = keras.Sequential()\n",
    "model.add(keras.Input(shape=(4,)))\n",
    "model.add(layers.Dense(2, activation=\"relu\"))\n",
    "\n",
    "model.summary()"
   ]
  },
  {
   "cell_type": "markdown",
   "id": "quick-regulation",
   "metadata": {},
   "source": [
    "请注意，`Input`对象不显示为 model.layers 的一部分，因为它不是一个层："
   ]
  },
  {
   "cell_type": "code",
   "execution_count": 22,
   "id": "qualified-mailman",
   "metadata": {},
   "outputs": [
    {
     "data": {
      "text/plain": [
       "[<tensorflow.python.keras.layers.core.Dense at 0x7f6ca003b640>]"
      ]
     },
     "execution_count": 22,
     "metadata": {},
     "output_type": "execute_result"
    },
    {
     "name": "stdout",
     "output_type": "stream",
     "text": [
      "time: 2.88 ms (started: 2021-08-23 17:33:33 +08:00)\n"
     ]
    }
   ],
   "source": [
    "model.layers"
   ]
  },
  {
   "cell_type": "markdown",
   "id": "wrong-characteristic",
   "metadata": {},
   "source": [
    "一个简单的替代方法是将 input_shape 参数传递给第一层："
   ]
  },
  {
   "cell_type": "code",
   "execution_count": 23,
   "id": "communist-holocaust",
   "metadata": {},
   "outputs": [
    {
     "name": "stdout",
     "output_type": "stream",
     "text": [
      "Model: \"sequential_5\"\n",
      "_________________________________________________________________\n",
      "Layer (type)                 Output Shape              Param #   \n",
      "=================================================================\n",
      "dense_11 (Dense)             (None, 2)                 10        \n",
      "=================================================================\n",
      "Total params: 10\n",
      "Trainable params: 10\n",
      "Non-trainable params: 0\n",
      "_________________________________________________________________\n",
      "time: 28.1 ms (started: 2021-08-23 17:33:53 +08:00)\n"
     ]
    }
   ],
   "source": [
    "model = keras.Sequential()\n",
    "model.add(layers.Dense(2, activation=\"relu\", input_shape=(4,)))\n",
    "\n",
    "model.summary()"
   ]
  },
  {
   "cell_type": "markdown",
   "id": "arbitrary-michael",
   "metadata": {},
   "source": [
    "使用这样的预定义输入形状构建的模型始终具有权重（甚至在看到任何数据之前）并且始终具有定义的输出形状。\n",
    "\n",
    "一般来说，如果您知道序列模型的输入形状是什么，那么推荐的最佳做法是始终提前指定它的输入形状。"
   ]
  },
  {
   "cell_type": "markdown",
   "id": "young-mixture",
   "metadata": {},
   "source": [
    "# 一个常见的调试工作流程：add() + summary()"
   ]
  },
  {
   "cell_type": "markdown",
   "id": "minimal-keyboard",
   "metadata": {},
   "source": [
    "在构建新的 Sequential 架构时，使用 add() 递增堆叠层并经常打印模型摘要很有用。 例如，这使您能够监控 Conv2D 和 MaxPooling2D 层的堆栈如何对图像特征图进行下采样："
   ]
  },
  {
   "cell_type": "code",
   "execution_count": 24,
   "id": "ecological-camera",
   "metadata": {},
   "outputs": [
    {
     "name": "stdout",
     "output_type": "stream",
     "text": [
      "WARNING:tensorflow:Please add `keras.layers.InputLayer` instead of `keras.Input` to Sequential model. `keras.Input` is intended to be used by Functional model.\n",
      "Model: \"sequential_6\"\n",
      "_________________________________________________________________\n",
      "Layer (type)                 Output Shape              Param #   \n",
      "=================================================================\n",
      "conv2d (Conv2D)              (None, 123, 123, 32)      2432      \n",
      "_________________________________________________________________\n",
      "conv2d_1 (Conv2D)            (None, 121, 121, 32)      9248      \n",
      "_________________________________________________________________\n",
      "max_pooling2d (MaxPooling2D) (None, 40, 40, 32)        0         \n",
      "=================================================================\n",
      "Total params: 11,680\n",
      "Trainable params: 11,680\n",
      "Non-trainable params: 0\n",
      "_________________________________________________________________\n",
      "Model: \"sequential_6\"\n",
      "_________________________________________________________________\n",
      "Layer (type)                 Output Shape              Param #   \n",
      "=================================================================\n",
      "conv2d (Conv2D)              (None, 123, 123, 32)      2432      \n",
      "_________________________________________________________________\n",
      "conv2d_1 (Conv2D)            (None, 121, 121, 32)      9248      \n",
      "_________________________________________________________________\n",
      "max_pooling2d (MaxPooling2D) (None, 40, 40, 32)        0         \n",
      "_________________________________________________________________\n",
      "conv2d_2 (Conv2D)            (None, 38, 38, 32)        9248      \n",
      "_________________________________________________________________\n",
      "conv2d_3 (Conv2D)            (None, 36, 36, 32)        9248      \n",
      "_________________________________________________________________\n",
      "max_pooling2d_1 (MaxPooling2 (None, 12, 12, 32)        0         \n",
      "_________________________________________________________________\n",
      "conv2d_4 (Conv2D)            (None, 10, 10, 32)        9248      \n",
      "_________________________________________________________________\n",
      "conv2d_5 (Conv2D)            (None, 8, 8, 32)          9248      \n",
      "_________________________________________________________________\n",
      "max_pooling2d_2 (MaxPooling2 (None, 4, 4, 32)          0         \n",
      "=================================================================\n",
      "Total params: 48,672\n",
      "Trainable params: 48,672\n",
      "Non-trainable params: 0\n",
      "_________________________________________________________________\n",
      "time: 117 ms (started: 2021-08-23 17:34:56 +08:00)\n"
     ]
    }
   ],
   "source": [
    "model = keras.Sequential()\n",
    "model.add(keras.Input(shape=(250, 250, 3)))  # 250x250 RGB images\n",
    "model.add(layers.Conv2D(32, 5, strides=2, activation=\"relu\"))\n",
    "model.add(layers.Conv2D(32, 3, activation=\"relu\"))\n",
    "model.add(layers.MaxPooling2D(3))\n",
    "\n",
    "# Can you guess what the current output shape is at this point? Probably not.\n",
    "# Let's just print it:\n",
    "model.summary()\n",
    "\n",
    "# The answer was: (40, 40, 32), so we can keep downsampling...\n",
    "\n",
    "model.add(layers.Conv2D(32, 3, activation=\"relu\"))\n",
    "model.add(layers.Conv2D(32, 3, activation=\"relu\"))\n",
    "model.add(layers.MaxPooling2D(3))\n",
    "model.add(layers.Conv2D(32, 3, activation=\"relu\"))\n",
    "model.add(layers.Conv2D(32, 3, activation=\"relu\"))\n",
    "model.add(layers.MaxPooling2D(2))\n",
    "\n",
    "# And now?\n",
    "model.summary()\n",
    "\n",
    "# Now that we have 4x4 feature maps, time to apply global max pooling.\n",
    "model.add(layers.GlobalMaxPooling2D())\n",
    "\n",
    "# Finally, we add a classification layer.\n",
    "model.add(layers.Dense(10))"
   ]
  },
  {
   "cell_type": "markdown",
   "id": "global-night",
   "metadata": {},
   "source": [
    "很实用吧？"
   ]
  },
  {
   "cell_type": "markdown",
   "id": "frozen-casting",
   "metadata": {},
   "source": [
    "# 有了模型后该做什么"
   ]
  },
  {
   "cell_type": "markdown",
   "id": "beginning-chocolate",
   "metadata": {},
   "source": [
    "一旦您的模型架构准备就绪，您将需要：\n",
    "* 训练您的模型、评估它并运行推理。 请参阅我们的内置循环训练和评估指南\n",
    "* 将您的模型保存到磁盘并恢复它。 请参阅我们的序列化和保存指南。\n",
    "* 通过利用多个 GPU 加速模型训练。 请参阅我们的多 GPU 和分布式训练指南。"
   ]
  },
  {
   "cell_type": "markdown",
   "id": "solid-myrtle",
   "metadata": {},
   "source": [
    "# 使用序列模型进行特征提取"
   ]
  },
  {
   "cell_type": "markdown",
   "id": "swiss-monaco",
   "metadata": {},
   "source": [
    "一旦构建了 Sequential 模型，它的行为就像一个 Functional API 模型。 这意味着每一层都有一个输入和输出属性。 这些属性可以用来做一些巧妙的事情，比如快速创建一个模型，提取 Sequential 模型中所有中间层的输出："
   ]
  },
  {
   "cell_type": "code",
   "execution_count": 29,
   "id": "bizarre-color",
   "metadata": {},
   "outputs": [
    {
     "name": "stdout",
     "output_type": "stream",
     "text": [
      "time: 54.1 ms (started: 2021-08-23 17:38:23 +08:00)\n"
     ]
    }
   ],
   "source": [
    "initial_model = keras.Sequential(\n",
    "    [\n",
    "        layers.InputLayer(input_shape=(250, 250, 3)),\n",
    "        layers.Conv2D(32, 5, strides=2, activation=\"relu\"),\n",
    "        layers.Conv2D(32, 3, activation=\"relu\"),\n",
    "        layers.Conv2D(32, 3, activation=\"relu\"),\n",
    "    ]\n",
    ")\n",
    "feature_extractor = keras.Model(\n",
    "    inputs=initial_model.inputs,\n",
    "    outputs=[layer.output for layer in initial_model.layers],\n",
    ")\n",
    "\n",
    "# Call feature extractor on test input.\n",
    "x = tf.ones((1, 250, 250, 3))\n",
    "features = feature_extractor(x)"
   ]
  },
  {
   "cell_type": "markdown",
   "id": "deluxe-cause",
   "metadata": {},
   "source": [
    "这是一个仅从一层提取特征的类似示例："
   ]
  },
  {
   "cell_type": "code",
   "execution_count": 32,
   "id": "opposed-devices",
   "metadata": {},
   "outputs": [
    {
     "name": "stdout",
     "output_type": "stream",
     "text": [
      "time: 53.9 ms (started: 2021-08-23 17:40:11 +08:00)\n"
     ]
    }
   ],
   "source": [
    "initial_model = keras.Sequential(\n",
    "    [\n",
    "        layers.InputLayer(input_shape=(250, 250, 3)),\n",
    "        layers.Conv2D(32, 5, strides=2, activation=\"relu\"),\n",
    "        layers.Conv2D(32, 3, activation=\"relu\", name=\"my_intermediate_layer\"),\n",
    "        layers.Conv2D(32, 3, activation=\"relu\"),\n",
    "    ]\n",
    ")\n",
    "feature_extractor = keras.Model(\n",
    "    inputs=initial_model.inputs,\n",
    "    outputs=initial_model.get_layer(name=\"my_intermediate_layer\").output,\n",
    ")\n",
    "# Call feature extractor on test input.\n",
    "x = tf.ones((1, 250, 250, 3))\n",
    "features = feature_extractor(x)"
   ]
  },
  {
   "cell_type": "markdown",
   "id": "threaded-roman",
   "metadata": {},
   "source": [
    "# 使用序列模型进行迁移学习"
   ]
  },
  {
   "cell_type": "markdown",
   "id": "verbal-thailand",
   "metadata": {},
   "source": [
    "迁移学习包括冻结模型中的底层并仅训练顶层。 如果您不熟悉它，请务必阅读我们的迁移学习指南。\n",
    "\n",
    "以下是两个涉及序列模型的常见迁移学习蓝图。\n",
    "\n",
    "首先，假设您有一个 Sequential 模型，并且您想冻结除最后一层之外的所有层。 在这种情况下，您只需遍历 model.layers 并在除最后一层之外的每一层上设置 layer.trainable = False。 像这样："
   ]
  },
  {
   "cell_type": "code",
   "execution_count": null,
   "id": "latin-trainer",
   "metadata": {},
   "outputs": [],
   "source": [
    "model = keras.Sequential([\n",
    "    keras.Input(shape=(784)),\n",
    "    layers.Dense(32, activation='relu'),\n",
    "    layers.Dense(32, activation='relu'),\n",
    "    layers.Dense(32, activation='relu'),\n",
    "    layers.Dense(10),\n",
    "])\n",
    "\n",
    "# Presumably you would want to first load pre-trained weights.\n",
    "model.load_weights(...)\n",
    "\n",
    "# Freeze all layers except the last one.\n",
    "for layer in model.layers[:-1]:\n",
    "  layer.trainable = False\n",
    "\n",
    "# Recompile and train (this will only update the weights of the last layer).\n",
    "model.compile(...)\n",
    "model.fit(...)"
   ]
  },
  {
   "cell_type": "markdown",
   "id": "closed-johnson",
   "metadata": {},
   "source": [
    "另一个常见的蓝图是使用 Sequential 模型来堆叠一个预先训练好的模型和一些新初始化的分类层。 像这样："
   ]
  },
  {
   "cell_type": "code",
   "execution_count": null,
   "id": "natural-engineer",
   "metadata": {},
   "outputs": [],
   "source": [
    "# Load a convolutional base with pre-trained weights\n",
    "base_model = keras.applications.Xception(\n",
    "    weights='imagenet',\n",
    "    include_top=False,\n",
    "    pooling='avg')\n",
    "\n",
    "# Freeze the base model\n",
    "base_model.trainable = False\n",
    "\n",
    "# Use a Sequential model to add a trainable classifier on top\n",
    "model = keras.Sequential([\n",
    "    base_model,\n",
    "    layers.Dense(1000),\n",
    "])\n",
    "\n",
    "# Compile & train\n",
    "model.compile(...)\n",
    "model.fit(...)"
   ]
  },
  {
   "cell_type": "markdown",
   "id": "plain-china",
   "metadata": {},
   "source": [
    "如果您进行迁移学习，您可能会发现自己经常使用这两种模式。\n",
    "\n",
    "这就是您需要了解的有关序列模型的全部内容！\n",
    "\n",
    "要了解有关在 Keras 中构建模型的更多信息，请参阅：\n",
    "* 函数式 API 指南\n",
    "* 通过子类创建新层和模型的指南"
   ]
  },
  {
   "cell_type": "code",
   "execution_count": null,
   "id": "regular-peninsula",
   "metadata": {},
   "outputs": [],
   "source": []
  }
 ],
 "metadata": {
  "kernelspec": {
   "display_name": "Python [conda env:tensorflow]",
   "language": "python",
   "name": "conda-env-tensorflow-py"
  },
  "language_info": {
   "codemirror_mode": {
    "name": "ipython",
    "version": 3
   },
   "file_extension": ".py",
   "mimetype": "text/x-python",
   "name": "python",
   "nbconvert_exporter": "python",
   "pygments_lexer": "ipython3",
   "version": "3.8.10"
  }
 },
 "nbformat": 4,
 "nbformat_minor": 5
}
