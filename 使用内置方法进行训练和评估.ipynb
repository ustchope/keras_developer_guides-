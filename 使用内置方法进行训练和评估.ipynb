{
 "cells": [
  {
   "cell_type": "code",
   "execution_count": 10,
   "id": "injured-heritage",
   "metadata": {},
   "outputs": [
    {
     "name": "stdout",
     "output_type": "stream",
     "text": [
      "The autotime extension is already loaded. To reload it, use:\n",
      "  %reload_ext autotime\n",
      "time: 24.7 ms (started: 2021-08-23 11:16:17 +08:00)\n"
     ]
    }
   ],
   "source": [
    "# 自动计算cell的计算时间\n",
    "%load_ext autotime\n",
    "\n",
    "%matplotlib inline\n",
    "%config InlineBackend.figure_format='svg' #矢量图设置，让绘图更清晰"
   ]
  },
  {
   "cell_type": "code",
   "execution_count": 54,
   "id": "subjective-platform",
   "metadata": {},
   "outputs": [
    {
     "name": "stdout",
     "output_type": "stream",
     "text": [
      "origin\tgit@github.com:ustchope/keras_developer_guides-.git (fetch)\n",
      "origin\tgit@github.com:ustchope/keras_developer_guides-.git (push)\n",
      "[main b364734] 更新 #2  Aug 23, 2021\n",
      " 1 file changed, 1979 insertions(+), 100 deletions(-)\n"
     ]
    },
    {
     "name": "stderr",
     "output_type": "stream",
     "text": [
      "To git@github.com:ustchope/keras_developer_guides-.git\n",
      "   3aea551..b364734  main -> main\n"
     ]
    },
    {
     "name": "stdout",
     "output_type": "stream",
     "text": [
      "time: 4.84 s (started: 2021-08-23 12:29:47 +08:00)\n"
     ]
    }
   ],
   "source": [
    "%%bash\n",
    "\n",
    "# 增加更新\n",
    "git add *.ipynb *.md\n",
    "\n",
    "git remote -v\n",
    "\n",
    "git commit -m '更新 #2  Aug 23, 2021'\n",
    "\n",
    "#git push origin master\n",
    "git push"
   ]
  },
  {
   "cell_type": "code",
   "execution_count": 3,
   "id": "brief-party",
   "metadata": {},
   "outputs": [
    {
     "name": "stdout",
     "output_type": "stream",
     "text": [
      "time: 3.52 s (started: 2021-08-23 10:29:52 +08:00)\n"
     ]
    }
   ],
   "source": [
    "#设置使用的gpu\n",
    "import tensorflow as tf\n",
    "from tensorflow import keras\n",
    "\n",
    "gpus = tf.config.list_physical_devices(\"GPU\")\n",
    "\n",
    "if gpus:\n",
    "   \n",
    "    gpu0 = gpus[0] #如果有多个GPU，仅使用第0个GPU\n",
    "    tf.config.experimental.set_memory_growth(gpu0, True) #设置GPU显存用量按需使用\n",
    "    # 或者也可以设置GPU显存为固定使用量(例如：4G)\n",
    "    #tf.config.experimental.set_virtual_device_configuration(gpu0,\n",
    "    #    [tf.config.experimental.VirtualDeviceConfiguration(memory_limit=4096)]) \n",
    "    tf.config.set_visible_devices([gpu0],\"GPU\")"
   ]
  },
  {
   "cell_type": "markdown",
   "id": "municipal-material",
   "metadata": {},
   "source": [
    "# 设置"
   ]
  },
  {
   "cell_type": "code",
   "execution_count": 11,
   "id": "bound-simon",
   "metadata": {},
   "outputs": [
    {
     "name": "stdout",
     "output_type": "stream",
     "text": [
      "time: 832 µs (started: 2021-08-23 11:16:24 +08:00)\n"
     ]
    }
   ],
   "source": [
    "import tensorflow as tf\n",
    "from tensorflow import keras\n",
    "from tensorflow.keras import layers\n",
    "from tensorflow.keras.utils import plot_model"
   ]
  },
  {
   "cell_type": "markdown",
   "id": "latin-summer",
   "metadata": {},
   "source": [
    "# 简介"
   ]
  },
  {
   "cell_type": "markdown",
   "id": "rapid-system",
   "metadata": {},
   "source": [
    "本指南涵盖使用内置 API 进行训练和验证（例如 `Model.fit()`、`Model.evaluate()` 和 `Model.predict()`）时的训练、评估和预测（推理）模型。\n",
    "\n",
    "如果您对在指定自己的训练步骤函数时利用 `fit()` 感兴趣，请参阅自定义 `fit()` 指南。\n",
    "\n",
    "如果您有兴趣从头开始编写自己的训练和评估循环，请参阅“从头开始编写训练循环”指南。\n",
    "\n",
    "一般来说，无论您是使用内置循环还是编写自己的循环，模型训练和评估在每种 Keras 模型中都严格按照相同的方式进行——顺序模型、使用功能 API 构建的模型以及通过以下方式从头开始编写的模型 模型子类化。\n",
    "\n",
    "本指南不包括分布式训练，这在我们的多 GPU 和分布式训练指南中有所介绍。"
   ]
  },
  {
   "cell_type": "markdown",
   "id": "united-appraisal",
   "metadata": {},
   "source": [
    "# API 概述：第一个端到端示例"
   ]
  },
  {
   "cell_type": "markdown",
   "id": "middle-rotation",
   "metadata": {},
   "source": [
    "将数据传递给模型的内置训练循环时，您应该使用 NumPy 数组（如果您的数据很小并且适合内存）或 tf.data 数据集对象。 在接下来的几段中，我们将使用 MNIST 数据集作为 NumPy 数组，以演示如何使用优化器、损失和指标。\n",
    "\n",
    "让我们考虑以下模型（在这里，我们使用 Functional API 构建，但它也可以是 Sequential 模型或子类模型）："
   ]
  },
  {
   "cell_type": "code",
   "execution_count": 6,
   "id": "electric-mileage",
   "metadata": {},
   "outputs": [
    {
     "name": "stdout",
     "output_type": "stream",
     "text": [
      "time: 37.5 ms (started: 2021-08-23 10:29:59 +08:00)\n"
     ]
    }
   ],
   "source": [
    "inputs = keras.Input(shape=(784,), name=\"digits\")\n",
    "x = layers.Dense(64, activation=\"relu\", name=\"dense_1\")(inputs)\n",
    "x = layers.Dense(64, activation=\"relu\", name=\"dense_2\")(x)\n",
    "outputs = layers.Dense(10, activation=\"softmax\", name=\"predictions\")(x)\n",
    "\n",
    "model = keras.Model(inputs=inputs, outputs=outputs)"
   ]
  },
  {
   "cell_type": "code",
   "execution_count": 8,
   "id": "provincial-television",
   "metadata": {},
   "outputs": [
    {
     "name": "stdout",
     "output_type": "stream",
     "text": [
      "Model: \"model\"\n",
      "_________________________________________________________________\n",
      "Layer (type)                 Output Shape              Param #   \n",
      "=================================================================\n",
      "digits (InputLayer)          [(None, 784)]             0         \n",
      "_________________________________________________________________\n",
      "dense_1 (Dense)              (None, 64)                50240     \n",
      "_________________________________________________________________\n",
      "dense_2 (Dense)              (None, 64)                4160      \n",
      "_________________________________________________________________\n",
      "predictions (Dense)          (None, 10)                650       \n",
      "=================================================================\n",
      "Total params: 55,050\n",
      "Trainable params: 55,050\n",
      "Non-trainable params: 0\n",
      "_________________________________________________________________\n",
      "time: 4.22 ms (started: 2021-08-21 15:11:08 +08:00)\n"
     ]
    }
   ],
   "source": [
    "model.summary()"
   ]
  },
  {
   "cell_type": "code",
   "execution_count": 10,
   "id": "greek-banner",
   "metadata": {},
   "outputs": [
    {
     "data": {
      "image/png": "[encoded data removed]",
      "text/plain": [
       "<IPython.core.display.Image object>"
      ]
     },
     "execution_count": 10,
     "metadata": {},
     "output_type": "execute_result"
    },
    {
     "name": "stdout",
     "output_type": "stream",
     "text": [
      "time: 6.93 s (started: 2021-08-21 15:13:47 +08:00)\n"
     ]
    }
   ],
   "source": [
    "plot_model(model, show_shapes=True)"
   ]
  },
  {
   "cell_type": "markdown",
   "id": "behavioral-collective",
   "metadata": {},
   "source": [
    "以下是典型的端到端工作流程，包括：\n",
    "* 训练\n",
    "* 对从原始训练数据生成的保留集进行验证\n",
    "* 对测试数据的评估\n",
    "\n",
    "我们将在此示例中使用 MNIST 数据。"
   ]
  },
  {
   "cell_type": "code",
   "execution_count": 7,
   "id": "advance-powell",
   "metadata": {},
   "outputs": [
    {
     "name": "stdout",
     "output_type": "stream",
     "text": [
      "time: 437 ms (started: 2021-08-23 10:30:09 +08:00)\n"
     ]
    }
   ],
   "source": [
    "(x_train, y_train), (x_test, y_test) = keras.datasets.mnist.load_data()\n",
    "\n",
    "# Preprocess the data (these are NumPy arrays)\n",
    "x_train = x_train.reshape(60000, 784).astype(\"float32\") / 255\n",
    "x_test = x_test.reshape(10000, 784).astype(\"float32\") / 255\n",
    "\n",
    "y_train = y_train.astype(\"float32\")\n",
    "y_test = y_test.astype(\"float32\")\n",
    "\n",
    "# Reserve 10,000 samples for validation\n",
    "x_val = x_train[-10000:]\n",
    "y_val = y_train[-10000:]\n",
    "x_train = x_train[:-10000]\n",
    "y_train = y_train[:-10000]"
   ]
  },
  {
   "cell_type": "markdown",
   "id": "absent-worse",
   "metadata": {},
   "source": [
    "我们指定训练配置（优化器、损失、指标）："
   ]
  },
  {
   "cell_type": "code",
   "execution_count": 8,
   "id": "bulgarian-conversion",
   "metadata": {},
   "outputs": [
    {
     "name": "stdout",
     "output_type": "stream",
     "text": [
      "time: 22.8 ms (started: 2021-08-23 10:30:11 +08:00)\n"
     ]
    }
   ],
   "source": [
    "model.compile(\n",
    "    optimizer=keras.optimizers.RMSprop(),  # Optimizer\n",
    "    # Loss function to minimize\n",
    "    loss=keras.losses.SparseCategoricalCrossentropy(),\n",
    "    # List of metrics to monitor\n",
    "    metrics=[keras.metrics.SparseCategoricalAccuracy()],\n",
    ")"
   ]
  },
  {
   "cell_type": "markdown",
   "id": "radical-former",
   "metadata": {},
   "source": [
    "我们调用 fit()，它将通过将数据切成大小为 batch_size 的“批次”来训练模型，并在给定数量的 epoch 中重复迭代整个数据集。"
   ]
  },
  {
   "cell_type": "code",
   "execution_count": 9,
   "id": "saved-attendance",
   "metadata": {},
   "outputs": [
    {
     "name": "stdout",
     "output_type": "stream",
     "text": [
      "Fit model on training data\n",
      "Epoch 1/20\n",
      "782/782 [==============================] - 9s 9ms/step - loss: 0.3432 - sparse_categorical_accuracy: 0.9012 - val_loss: 0.2568 - val_sparse_categorical_accuracy: 0.9224\n",
      "Epoch 2/20\n",
      "782/782 [==============================] - 7s 9ms/step - loss: 0.1626 - sparse_categorical_accuracy: 0.9521 - val_loss: 0.1450 - val_sparse_categorical_accuracy: 0.9567\n",
      "Epoch 3/20\n",
      "782/782 [==============================] - 7s 10ms/step - loss: 0.1187 - sparse_categorical_accuracy: 0.9643 - val_loss: 0.1075 - val_sparse_categorical_accuracy: 0.9685\n",
      "Epoch 4/20\n",
      "782/782 [==============================] - 7s 9ms/step - loss: 0.0940 - sparse_categorical_accuracy: 0.9720 - val_loss: 0.1069 - val_sparse_categorical_accuracy: 0.9705\n",
      "Epoch 5/20\n",
      "782/782 [==============================] - 7s 9ms/step - loss: 0.0782 - sparse_categorical_accuracy: 0.9764 - val_loss: 0.1024 - val_sparse_categorical_accuracy: 0.9721\n",
      "Epoch 6/20\n",
      "782/782 [==============================] - 7s 9ms/step - loss: 0.0660 - sparse_categorical_accuracy: 0.9795 - val_loss: 0.1021 - val_sparse_categorical_accuracy: 0.9724\n",
      "Epoch 7/20\n",
      "782/782 [==============================] - 7s 9ms/step - loss: 0.0577 - sparse_categorical_accuracy: 0.9824 - val_loss: 0.0945 - val_sparse_categorical_accuracy: 0.9732\n",
      "Epoch 8/20\n",
      "782/782 [==============================] - 7s 9ms/step - loss: 0.0511 - sparse_categorical_accuracy: 0.9845 - val_loss: 0.1086 - val_sparse_categorical_accuracy: 0.9712\n",
      "Epoch 9/20\n",
      "782/782 [==============================] - 7s 9ms/step - loss: 0.0443 - sparse_categorical_accuracy: 0.9867 - val_loss: 0.1024 - val_sparse_categorical_accuracy: 0.9740\n",
      "Epoch 10/20\n",
      "782/782 [==============================] - 7s 9ms/step - loss: 0.0399 - sparse_categorical_accuracy: 0.9882 - val_loss: 0.1153 - val_sparse_categorical_accuracy: 0.9719\n",
      "Epoch 11/20\n",
      "782/782 [==============================] - 7s 9ms/step - loss: 0.0351 - sparse_categorical_accuracy: 0.9894 - val_loss: 0.1082 - val_sparse_categorical_accuracy: 0.9733\n",
      "Epoch 12/20\n",
      "782/782 [==============================] - 7s 10ms/step - loss: 0.0319 - sparse_categorical_accuracy: 0.9904 - val_loss: 0.1183 - val_sparse_categorical_accuracy: 0.9713\n",
      "Epoch 13/20\n",
      "782/782 [==============================] - 7s 9ms/step - loss: 0.0290 - sparse_categorical_accuracy: 0.9912 - val_loss: 0.1192 - val_sparse_categorical_accuracy: 0.9710\n",
      "Epoch 14/20\n",
      "782/782 [==============================] - 7s 9ms/step - loss: 0.0254 - sparse_categorical_accuracy: 0.9921 - val_loss: 0.1172 - val_sparse_categorical_accuracy: 0.9734\n",
      "Epoch 15/20\n",
      "782/782 [==============================] - 7s 9ms/step - loss: 0.0233 - sparse_categorical_accuracy: 0.9929 - val_loss: 0.1177 - val_sparse_categorical_accuracy: 0.9731\n",
      "Epoch 16/20\n",
      "782/782 [==============================] - 7s 9ms/step - loss: 0.0195 - sparse_categorical_accuracy: 0.9937 - val_loss: 0.1273 - val_sparse_categorical_accuracy: 0.9734\n",
      "Epoch 17/20\n",
      "782/782 [==============================] - 7s 9ms/step - loss: 0.0186 - sparse_categorical_accuracy: 0.9941 - val_loss: 0.1283 - val_sparse_categorical_accuracy: 0.9750\n",
      "Epoch 18/20\n",
      "782/782 [==============================] - 7s 9ms/step - loss: 0.0163 - sparse_categorical_accuracy: 0.9948 - val_loss: 0.1378 - val_sparse_categorical_accuracy: 0.9742\n",
      "Epoch 19/20\n",
      "782/782 [==============================] - 7s 9ms/step - loss: 0.0157 - sparse_categorical_accuracy: 0.9949 - val_loss: 0.1260 - val_sparse_categorical_accuracy: 0.9750\n",
      "Epoch 20/20\n",
      "782/782 [==============================] - 7s 9ms/step - loss: 0.0136 - sparse_categorical_accuracy: 0.9958 - val_loss: 0.1474 - val_sparse_categorical_accuracy: 0.9750\n",
      "time: 2min 28s (started: 2021-08-23 10:30:12 +08:00)\n"
     ]
    }
   ],
   "source": [
    "print(\"Fit model on training data\")\n",
    "history = model.fit(\n",
    "    x_train,\n",
    "    y_train,\n",
    "    batch_size=64,\n",
    "    epochs=20,\n",
    "    # We pass some validation for\n",
    "    # monitoring validation loss and metrics\n",
    "    # at the end of each epoch\n",
    "    validation_data=(x_val, y_val),\n",
    ")"
   ]
  },
  {
   "cell_type": "markdown",
   "id": "outside-europe",
   "metadata": {},
   "source": [
    "返回的历史对象保存了训练期间损失值和度量值的记录："
   ]
  },
  {
   "cell_type": "code",
   "execution_count": 11,
   "id": "demanding-floor",
   "metadata": {},
   "outputs": [
    {
     "data": {
      "text/plain": [
       "{'loss': [0.06649843603372574,\n",
       "  0.05826172977685928,\n",
       "  0.05100547522306442,\n",
       "  0.04415423795580864,\n",
       "  0.03883035108447075,\n",
       "  0.03441018983721733,\n",
       "  0.029938992112874985,\n",
       "  0.02597038261592388,\n",
       "  0.02442266047000885,\n",
       "  0.02133406326174736,\n",
       "  0.018334824591875076,\n",
       "  0.01701589673757553,\n",
       "  0.015719568356871605,\n",
       "  0.012882999144494534,\n",
       "  0.012036602944135666,\n",
       "  0.010108149610459805,\n",
       "  0.009029699489474297,\n",
       "  0.007908957079052925,\n",
       "  0.008356831967830658,\n",
       "  0.006960942409932613],\n",
       " 'sparse_categorical_accuracy': [0.9801599979400635,\n",
       "  0.98225998878479,\n",
       "  0.9843400120735168,\n",
       "  0.9873200058937073,\n",
       "  0.9884399771690369,\n",
       "  0.9891999959945679,\n",
       "  0.9907199740409851,\n",
       "  0.9918400049209595,\n",
       "  0.992579996585846,\n",
       "  0.993179976940155,\n",
       "  0.994159996509552,\n",
       "  0.9944999814033508,\n",
       "  0.9945600032806396,\n",
       "  0.9963200092315674,\n",
       "  0.9960399866104126,\n",
       "  0.9965000152587891,\n",
       "  0.9969199895858765,\n",
       "  0.9975200295448303,\n",
       "  0.997160017490387,\n",
       "  0.9976599812507629],\n",
       " 'val_loss': [0.10455715656280518,\n",
       "  0.1017419770359993,\n",
       "  0.09853212535381317,\n",
       "  0.10138551890850067,\n",
       "  0.10735378414392471,\n",
       "  0.10977509617805481,\n",
       "  0.11841493099927902,\n",
       "  0.12007121741771698,\n",
       "  0.12075959146022797,\n",
       "  0.11869637668132782,\n",
       "  0.14088751375675201,\n",
       "  0.1330828219652176,\n",
       "  0.13436360657215118,\n",
       "  0.13945050537586212,\n",
       "  0.15200114250183105,\n",
       "  0.16354362666606903,\n",
       "  0.1640605330467224,\n",
       "  0.14485836029052734,\n",
       "  0.16007626056671143,\n",
       "  0.1673385202884674],\n",
       " 'val_sparse_categorical_accuracy': [0.9693999886512756,\n",
       "  0.973800003528595,\n",
       "  0.9746999740600586,\n",
       "  0.9733999967575073,\n",
       "  0.9714999794960022,\n",
       "  0.9747999906539917,\n",
       "  0.9731000065803528,\n",
       "  0.9726999998092651,\n",
       "  0.9735999703407288,\n",
       "  0.9735999703407288,\n",
       "  0.9700000286102295,\n",
       "  0.9732000231742859,\n",
       "  0.9742000102996826,\n",
       "  0.9739999771118164,\n",
       "  0.9754999876022339,\n",
       "  0.9732000231742859,\n",
       "  0.9743000268936157,\n",
       "  0.9757000207901001,\n",
       "  0.9747999906539917,\n",
       "  0.9733999967575073]}"
      ]
     },
     "execution_count": 11,
     "metadata": {},
     "output_type": "execute_result"
    },
    {
     "name": "stdout",
     "output_type": "stream",
     "text": [
      "time: 9.83 ms (started: 2021-08-21 15:25:36 +08:00)\n"
     ]
    }
   ],
   "source": [
    "history.history"
   ]
  },
  {
   "cell_type": "code",
   "execution_count": 7,
   "id": "acceptable-holder",
   "metadata": {},
   "outputs": [
    {
     "name": "stdout",
     "output_type": "stream",
     "text": [
      "time: 1.16 ms (started: 2021-08-21 15:48:11 +08:00)\n"
     ]
    }
   ],
   "source": [
    "import matplotlib.pyplot as plt\n",
    "\n",
    "def plot_metric(history, metric):\n",
    "    train_metrics = history.history[metric]\n",
    "    val_metrics = history.history['val_'+metric]\n",
    "    epochs = range(1, len(train_metrics) + 1)\n",
    "    plt.plot(epochs, train_metrics, 'bo--')\n",
    "    plt.plot(epochs, val_metrics, 'ro-')\n",
    "    plt.title('Training and validation '+ metric)\n",
    "    plt.xlabel(\"Epochs\")\n",
    "    plt.ylabel(metric)\n",
    "    plt.legend([\"train_\"+metric, 'val_'+metric])\n",
    "    plt.show()"
   ]
  },
  {
   "cell_type": "code",
   "execution_count": 13,
   "id": "static-arkansas",
   "metadata": {},
   "outputs": [
    {
     "data": {
      "image/svg+xml": [
       "<?xml version=\"1.0\" encoding=\"utf-8\" standalone=\"no\"?>\n",
       "<!DOCTYPE svg PUBLIC \"-//W3C//DTD SVG 1.1//EN\"\n",
       "  \"http://www.w3.org/Graphics/SVG/1.1/DTD/svg11.dtd\">\n",
       "<svg height=\"277.314375pt\" version=\"1.1\" viewBox=\"0 0 392.14375 277.314375\" width=\"392.14375pt\" xmlns=\"http://www.w3.org/2000/svg\" xmlns:xlink=\"http://www.w3.org/1999/xlink\">\n",
       " <metadata>\n",
       "  <rdf:RDF xmlns:cc=\"http://creativecommons.org/ns#\" xmlns:dc=\"http://purl.org/dc/elements/1.1/\" xmlns:rdf=\"http://www.w3.org/1999/02/22-rdf-syntax-ns#\">\n",
       "   <cc:Work>\n",
       "    <dc:type rdf:resource=\"http://purl.org/dc/dcmitype/StillImage\"/>\n",
       "    <dc:date>2021-08-21T15:25:43.373791</dc:date>\n",
       "    <dc:format>image/svg+xml</dc:format>\n",
       "    <dc:creator>\n",
       "     <cc:Agent>\n",
       "      <dc:title>Matplotlib v3.4.2, https://matplotlib.org/</dc:title>\n",
       "     </cc:Agent>\n",
       "    </dc:creator>\n",
       "   </cc:Work>\n",
       "  </rdf:RDF>\n",
       " </metadata>\n",
       " <defs>\n",
       "  <style type=\"text/css\">*{stroke-linecap:butt;stroke-linejoin:round;}</style>\n",
       " </defs>\n",
       " <g id=\"figure_1\">\n",
       "  <g id=\"patch_1\">\n",
       "   <path d=\"M 0 277.314375 \n",
       "L 392.14375 277.314375 \n",
       "L 392.14375 0 \n",
       "L 0 0 \n",
       "z\n",
       "\" style=\"fill:none;\"/>\n",
       "  </g>\n",
       "  <g id=\"axes_1\">\n",
       "   <g id=\"patch_2\">\n",
       "    <path d=\"M 50.14375 239.758125 \n",
       "L 384.94375 239.758125 \n",
       "L 384.94375 22.318125 \n",
       "L 50.14375 22.318125 \n",
       "z\n",
       "\" style=\"fill:#ffffff;\"/>\n",
       "   </g>\n",
       "   <g id=\"matplotlib.axis_1\">\n",
       "    <g id=\"xtick_1\">\n",
       "     <g id=\"line2d_1\">\n",
       "      <defs>\n",
       "       <path d=\"M 0 0 \n",
       "L 0 3.5 \n",
       "\" id=\"mf42f8d2f71\" style=\"stroke:#000000;stroke-width:0.8;\"/>\n",
       "      </defs>\n",
       "      <g>\n",
       "       <use style=\"stroke:#000000;stroke-width:0.8;\" x=\"89.39064\" xlink:href=\"#mf42f8d2f71\" y=\"239.758125\"/>\n",
       "      </g>\n",
       "     </g>\n",
       "     <g id=\"text_1\">\n",
       "      <!-- 2.5 -->\n",
       "      <g transform=\"translate(81.439077 254.356562)scale(0.1 -0.1)\">\n",
       "       <defs>\n",
       "        <path d=\"M 1228 531 \n",
       "L 3431 531 \n",
       "L 3431 0 \n",
       "L 469 0 \n",
       "L 469 531 \n",
       "Q 828 903 1448 1529 \n",
       "Q 2069 2156 2228 2338 \n",
       "Q 2531 2678 2651 2914 \n",
       "Q 2772 3150 2772 3378 \n",
       "Q 2772 3750 2511 3984 \n",
       "Q 2250 4219 1831 4219 \n",
       "Q 1534 4219 1204 4116 \n",
       "Q 875 4013 500 3803 \n",
       "L 500 4441 \n",
       "Q 881 4594 1212 4672 \n",
       "Q 1544 4750 1819 4750 \n",
       "Q 2544 4750 2975 4387 \n",
       "Q 3406 4025 3406 3419 \n",
       "Q 3406 3131 3298 2873 \n",
       "Q 3191 2616 2906 2266 \n",
       "Q 2828 2175 2409 1742 \n",
       "Q 1991 1309 1228 531 \n",
       "z\n",
       "\" id=\"DejaVuSans-32\" transform=\"scale(0.015625)\"/>\n",
       "        <path d=\"M 684 794 \n",
       "L 1344 794 \n",
       "L 1344 0 \n",
       "L 684 0 \n",
       "L 684 794 \n",
       "z\n",
       "\" id=\"DejaVuSans-2e\" transform=\"scale(0.015625)\"/>\n",
       "        <path d=\"M 691 4666 \n",
       "L 3169 4666 \n",
       "L 3169 4134 \n",
       "L 1269 4134 \n",
       "L 1269 2991 \n",
       "Q 1406 3038 1543 3061 \n",
       "Q 1681 3084 1819 3084 \n",
       "Q 2600 3084 3056 2656 \n",
       "Q 3513 2228 3513 1497 \n",
       "Q 3513 744 3044 326 \n",
       "Q 2575 -91 1722 -91 \n",
       "Q 1428 -91 1123 -41 \n",
       "Q 819 9 494 109 \n",
       "L 494 744 \n",
       "Q 775 591 1075 516 \n",
       "Q 1375 441 1709 441 \n",
       "Q 2250 441 2565 725 \n",
       "Q 2881 1009 2881 1497 \n",
       "Q 2881 1984 2565 2268 \n",
       "Q 2250 2553 1709 2553 \n",
       "Q 1456 2553 1204 2497 \n",
       "Q 953 2441 691 2322 \n",
       "L 691 4666 \n",
       "z\n",
       "\" id=\"DejaVuSans-35\" transform=\"scale(0.015625)\"/>\n",
       "       </defs>\n",
       "       <use xlink:href=\"#DejaVuSans-32\"/>\n",
       "       <use x=\"63.623047\" xlink:href=\"#DejaVuSans-2e\"/>\n",
       "       <use x=\"95.410156\" xlink:href=\"#DejaVuSans-35\"/>\n",
       "      </g>\n",
       "     </g>\n",
       "    </g>\n",
       "    <g id=\"xtick_2\">\n",
       "     <g id=\"line2d_2\">\n",
       "      <g>\n",
       "       <use style=\"stroke:#000000;stroke-width:0.8;\" x=\"129.438487\" xlink:href=\"#mf42f8d2f71\" y=\"239.758125\"/>\n",
       "      </g>\n",
       "     </g>\n",
       "     <g id=\"text_2\">\n",
       "      <!-- 5.0 -->\n",
       "      <g transform=\"translate(121.486924 254.356562)scale(0.1 -0.1)\">\n",
       "       <defs>\n",
       "        <path d=\"M 2034 4250 \n",
       "Q 1547 4250 1301 3770 \n",
       "Q 1056 3291 1056 2328 \n",
       "Q 1056 1369 1301 889 \n",
       "Q 1547 409 2034 409 \n",
       "Q 2525 409 2770 889 \n",
       "Q 3016 1369 3016 2328 \n",
       "Q 3016 3291 2770 3770 \n",
       "Q 2525 4250 2034 4250 \n",
       "z\n",
       "M 2034 4750 \n",
       "Q 2819 4750 3233 4129 \n",
       "Q 3647 3509 3647 2328 \n",
       "Q 3647 1150 3233 529 \n",
       "Q 2819 -91 2034 -91 \n",
       "Q 1250 -91 836 529 \n",
       "Q 422 1150 422 2328 \n",
       "Q 422 3509 836 4129 \n",
       "Q 1250 4750 2034 4750 \n",
       "z\n",
       "\" id=\"DejaVuSans-30\" transform=\"scale(0.015625)\"/>\n",
       "       </defs>\n",
       "       <use xlink:href=\"#DejaVuSans-35\"/>\n",
       "       <use x=\"63.623047\" xlink:href=\"#DejaVuSans-2e\"/>\n",
       "       <use x=\"95.410156\" xlink:href=\"#DejaVuSans-30\"/>\n",
       "      </g>\n",
       "     </g>\n",
       "    </g>\n",
       "    <g id=\"xtick_3\">\n",
       "     <g id=\"line2d_3\">\n",
       "      <g>\n",
       "       <use style=\"stroke:#000000;stroke-width:0.8;\" x=\"169.486334\" xlink:href=\"#mf42f8d2f71\" y=\"239.758125\"/>\n",
       "      </g>\n",
       "     </g>\n",
       "     <g id=\"text_3\">\n",
       "      <!-- 7.5 -->\n",
       "      <g transform=\"translate(161.534771 254.356562)scale(0.1 -0.1)\">\n",
       "       <defs>\n",
       "        <path d=\"M 525 4666 \n",
       "L 3525 4666 \n",
       "L 3525 4397 \n",
       "L 1831 0 \n",
       "L 1172 0 \n",
       "L 2766 4134 \n",
       "L 525 4134 \n",
       "L 525 4666 \n",
       "z\n",
       "\" id=\"DejaVuSans-37\" transform=\"scale(0.015625)\"/>\n",
       "       </defs>\n",
       "       <use xlink:href=\"#DejaVuSans-37\"/>\n",
       "       <use x=\"63.623047\" xlink:href=\"#DejaVuSans-2e\"/>\n",
       "       <use x=\"95.410156\" xlink:href=\"#DejaVuSans-35\"/>\n",
       "      </g>\n",
       "     </g>\n",
       "    </g>\n",
       "    <g id=\"xtick_4\">\n",
       "     <g id=\"line2d_4\">\n",
       "      <g>\n",
       "       <use style=\"stroke:#000000;stroke-width:0.8;\" x=\"209.534181\" xlink:href=\"#mf42f8d2f71\" y=\"239.758125\"/>\n",
       "      </g>\n",
       "     </g>\n",
       "     <g id=\"text_4\">\n",
       "      <!-- 10.0 -->\n",
       "      <g transform=\"translate(198.401368 254.356562)scale(0.1 -0.1)\">\n",
       "       <defs>\n",
       "        <path d=\"M 794 531 \n",
       "L 1825 531 \n",
       "L 1825 4091 \n",
       "L 703 3866 \n",
       "L 703 4441 \n",
       "L 1819 4666 \n",
       "L 2450 4666 \n",
       "L 2450 531 \n",
       "L 3481 531 \n",
       "L 3481 0 \n",
       "L 794 0 \n",
       "L 794 531 \n",
       "z\n",
       "\" id=\"DejaVuSans-31\" transform=\"scale(0.015625)\"/>\n",
       "       </defs>\n",
       "       <use xlink:href=\"#DejaVuSans-31\"/>\n",
       "       <use x=\"63.623047\" xlink:href=\"#DejaVuSans-30\"/>\n",
       "       <use x=\"127.246094\" xlink:href=\"#DejaVuSans-2e\"/>\n",
       "       <use x=\"159.033203\" xlink:href=\"#DejaVuSans-30\"/>\n",
       "      </g>\n",
       "     </g>\n",
       "    </g>\n",
       "    <g id=\"xtick_5\">\n",
       "     <g id=\"line2d_5\">\n",
       "      <g>\n",
       "       <use style=\"stroke:#000000;stroke-width:0.8;\" x=\"249.582028\" xlink:href=\"#mf42f8d2f71\" y=\"239.758125\"/>\n",
       "      </g>\n",
       "     </g>\n",
       "     <g id=\"text_5\">\n",
       "      <!-- 12.5 -->\n",
       "      <g transform=\"translate(238.449215 254.356562)scale(0.1 -0.1)\">\n",
       "       <use xlink:href=\"#DejaVuSans-31\"/>\n",
       "       <use x=\"63.623047\" xlink:href=\"#DejaVuSans-32\"/>\n",
       "       <use x=\"127.246094\" xlink:href=\"#DejaVuSans-2e\"/>\n",
       "       <use x=\"159.033203\" xlink:href=\"#DejaVuSans-35\"/>\n",
       "      </g>\n",
       "     </g>\n",
       "    </g>\n",
       "    <g id=\"xtick_6\">\n",
       "     <g id=\"line2d_6\">\n",
       "      <g>\n",
       "       <use style=\"stroke:#000000;stroke-width:0.8;\" x=\"289.629874\" xlink:href=\"#mf42f8d2f71\" y=\"239.758125\"/>\n",
       "      </g>\n",
       "     </g>\n",
       "     <g id=\"text_6\">\n",
       "      <!-- 15.0 -->\n",
       "      <g transform=\"translate(278.497062 254.356562)scale(0.1 -0.1)\">\n",
       "       <use xlink:href=\"#DejaVuSans-31\"/>\n",
       "       <use x=\"63.623047\" xlink:href=\"#DejaVuSans-35\"/>\n",
       "       <use x=\"127.246094\" xlink:href=\"#DejaVuSans-2e\"/>\n",
       "       <use x=\"159.033203\" xlink:href=\"#DejaVuSans-30\"/>\n",
       "      </g>\n",
       "     </g>\n",
       "    </g>\n",
       "    <g id=\"xtick_7\">\n",
       "     <g id=\"line2d_7\">\n",
       "      <g>\n",
       "       <use style=\"stroke:#000000;stroke-width:0.8;\" x=\"329.677721\" xlink:href=\"#mf42f8d2f71\" y=\"239.758125\"/>\n",
       "      </g>\n",
       "     </g>\n",
       "     <g id=\"text_7\">\n",
       "      <!-- 17.5 -->\n",
       "      <g transform=\"translate(318.544909 254.356562)scale(0.1 -0.1)\">\n",
       "       <use xlink:href=\"#DejaVuSans-31\"/>\n",
       "       <use x=\"63.623047\" xlink:href=\"#DejaVuSans-37\"/>\n",
       "       <use x=\"127.246094\" xlink:href=\"#DejaVuSans-2e\"/>\n",
       "       <use x=\"159.033203\" xlink:href=\"#DejaVuSans-35\"/>\n",
       "      </g>\n",
       "     </g>\n",
       "    </g>\n",
       "    <g id=\"xtick_8\">\n",
       "     <g id=\"line2d_8\">\n",
       "      <g>\n",
       "       <use style=\"stroke:#000000;stroke-width:0.8;\" x=\"369.725568\" xlink:href=\"#mf42f8d2f71\" y=\"239.758125\"/>\n",
       "      </g>\n",
       "     </g>\n",
       "     <g id=\"text_8\">\n",
       "      <!-- 20.0 -->\n",
       "      <g transform=\"translate(358.592756 254.356562)scale(0.1 -0.1)\">\n",
       "       <use xlink:href=\"#DejaVuSans-32\"/>\n",
       "       <use x=\"63.623047\" xlink:href=\"#DejaVuSans-30\"/>\n",
       "       <use x=\"127.246094\" xlink:href=\"#DejaVuSans-2e\"/>\n",
       "       <use x=\"159.033203\" xlink:href=\"#DejaVuSans-30\"/>\n",
       "      </g>\n",
       "     </g>\n",
       "    </g>\n",
       "    <g id=\"text_9\">\n",
       "     <!-- Epochs -->\n",
       "     <g transform=\"translate(199.628125 268.034687)scale(0.1 -0.1)\">\n",
       "      <defs>\n",
       "       <path d=\"M 628 4666 \n",
       "L 3578 4666 \n",
       "L 3578 4134 \n",
       "L 1259 4134 \n",
       "L 1259 2753 \n",
       "L 3481 2753 \n",
       "L 3481 2222 \n",
       "L 1259 2222 \n",
       "L 1259 531 \n",
       "L 3634 531 \n",
       "L 3634 0 \n",
       "L 628 0 \n",
       "L 628 4666 \n",
       "z\n",
       "\" id=\"DejaVuSans-45\" transform=\"scale(0.015625)\"/>\n",
       "       <path d=\"M 1159 525 \n",
       "L 1159 -1331 \n",
       "L 581 -1331 \n",
       "L 581 3500 \n",
       "L 1159 3500 \n",
       "L 1159 2969 \n",
       "Q 1341 3281 1617 3432 \n",
       "Q 1894 3584 2278 3584 \n",
       "Q 2916 3584 3314 3078 \n",
       "Q 3713 2572 3713 1747 \n",
       "Q 3713 922 3314 415 \n",
       "Q 2916 -91 2278 -91 \n",
       "Q 1894 -91 1617 61 \n",
       "Q 1341 213 1159 525 \n",
       "z\n",
       "M 3116 1747 \n",
       "Q 3116 2381 2855 2742 \n",
       "Q 2594 3103 2138 3103 \n",
       "Q 1681 3103 1420 2742 \n",
       "Q 1159 2381 1159 1747 \n",
       "Q 1159 1113 1420 752 \n",
       "Q 1681 391 2138 391 \n",
       "Q 2594 391 2855 752 \n",
       "Q 3116 1113 3116 1747 \n",
       "z\n",
       "\" id=\"DejaVuSans-70\" transform=\"scale(0.015625)\"/>\n",
       "       <path d=\"M 1959 3097 \n",
       "Q 1497 3097 1228 2736 \n",
       "Q 959 2375 959 1747 \n",
       "Q 959 1119 1226 758 \n",
       "Q 1494 397 1959 397 \n",
       "Q 2419 397 2687 759 \n",
       "Q 2956 1122 2956 1747 \n",
       "Q 2956 2369 2687 2733 \n",
       "Q 2419 3097 1959 3097 \n",
       "z\n",
       "M 1959 3584 \n",
       "Q 2709 3584 3137 3096 \n",
       "Q 3566 2609 3566 1747 \n",
       "Q 3566 888 3137 398 \n",
       "Q 2709 -91 1959 -91 \n",
       "Q 1206 -91 779 398 \n",
       "Q 353 888 353 1747 \n",
       "Q 353 2609 779 3096 \n",
       "Q 1206 3584 1959 3584 \n",
       "z\n",
       "\" id=\"DejaVuSans-6f\" transform=\"scale(0.015625)\"/>\n",
       "       <path d=\"M 3122 3366 \n",
       "L 3122 2828 \n",
       "Q 2878 2963 2633 3030 \n",
       "Q 2388 3097 2138 3097 \n",
       "Q 1578 3097 1268 2742 \n",
       "Q 959 2388 959 1747 \n",
       "Q 959 1106 1268 751 \n",
       "Q 1578 397 2138 397 \n",
       "Q 2388 397 2633 464 \n",
       "Q 2878 531 3122 666 \n",
       "L 3122 134 \n",
       "Q 2881 22 2623 -34 \n",
       "Q 2366 -91 2075 -91 \n",
       "Q 1284 -91 818 406 \n",
       "Q 353 903 353 1747 \n",
       "Q 353 2603 823 3093 \n",
       "Q 1294 3584 2113 3584 \n",
       "Q 2378 3584 2631 3529 \n",
       "Q 2884 3475 3122 3366 \n",
       "z\n",
       "\" id=\"DejaVuSans-63\" transform=\"scale(0.015625)\"/>\n",
       "       <path d=\"M 3513 2113 \n",
       "L 3513 0 \n",
       "L 2938 0 \n",
       "L 2938 2094 \n",
       "Q 2938 2591 2744 2837 \n",
       "Q 2550 3084 2163 3084 \n",
       "Q 1697 3084 1428 2787 \n",
       "Q 1159 2491 1159 1978 \n",
       "L 1159 0 \n",
       "L 581 0 \n",
       "L 581 4863 \n",
       "L 1159 4863 \n",
       "L 1159 2956 \n",
       "Q 1366 3272 1645 3428 \n",
       "Q 1925 3584 2291 3584 \n",
       "Q 2894 3584 3203 3211 \n",
       "Q 3513 2838 3513 2113 \n",
       "z\n",
       "\" id=\"DejaVuSans-68\" transform=\"scale(0.015625)\"/>\n",
       "       <path d=\"M 2834 3397 \n",
       "L 2834 2853 \n",
       "Q 2591 2978 2328 3040 \n",
       "Q 2066 3103 1784 3103 \n",
       "Q 1356 3103 1142 2972 \n",
       "Q 928 2841 928 2578 \n",
       "Q 928 2378 1081 2264 \n",
       "Q 1234 2150 1697 2047 \n",
       "L 1894 2003 \n",
       "Q 2506 1872 2764 1633 \n",
       "Q 3022 1394 3022 966 \n",
       "Q 3022 478 2636 193 \n",
       "Q 2250 -91 1575 -91 \n",
       "Q 1294 -91 989 -36 \n",
       "Q 684 19 347 128 \n",
       "L 347 722 \n",
       "Q 666 556 975 473 \n",
       "Q 1284 391 1588 391 \n",
       "Q 1994 391 2212 530 \n",
       "Q 2431 669 2431 922 \n",
       "Q 2431 1156 2273 1281 \n",
       "Q 2116 1406 1581 1522 \n",
       "L 1381 1569 \n",
       "Q 847 1681 609 1914 \n",
       "Q 372 2147 372 2553 \n",
       "Q 372 3047 722 3315 \n",
       "Q 1072 3584 1716 3584 \n",
       "Q 2034 3584 2315 3537 \n",
       "Q 2597 3491 2834 3397 \n",
       "z\n",
       "\" id=\"DejaVuSans-73\" transform=\"scale(0.015625)\"/>\n",
       "      </defs>\n",
       "      <use xlink:href=\"#DejaVuSans-45\"/>\n",
       "      <use x=\"63.183594\" xlink:href=\"#DejaVuSans-70\"/>\n",
       "      <use x=\"126.660156\" xlink:href=\"#DejaVuSans-6f\"/>\n",
       "      <use x=\"187.841797\" xlink:href=\"#DejaVuSans-63\"/>\n",
       "      <use x=\"242.822266\" xlink:href=\"#DejaVuSans-68\"/>\n",
       "      <use x=\"306.201172\" xlink:href=\"#DejaVuSans-73\"/>\n",
       "     </g>\n",
       "    </g>\n",
       "   </g>\n",
       "   <g id=\"matplotlib.axis_2\">\n",
       "    <g id=\"ytick_1\">\n",
       "     <g id=\"line2d_9\">\n",
       "      <defs>\n",
       "       <path d=\"M 0 0 \n",
       "L -3.5 0 \n",
       "\" id=\"m8818a5c97f\" style=\"stroke:#000000;stroke-width:0.8;\"/>\n",
       "      </defs>\n",
       "      <g>\n",
       "       <use style=\"stroke:#000000;stroke-width:0.8;\" x=\"50.14375\" xlink:href=\"#m8818a5c97f\" y=\"238.45417\"/>\n",
       "      </g>\n",
       "     </g>\n",
       "     <g id=\"text_10\">\n",
       "      <!-- 0.00 -->\n",
       "      <g transform=\"translate(20.878125 242.253388)scale(0.1 -0.1)\">\n",
       "       <use xlink:href=\"#DejaVuSans-30\"/>\n",
       "       <use x=\"63.623047\" xlink:href=\"#DejaVuSans-2e\"/>\n",
       "       <use x=\"95.410156\" xlink:href=\"#DejaVuSans-30\"/>\n",
       "       <use x=\"159.033203\" xlink:href=\"#DejaVuSans-30\"/>\n",
       "      </g>\n",
       "     </g>\n",
       "    </g>\n",
       "    <g id=\"ytick_2\">\n",
       "     <g id=\"line2d_10\">\n",
       "      <g>\n",
       "       <use style=\"stroke:#000000;stroke-width:0.8;\" x=\"50.14375\" xlink:href=\"#m8818a5c97f\" y=\"213.803252\"/>\n",
       "      </g>\n",
       "     </g>\n",
       "     <g id=\"text_11\">\n",
       "      <!-- 0.02 -->\n",
       "      <g transform=\"translate(20.878125 217.60247)scale(0.1 -0.1)\">\n",
       "       <use xlink:href=\"#DejaVuSans-30\"/>\n",
       "       <use x=\"63.623047\" xlink:href=\"#DejaVuSans-2e\"/>\n",
       "       <use x=\"95.410156\" xlink:href=\"#DejaVuSans-30\"/>\n",
       "       <use x=\"159.033203\" xlink:href=\"#DejaVuSans-32\"/>\n",
       "      </g>\n",
       "     </g>\n",
       "    </g>\n",
       "    <g id=\"ytick_3\">\n",
       "     <g id=\"line2d_11\">\n",
       "      <g>\n",
       "       <use style=\"stroke:#000000;stroke-width:0.8;\" x=\"50.14375\" xlink:href=\"#m8818a5c97f\" y=\"189.152333\"/>\n",
       "      </g>\n",
       "     </g>\n",
       "     <g id=\"text_12\">\n",
       "      <!-- 0.04 -->\n",
       "      <g transform=\"translate(20.878125 192.951552)scale(0.1 -0.1)\">\n",
       "       <defs>\n",
       "        <path d=\"M 2419 4116 \n",
       "L 825 1625 \n",
       "L 2419 1625 \n",
       "L 2419 4116 \n",
       "z\n",
       "M 2253 4666 \n",
       "L 3047 4666 \n",
       "L 3047 1625 \n",
       "L 3713 1625 \n",
       "L 3713 1100 \n",
       "L 3047 1100 \n",
       "L 3047 0 \n",
       "L 2419 0 \n",
       "L 2419 1100 \n",
       "L 313 1100 \n",
       "L 313 1709 \n",
       "L 2253 4666 \n",
       "z\n",
       "\" id=\"DejaVuSans-34\" transform=\"scale(0.015625)\"/>\n",
       "       </defs>\n",
       "       <use xlink:href=\"#DejaVuSans-30\"/>\n",
       "       <use x=\"63.623047\" xlink:href=\"#DejaVuSans-2e\"/>\n",
       "       <use x=\"95.410156\" xlink:href=\"#DejaVuSans-30\"/>\n",
       "       <use x=\"159.033203\" xlink:href=\"#DejaVuSans-34\"/>\n",
       "      </g>\n",
       "     </g>\n",
       "    </g>\n",
       "    <g id=\"ytick_4\">\n",
       "     <g id=\"line2d_12\">\n",
       "      <g>\n",
       "       <use style=\"stroke:#000000;stroke-width:0.8;\" x=\"50.14375\" xlink:href=\"#m8818a5c97f\" y=\"164.501415\"/>\n",
       "      </g>\n",
       "     </g>\n",
       "     <g id=\"text_13\">\n",
       "      <!-- 0.06 -->\n",
       "      <g transform=\"translate(20.878125 168.300634)scale(0.1 -0.1)\">\n",
       "       <defs>\n",
       "        <path d=\"M 2113 2584 \n",
       "Q 1688 2584 1439 2293 \n",
       "Q 1191 2003 1191 1497 \n",
       "Q 1191 994 1439 701 \n",
       "Q 1688 409 2113 409 \n",
       "Q 2538 409 2786 701 \n",
       "Q 3034 994 3034 1497 \n",
       "Q 3034 2003 2786 2293 \n",
       "Q 2538 2584 2113 2584 \n",
       "z\n",
       "M 3366 4563 \n",
       "L 3366 3988 \n",
       "Q 3128 4100 2886 4159 \n",
       "Q 2644 4219 2406 4219 \n",
       "Q 1781 4219 1451 3797 \n",
       "Q 1122 3375 1075 2522 \n",
       "Q 1259 2794 1537 2939 \n",
       "Q 1816 3084 2150 3084 \n",
       "Q 2853 3084 3261 2657 \n",
       "Q 3669 2231 3669 1497 \n",
       "Q 3669 778 3244 343 \n",
       "Q 2819 -91 2113 -91 \n",
       "Q 1303 -91 875 529 \n",
       "Q 447 1150 447 2328 \n",
       "Q 447 3434 972 4092 \n",
       "Q 1497 4750 2381 4750 \n",
       "Q 2619 4750 2861 4703 \n",
       "Q 3103 4656 3366 4563 \n",
       "z\n",
       "\" id=\"DejaVuSans-36\" transform=\"scale(0.015625)\"/>\n",
       "       </defs>\n",
       "       <use xlink:href=\"#DejaVuSans-30\"/>\n",
       "       <use x=\"63.623047\" xlink:href=\"#DejaVuSans-2e\"/>\n",
       "       <use x=\"95.410156\" xlink:href=\"#DejaVuSans-30\"/>\n",
       "       <use x=\"159.033203\" xlink:href=\"#DejaVuSans-36\"/>\n",
       "      </g>\n",
       "     </g>\n",
       "    </g>\n",
       "    <g id=\"ytick_5\">\n",
       "     <g id=\"line2d_13\">\n",
       "      <g>\n",
       "       <use style=\"stroke:#000000;stroke-width:0.8;\" x=\"50.14375\" xlink:href=\"#m8818a5c97f\" y=\"139.850497\"/>\n",
       "      </g>\n",
       "     </g>\n",
       "     <g id=\"text_14\">\n",
       "      <!-- 0.08 -->\n",
       "      <g transform=\"translate(20.878125 143.649716)scale(0.1 -0.1)\">\n",
       "       <defs>\n",
       "        <path d=\"M 2034 2216 \n",
       "Q 1584 2216 1326 1975 \n",
       "Q 1069 1734 1069 1313 \n",
       "Q 1069 891 1326 650 \n",
       "Q 1584 409 2034 409 \n",
       "Q 2484 409 2743 651 \n",
       "Q 3003 894 3003 1313 \n",
       "Q 3003 1734 2745 1975 \n",
       "Q 2488 2216 2034 2216 \n",
       "z\n",
       "M 1403 2484 \n",
       "Q 997 2584 770 2862 \n",
       "Q 544 3141 544 3541 \n",
       "Q 544 4100 942 4425 \n",
       "Q 1341 4750 2034 4750 \n",
       "Q 2731 4750 3128 4425 \n",
       "Q 3525 4100 3525 3541 \n",
       "Q 3525 3141 3298 2862 \n",
       "Q 3072 2584 2669 2484 \n",
       "Q 3125 2378 3379 2068 \n",
       "Q 3634 1759 3634 1313 \n",
       "Q 3634 634 3220 271 \n",
       "Q 2806 -91 2034 -91 \n",
       "Q 1263 -91 848 271 \n",
       "Q 434 634 434 1313 \n",
       "Q 434 1759 690 2068 \n",
       "Q 947 2378 1403 2484 \n",
       "z\n",
       "M 1172 3481 \n",
       "Q 1172 3119 1398 2916 \n",
       "Q 1625 2713 2034 2713 \n",
       "Q 2441 2713 2670 2916 \n",
       "Q 2900 3119 2900 3481 \n",
       "Q 2900 3844 2670 4047 \n",
       "Q 2441 4250 2034 4250 \n",
       "Q 1625 4250 1398 4047 \n",
       "Q 1172 3844 1172 3481 \n",
       "z\n",
       "\" id=\"DejaVuSans-38\" transform=\"scale(0.015625)\"/>\n",
       "       </defs>\n",
       "       <use xlink:href=\"#DejaVuSans-30\"/>\n",
       "       <use x=\"63.623047\" xlink:href=\"#DejaVuSans-2e\"/>\n",
       "       <use x=\"95.410156\" xlink:href=\"#DejaVuSans-30\"/>\n",
       "       <use x=\"159.033203\" xlink:href=\"#DejaVuSans-38\"/>\n",
       "      </g>\n",
       "     </g>\n",
       "    </g>\n",
       "    <g id=\"ytick_6\">\n",
       "     <g id=\"line2d_14\">\n",
       "      <g>\n",
       "       <use style=\"stroke:#000000;stroke-width:0.8;\" x=\"50.14375\" xlink:href=\"#m8818a5c97f\" y=\"115.199579\"/>\n",
       "      </g>\n",
       "     </g>\n",
       "     <g id=\"text_15\">\n",
       "      <!-- 0.10 -->\n",
       "      <g transform=\"translate(20.878125 118.998798)scale(0.1 -0.1)\">\n",
       "       <use xlink:href=\"#DejaVuSans-30\"/>\n",
       "       <use x=\"63.623047\" xlink:href=\"#DejaVuSans-2e\"/>\n",
       "       <use x=\"95.410156\" xlink:href=\"#DejaVuSans-31\"/>\n",
       "       <use x=\"159.033203\" xlink:href=\"#DejaVuSans-30\"/>\n",
       "      </g>\n",
       "     </g>\n",
       "    </g>\n",
       "    <g id=\"ytick_7\">\n",
       "     <g id=\"line2d_15\">\n",
       "      <g>\n",
       "       <use style=\"stroke:#000000;stroke-width:0.8;\" x=\"50.14375\" xlink:href=\"#m8818a5c97f\" y=\"90.548661\"/>\n",
       "      </g>\n",
       "     </g>\n",
       "     <g id=\"text_16\">\n",
       "      <!-- 0.12 -->\n",
       "      <g transform=\"translate(20.878125 94.34788)scale(0.1 -0.1)\">\n",
       "       <use xlink:href=\"#DejaVuSans-30\"/>\n",
       "       <use x=\"63.623047\" xlink:href=\"#DejaVuSans-2e\"/>\n",
       "       <use x=\"95.410156\" xlink:href=\"#DejaVuSans-31\"/>\n",
       "       <use x=\"159.033203\" xlink:href=\"#DejaVuSans-32\"/>\n",
       "      </g>\n",
       "     </g>\n",
       "    </g>\n",
       "    <g id=\"ytick_8\">\n",
       "     <g id=\"line2d_16\">\n",
       "      <g>\n",
       "       <use style=\"stroke:#000000;stroke-width:0.8;\" x=\"50.14375\" xlink:href=\"#m8818a5c97f\" y=\"65.897743\"/>\n",
       "      </g>\n",
       "     </g>\n",
       "     <g id=\"text_17\">\n",
       "      <!-- 0.14 -->\n",
       "      <g transform=\"translate(20.878125 69.696961)scale(0.1 -0.1)\">\n",
       "       <use xlink:href=\"#DejaVuSans-30\"/>\n",
       "       <use x=\"63.623047\" xlink:href=\"#DejaVuSans-2e\"/>\n",
       "       <use x=\"95.410156\" xlink:href=\"#DejaVuSans-31\"/>\n",
       "       <use x=\"159.033203\" xlink:href=\"#DejaVuSans-34\"/>\n",
       "      </g>\n",
       "     </g>\n",
       "    </g>\n",
       "    <g id=\"ytick_9\">\n",
       "     <g id=\"line2d_17\">\n",
       "      <g>\n",
       "       <use style=\"stroke:#000000;stroke-width:0.8;\" x=\"50.14375\" xlink:href=\"#m8818a5c97f\" y=\"41.246825\"/>\n",
       "      </g>\n",
       "     </g>\n",
       "     <g id=\"text_18\">\n",
       "      <!-- 0.16 -->\n",
       "      <g transform=\"translate(20.878125 45.046043)scale(0.1 -0.1)\">\n",
       "       <use xlink:href=\"#DejaVuSans-30\"/>\n",
       "       <use x=\"63.623047\" xlink:href=\"#DejaVuSans-2e\"/>\n",
       "       <use x=\"95.410156\" xlink:href=\"#DejaVuSans-31\"/>\n",
       "       <use x=\"159.033203\" xlink:href=\"#DejaVuSans-36\"/>\n",
       "      </g>\n",
       "     </g>\n",
       "    </g>\n",
       "    <g id=\"text_19\">\n",
       "     <!-- loss -->\n",
       "     <g transform=\"translate(14.798438 140.695937)rotate(-90)scale(0.1 -0.1)\">\n",
       "      <defs>\n",
       "       <path d=\"M 603 4863 \n",
       "L 1178 4863 \n",
       "L 1178 0 \n",
       "L 603 0 \n",
       "L 603 4863 \n",
       "z\n",
       "\" id=\"DejaVuSans-6c\" transform=\"scale(0.015625)\"/>\n",
       "      </defs>\n",
       "      <use xlink:href=\"#DejaVuSans-6c\"/>\n",
       "      <use x=\"27.783203\" xlink:href=\"#DejaVuSans-6f\"/>\n",
       "      <use x=\"88.964844\" xlink:href=\"#DejaVuSans-73\"/>\n",
       "      <use x=\"141.064453\" xlink:href=\"#DejaVuSans-73\"/>\n",
       "     </g>\n",
       "    </g>\n",
       "   </g>\n",
       "   <g id=\"line2d_18\">\n",
       "    <path clip-path=\"url(#p8092e1d7b5)\" d=\"M 65.361932 156.491795 \n",
       "L 81.381071 166.643913 \n",
       "L 97.400209 175.58758 \n",
       "L 113.419348 184.032044 \n",
       "L 129.438487 190.593979 \n",
       "L 145.457626 196.042031 \n",
       "L 161.476764 201.552988 \n",
       "L 177.495903 206.444481 \n",
       "L 193.515042 208.35212 \n",
       "L 209.534181 212.158957 \n",
       "L 225.553319 215.855657 \n",
       "L 241.572458 217.481296 \n",
       "L 257.591597 219.07908 \n",
       "L 273.610736 222.575282 \n",
       "L 289.629874 223.618504 \n",
       "L 305.649013 225.995411 \n",
       "L 321.668152 227.324651 \n",
       "L 337.687291 228.706017 \n",
       "L 353.706429 228.153991 \n",
       "L 369.725568 229.874489 \n",
       "\" style=\"fill:none;stroke:#0000ff;stroke-dasharray:5.55,2.4;stroke-dashoffset:0;stroke-width:1.5;\"/>\n",
       "    <defs>\n",
       "     <path d=\"M 0 3 \n",
       "C 0.795609 3 1.55874 2.683901 2.12132 2.12132 \n",
       "C 2.683901 1.55874 3 0.795609 3 0 \n",
       "C 3 -0.795609 2.683901 -1.55874 2.12132 -2.12132 \n",
       "C 1.55874 -2.683901 0.795609 -3 0 -3 \n",
       "C -0.795609 -3 -1.55874 -2.683901 -2.12132 -2.12132 \n",
       "C -2.683901 -1.55874 -3 -0.795609 -3 0 \n",
       "C -3 0.795609 -2.683901 1.55874 -2.12132 2.12132 \n",
       "C -1.55874 2.683901 -0.795609 3 0 3 \n",
       "z\n",
       "\" id=\"mb7505a05ef\" style=\"stroke:#0000ff;\"/>\n",
       "    </defs>\n",
       "    <g clip-path=\"url(#p8092e1d7b5)\">\n",
       "     <use style=\"fill:#0000ff;stroke:#0000ff;\" x=\"65.361932\" xlink:href=\"#mb7505a05ef\" y=\"156.491795\"/>\n",
       "     <use style=\"fill:#0000ff;stroke:#0000ff;\" x=\"81.381071\" xlink:href=\"#mb7505a05ef\" y=\"166.643913\"/>\n",
       "     <use style=\"fill:#0000ff;stroke:#0000ff;\" x=\"97.400209\" xlink:href=\"#mb7505a05ef\" y=\"175.58758\"/>\n",
       "     <use style=\"fill:#0000ff;stroke:#0000ff;\" x=\"113.419348\" xlink:href=\"#mb7505a05ef\" y=\"184.032044\"/>\n",
       "     <use style=\"fill:#0000ff;stroke:#0000ff;\" x=\"129.438487\" xlink:href=\"#mb7505a05ef\" y=\"190.593979\"/>\n",
       "     <use style=\"fill:#0000ff;stroke:#0000ff;\" x=\"145.457626\" xlink:href=\"#mb7505a05ef\" y=\"196.042031\"/>\n",
       "     <use style=\"fill:#0000ff;stroke:#0000ff;\" x=\"161.476764\" xlink:href=\"#mb7505a05ef\" y=\"201.552988\"/>\n",
       "     <use style=\"fill:#0000ff;stroke:#0000ff;\" x=\"177.495903\" xlink:href=\"#mb7505a05ef\" y=\"206.444481\"/>\n",
       "     <use style=\"fill:#0000ff;stroke:#0000ff;\" x=\"193.515042\" xlink:href=\"#mb7505a05ef\" y=\"208.35212\"/>\n",
       "     <use style=\"fill:#0000ff;stroke:#0000ff;\" x=\"209.534181\" xlink:href=\"#mb7505a05ef\" y=\"212.158957\"/>\n",
       "     <use style=\"fill:#0000ff;stroke:#0000ff;\" x=\"225.553319\" xlink:href=\"#mb7505a05ef\" y=\"215.855657\"/>\n",
       "     <use style=\"fill:#0000ff;stroke:#0000ff;\" x=\"241.572458\" xlink:href=\"#mb7505a05ef\" y=\"217.481296\"/>\n",
       "     <use style=\"fill:#0000ff;stroke:#0000ff;\" x=\"257.591597\" xlink:href=\"#mb7505a05ef\" y=\"219.07908\"/>\n",
       "     <use style=\"fill:#0000ff;stroke:#0000ff;\" x=\"273.610736\" xlink:href=\"#mb7505a05ef\" y=\"222.575282\"/>\n",
       "     <use style=\"fill:#0000ff;stroke:#0000ff;\" x=\"289.629874\" xlink:href=\"#mb7505a05ef\" y=\"223.618504\"/>\n",
       "     <use style=\"fill:#0000ff;stroke:#0000ff;\" x=\"305.649013\" xlink:href=\"#mb7505a05ef\" y=\"225.995411\"/>\n",
       "     <use style=\"fill:#0000ff;stroke:#0000ff;\" x=\"321.668152\" xlink:href=\"#mb7505a05ef\" y=\"227.324651\"/>\n",
       "     <use style=\"fill:#0000ff;stroke:#0000ff;\" x=\"337.687291\" xlink:href=\"#mb7505a05ef\" y=\"228.706017\"/>\n",
       "     <use style=\"fill:#0000ff;stroke:#0000ff;\" x=\"353.706429\" xlink:href=\"#mb7505a05ef\" y=\"228.153991\"/>\n",
       "     <use style=\"fill:#0000ff;stroke:#0000ff;\" x=\"369.725568\" xlink:href=\"#mb7505a05ef\" y=\"229.874489\"/>\n",
       "    </g>\n",
       "   </g>\n",
       "   <g id=\"line2d_19\">\n",
       "    <path clip-path=\"url(#p8092e1d7b5)\" d=\"M 65.361932 109.582674 \n",
       "L 81.381071 113.052512 \n",
       "L 97.400209 117.008802 \n",
       "L 113.419348 113.491863 \n",
       "L 129.438487 106.135702 \n",
       "L 145.457626 103.151324 \n",
       "L 161.476764 92.502331 \n",
       "L 177.495903 90.460882 \n",
       "L 193.515042 89.612429 \n",
       "L 209.534181 92.155436 \n",
       "L 225.553319 64.803841 \n",
       "L 241.572458 74.423482 \n",
       "L 257.591597 72.844856 \n",
       "L 273.610736 66.57502 \n",
       "L 289.629874 51.105784 \n",
       "L 305.649013 36.879142 \n",
       "L 321.668152 36.242031 \n",
       "L 337.687291 59.909591 \n",
       "L 353.706429 41.15283 \n",
       "L 369.725568 32.201761 \n",
       "\" style=\"fill:none;stroke:#ff0000;stroke-linecap:square;stroke-width:1.5;\"/>\n",
       "    <defs>\n",
       "     <path d=\"M 0 3 \n",
       "C 0.795609 3 1.55874 2.683901 2.12132 2.12132 \n",
       "C 2.683901 1.55874 3 0.795609 3 0 \n",
       "C 3 -0.795609 2.683901 -1.55874 2.12132 -2.12132 \n",
       "C 1.55874 -2.683901 0.795609 -3 0 -3 \n",
       "C -0.795609 -3 -1.55874 -2.683901 -2.12132 -2.12132 \n",
       "C -2.683901 -1.55874 -3 -0.795609 -3 0 \n",
       "C -3 0.795609 -2.683901 1.55874 -2.12132 2.12132 \n",
       "C -1.55874 2.683901 -0.795609 3 0 3 \n",
       "z\n",
       "\" id=\"m1d89f901af\" style=\"stroke:#ff0000;\"/>\n",
       "    </defs>\n",
       "    <g clip-path=\"url(#p8092e1d7b5)\">\n",
       "     <use style=\"fill:#ff0000;stroke:#ff0000;\" x=\"65.361932\" xlink:href=\"#m1d89f901af\" y=\"109.582674\"/>\n",
       "     <use style=\"fill:#ff0000;stroke:#ff0000;\" x=\"81.381071\" xlink:href=\"#m1d89f901af\" y=\"113.052512\"/>\n",
       "     <use style=\"fill:#ff0000;stroke:#ff0000;\" x=\"97.400209\" xlink:href=\"#m1d89f901af\" y=\"117.008802\"/>\n",
       "     <use style=\"fill:#ff0000;stroke:#ff0000;\" x=\"113.419348\" xlink:href=\"#m1d89f901af\" y=\"113.491863\"/>\n",
       "     <use style=\"fill:#ff0000;stroke:#ff0000;\" x=\"129.438487\" xlink:href=\"#m1d89f901af\" y=\"106.135702\"/>\n",
       "     <use style=\"fill:#ff0000;stroke:#ff0000;\" x=\"145.457626\" xlink:href=\"#m1d89f901af\" y=\"103.151324\"/>\n",
       "     <use style=\"fill:#ff0000;stroke:#ff0000;\" x=\"161.476764\" xlink:href=\"#m1d89f901af\" y=\"92.502331\"/>\n",
       "     <use style=\"fill:#ff0000;stroke:#ff0000;\" x=\"177.495903\" xlink:href=\"#m1d89f901af\" y=\"90.460882\"/>\n",
       "     <use style=\"fill:#ff0000;stroke:#ff0000;\" x=\"193.515042\" xlink:href=\"#m1d89f901af\" y=\"89.612429\"/>\n",
       "     <use style=\"fill:#ff0000;stroke:#ff0000;\" x=\"209.534181\" xlink:href=\"#m1d89f901af\" y=\"92.155436\"/>\n",
       "     <use style=\"fill:#ff0000;stroke:#ff0000;\" x=\"225.553319\" xlink:href=\"#m1d89f901af\" y=\"64.803841\"/>\n",
       "     <use style=\"fill:#ff0000;stroke:#ff0000;\" x=\"241.572458\" xlink:href=\"#m1d89f901af\" y=\"74.423482\"/>\n",
       "     <use style=\"fill:#ff0000;stroke:#ff0000;\" x=\"257.591597\" xlink:href=\"#m1d89f901af\" y=\"72.844856\"/>\n",
       "     <use style=\"fill:#ff0000;stroke:#ff0000;\" x=\"273.610736\" xlink:href=\"#m1d89f901af\" y=\"66.57502\"/>\n",
       "     <use style=\"fill:#ff0000;stroke:#ff0000;\" x=\"289.629874\" xlink:href=\"#m1d89f901af\" y=\"51.105784\"/>\n",
       "     <use style=\"fill:#ff0000;stroke:#ff0000;\" x=\"305.649013\" xlink:href=\"#m1d89f901af\" y=\"36.879142\"/>\n",
       "     <use style=\"fill:#ff0000;stroke:#ff0000;\" x=\"321.668152\" xlink:href=\"#m1d89f901af\" y=\"36.242031\"/>\n",
       "     <use style=\"fill:#ff0000;stroke:#ff0000;\" x=\"337.687291\" xlink:href=\"#m1d89f901af\" y=\"59.909591\"/>\n",
       "     <use style=\"fill:#ff0000;stroke:#ff0000;\" x=\"353.706429\" xlink:href=\"#m1d89f901af\" y=\"41.15283\"/>\n",
       "     <use style=\"fill:#ff0000;stroke:#ff0000;\" x=\"369.725568\" xlink:href=\"#m1d89f901af\" y=\"32.201761\"/>\n",
       "    </g>\n",
       "   </g>\n",
       "   <g id=\"patch_3\">\n",
       "    <path d=\"M 50.14375 239.758125 \n",
       "L 50.14375 22.318125 \n",
       "\" style=\"fill:none;stroke:#000000;stroke-linecap:square;stroke-linejoin:miter;stroke-width:0.8;\"/>\n",
       "   </g>\n",
       "   <g id=\"patch_4\">\n",
       "    <path d=\"M 384.94375 239.758125 \n",
       "L 384.94375 22.318125 \n",
       "\" style=\"fill:none;stroke:#000000;stroke-linecap:square;stroke-linejoin:miter;stroke-width:0.8;\"/>\n",
       "   </g>\n",
       "   <g id=\"patch_5\">\n",
       "    <path d=\"M 50.14375 239.758125 \n",
       "L 384.94375 239.758125 \n",
       "\" style=\"fill:none;stroke:#000000;stroke-linecap:square;stroke-linejoin:miter;stroke-width:0.8;\"/>\n",
       "   </g>\n",
       "   <g id=\"patch_6\">\n",
       "    <path d=\"M 50.14375 22.318125 \n",
       "L 384.94375 22.318125 \n",
       "\" style=\"fill:none;stroke:#000000;stroke-linecap:square;stroke-linejoin:miter;stroke-width:0.8;\"/>\n",
       "   </g>\n",
       "   <g id=\"text_20\">\n",
       "    <!-- Training and validation loss -->\n",
       "    <g transform=\"translate(135.73375 16.318125)scale(0.12 -0.12)\">\n",
       "     <defs>\n",
       "      <path d=\"M -19 4666 \n",
       "L 3928 4666 \n",
       "L 3928 4134 \n",
       "L 2272 4134 \n",
       "L 2272 0 \n",
       "L 1638 0 \n",
       "L 1638 4134 \n",
       "L -19 4134 \n",
       "L -19 4666 \n",
       "z\n",
       "\" id=\"DejaVuSans-54\" transform=\"scale(0.015625)\"/>\n",
       "      <path d=\"M 2631 2963 \n",
       "Q 2534 3019 2420 3045 \n",
       "Q 2306 3072 2169 3072 \n",
       "Q 1681 3072 1420 2755 \n",
       "Q 1159 2438 1159 1844 \n",
       "L 1159 0 \n",
       "L 581 0 \n",
       "L 581 3500 \n",
       "L 1159 3500 \n",
       "L 1159 2956 \n",
       "Q 1341 3275 1631 3429 \n",
       "Q 1922 3584 2338 3584 \n",
       "Q 2397 3584 2469 3576 \n",
       "Q 2541 3569 2628 3553 \n",
       "L 2631 2963 \n",
       "z\n",
       "\" id=\"DejaVuSans-72\" transform=\"scale(0.015625)\"/>\n",
       "      <path d=\"M 2194 1759 \n",
       "Q 1497 1759 1228 1600 \n",
       "Q 959 1441 959 1056 \n",
       "Q 959 750 1161 570 \n",
       "Q 1363 391 1709 391 \n",
       "Q 2188 391 2477 730 \n",
       "Q 2766 1069 2766 1631 \n",
       "L 2766 1759 \n",
       "L 2194 1759 \n",
       "z\n",
       "M 3341 1997 \n",
       "L 3341 0 \n",
       "L 2766 0 \n",
       "L 2766 531 \n",
       "Q 2569 213 2275 61 \n",
       "Q 1981 -91 1556 -91 \n",
       "Q 1019 -91 701 211 \n",
       "Q 384 513 384 1019 \n",
       "Q 384 1609 779 1909 \n",
       "Q 1175 2209 1959 2209 \n",
       "L 2766 2209 \n",
       "L 2766 2266 \n",
       "Q 2766 2663 2505 2880 \n",
       "Q 2244 3097 1772 3097 \n",
       "Q 1472 3097 1187 3025 \n",
       "Q 903 2953 641 2809 \n",
       "L 641 3341 \n",
       "Q 956 3463 1253 3523 \n",
       "Q 1550 3584 1831 3584 \n",
       "Q 2591 3584 2966 3190 \n",
       "Q 3341 2797 3341 1997 \n",
       "z\n",
       "\" id=\"DejaVuSans-61\" transform=\"scale(0.015625)\"/>\n",
       "      <path d=\"M 603 3500 \n",
       "L 1178 3500 \n",
       "L 1178 0 \n",
       "L 603 0 \n",
       "L 603 3500 \n",
       "z\n",
       "M 603 4863 \n",
       "L 1178 4863 \n",
       "L 1178 4134 \n",
       "L 603 4134 \n",
       "L 603 4863 \n",
       "z\n",
       "\" id=\"DejaVuSans-69\" transform=\"scale(0.015625)\"/>\n",
       "      <path d=\"M 3513 2113 \n",
       "L 3513 0 \n",
       "L 2938 0 \n",
       "L 2938 2094 \n",
       "Q 2938 2591 2744 2837 \n",
       "Q 2550 3084 2163 3084 \n",
       "Q 1697 3084 1428 2787 \n",
       "Q 1159 2491 1159 1978 \n",
       "L 1159 0 \n",
       "L 581 0 \n",
       "L 581 3500 \n",
       "L 1159 3500 \n",
       "L 1159 2956 \n",
       "Q 1366 3272 1645 3428 \n",
       "Q 1925 3584 2291 3584 \n",
       "Q 2894 3584 3203 3211 \n",
       "Q 3513 2838 3513 2113 \n",
       "z\n",
       "\" id=\"DejaVuSans-6e\" transform=\"scale(0.015625)\"/>\n",
       "      <path d=\"M 2906 1791 \n",
       "Q 2906 2416 2648 2759 \n",
       "Q 2391 3103 1925 3103 \n",
       "Q 1463 3103 1205 2759 \n",
       "Q 947 2416 947 1791 \n",
       "Q 947 1169 1205 825 \n",
       "Q 1463 481 1925 481 \n",
       "Q 2391 481 2648 825 \n",
       "Q 2906 1169 2906 1791 \n",
       "z\n",
       "M 3481 434 \n",
       "Q 3481 -459 3084 -895 \n",
       "Q 2688 -1331 1869 -1331 \n",
       "Q 1566 -1331 1297 -1286 \n",
       "Q 1028 -1241 775 -1147 \n",
       "L 775 -588 \n",
       "Q 1028 -725 1275 -790 \n",
       "Q 1522 -856 1778 -856 \n",
       "Q 2344 -856 2625 -561 \n",
       "Q 2906 -266 2906 331 \n",
       "L 2906 616 \n",
       "Q 2728 306 2450 153 \n",
       "Q 2172 0 1784 0 \n",
       "Q 1141 0 747 490 \n",
       "Q 353 981 353 1791 \n",
       "Q 353 2603 747 3093 \n",
       "Q 1141 3584 1784 3584 \n",
       "Q 2172 3584 2450 3431 \n",
       "Q 2728 3278 2906 2969 \n",
       "L 2906 3500 \n",
       "L 3481 3500 \n",
       "L 3481 434 \n",
       "z\n",
       "\" id=\"DejaVuSans-67\" transform=\"scale(0.015625)\"/>\n",
       "      <path id=\"DejaVuSans-20\" transform=\"scale(0.015625)\"/>\n",
       "      <path d=\"M 2906 2969 \n",
       "L 2906 4863 \n",
       "L 3481 4863 \n",
       "L 3481 0 \n",
       "L 2906 0 \n",
       "L 2906 525 \n",
       "Q 2725 213 2448 61 \n",
       "Q 2172 -91 1784 -91 \n",
       "Q 1150 -91 751 415 \n",
       "Q 353 922 353 1747 \n",
       "Q 353 2572 751 3078 \n",
       "Q 1150 3584 1784 3584 \n",
       "Q 2172 3584 2448 3432 \n",
       "Q 2725 3281 2906 2969 \n",
       "z\n",
       "M 947 1747 \n",
       "Q 947 1113 1208 752 \n",
       "Q 1469 391 1925 391 \n",
       "Q 2381 391 2643 752 \n",
       "Q 2906 1113 2906 1747 \n",
       "Q 2906 2381 2643 2742 \n",
       "Q 2381 3103 1925 3103 \n",
       "Q 1469 3103 1208 2742 \n",
       "Q 947 2381 947 1747 \n",
       "z\n",
       "\" id=\"DejaVuSans-64\" transform=\"scale(0.015625)\"/>\n",
       "      <path d=\"M 191 3500 \n",
       "L 800 3500 \n",
       "L 1894 563 \n",
       "L 2988 3500 \n",
       "L 3597 3500 \n",
       "L 2284 0 \n",
       "L 1503 0 \n",
       "L 191 3500 \n",
       "z\n",
       "\" id=\"DejaVuSans-76\" transform=\"scale(0.015625)\"/>\n",
       "      <path d=\"M 1172 4494 \n",
       "L 1172 3500 \n",
       "L 2356 3500 \n",
       "L 2356 3053 \n",
       "L 1172 3053 \n",
       "L 1172 1153 \n",
       "Q 1172 725 1289 603 \n",
       "Q 1406 481 1766 481 \n",
       "L 2356 481 \n",
       "L 2356 0 \n",
       "L 1766 0 \n",
       "Q 1100 0 847 248 \n",
       "Q 594 497 594 1153 \n",
       "L 594 3053 \n",
       "L 172 3053 \n",
       "L 172 3500 \n",
       "L 594 3500 \n",
       "L 594 4494 \n",
       "L 1172 4494 \n",
       "z\n",
       "\" id=\"DejaVuSans-74\" transform=\"scale(0.015625)\"/>\n",
       "     </defs>\n",
       "     <use xlink:href=\"#DejaVuSans-54\"/>\n",
       "     <use x=\"46.333984\" xlink:href=\"#DejaVuSans-72\"/>\n",
       "     <use x=\"87.447266\" xlink:href=\"#DejaVuSans-61\"/>\n",
       "     <use x=\"148.726562\" xlink:href=\"#DejaVuSans-69\"/>\n",
       "     <use x=\"176.509766\" xlink:href=\"#DejaVuSans-6e\"/>\n",
       "     <use x=\"239.888672\" xlink:href=\"#DejaVuSans-69\"/>\n",
       "     <use x=\"267.671875\" xlink:href=\"#DejaVuSans-6e\"/>\n",
       "     <use x=\"331.050781\" xlink:href=\"#DejaVuSans-67\"/>\n",
       "     <use x=\"394.527344\" xlink:href=\"#DejaVuSans-20\"/>\n",
       "     <use x=\"426.314453\" xlink:href=\"#DejaVuSans-61\"/>\n",
       "     <use x=\"487.59375\" xlink:href=\"#DejaVuSans-6e\"/>\n",
       "     <use x=\"550.972656\" xlink:href=\"#DejaVuSans-64\"/>\n",
       "     <use x=\"614.449219\" xlink:href=\"#DejaVuSans-20\"/>\n",
       "     <use x=\"646.236328\" xlink:href=\"#DejaVuSans-76\"/>\n",
       "     <use x=\"705.416016\" xlink:href=\"#DejaVuSans-61\"/>\n",
       "     <use x=\"766.695312\" xlink:href=\"#DejaVuSans-6c\"/>\n",
       "     <use x=\"794.478516\" xlink:href=\"#DejaVuSans-69\"/>\n",
       "     <use x=\"822.261719\" xlink:href=\"#DejaVuSans-64\"/>\n",
       "     <use x=\"885.738281\" xlink:href=\"#DejaVuSans-61\"/>\n",
       "     <use x=\"947.017578\" xlink:href=\"#DejaVuSans-74\"/>\n",
       "     <use x=\"986.226562\" xlink:href=\"#DejaVuSans-69\"/>\n",
       "     <use x=\"1014.009766\" xlink:href=\"#DejaVuSans-6f\"/>\n",
       "     <use x=\"1075.191406\" xlink:href=\"#DejaVuSans-6e\"/>\n",
       "     <use x=\"1138.570312\" xlink:href=\"#DejaVuSans-20\"/>\n",
       "     <use x=\"1170.357422\" xlink:href=\"#DejaVuSans-6c\"/>\n",
       "     <use x=\"1198.140625\" xlink:href=\"#DejaVuSans-6f\"/>\n",
       "     <use x=\"1259.322266\" xlink:href=\"#DejaVuSans-73\"/>\n",
       "     <use x=\"1311.421875\" xlink:href=\"#DejaVuSans-73\"/>\n",
       "    </g>\n",
       "   </g>\n",
       "   <g id=\"legend_1\">\n",
       "    <g id=\"patch_7\">\n",
       "     <path d=\"M 57.14375 60.230625 \n",
       "L 136.734375 60.230625 \n",
       "Q 138.734375 60.230625 138.734375 58.230625 \n",
       "L 138.734375 29.318125 \n",
       "Q 138.734375 27.318125 136.734375 27.318125 \n",
       "L 57.14375 27.318125 \n",
       "Q 55.14375 27.318125 55.14375 29.318125 \n",
       "L 55.14375 58.230625 \n",
       "Q 55.14375 60.230625 57.14375 60.230625 \n",
       "z\n",
       "\" style=\"fill:#ffffff;opacity:0.8;stroke:#cccccc;stroke-linejoin:miter;\"/>\n",
       "    </g>\n",
       "    <g id=\"line2d_20\">\n",
       "     <path d=\"M 59.14375 35.416562 \n",
       "L 79.14375 35.416562 \n",
       "\" style=\"fill:none;stroke:#0000ff;stroke-dasharray:5.55,2.4;stroke-dashoffset:0;stroke-width:1.5;\"/>\n",
       "    </g>\n",
       "    <g id=\"line2d_21\">\n",
       "     <g>\n",
       "      <use style=\"fill:#0000ff;stroke:#0000ff;\" x=\"69.14375\" xlink:href=\"#mb7505a05ef\" y=\"35.416562\"/>\n",
       "     </g>\n",
       "    </g>\n",
       "    <g id=\"text_21\">\n",
       "     <!-- train_loss -->\n",
       "     <g transform=\"translate(87.14375 38.916562)scale(0.1 -0.1)\">\n",
       "      <defs>\n",
       "       <path d=\"M 3263 -1063 \n",
       "L 3263 -1509 \n",
       "L -63 -1509 \n",
       "L -63 -1063 \n",
       "L 3263 -1063 \n",
       "z\n",
       "\" id=\"DejaVuSans-5f\" transform=\"scale(0.015625)\"/>\n",
       "      </defs>\n",
       "      <use xlink:href=\"#DejaVuSans-74\"/>\n",
       "      <use x=\"39.208984\" xlink:href=\"#DejaVuSans-72\"/>\n",
       "      <use x=\"80.322266\" xlink:href=\"#DejaVuSans-61\"/>\n",
       "      <use x=\"141.601562\" xlink:href=\"#DejaVuSans-69\"/>\n",
       "      <use x=\"169.384766\" xlink:href=\"#DejaVuSans-6e\"/>\n",
       "      <use x=\"232.763672\" xlink:href=\"#DejaVuSans-5f\"/>\n",
       "      <use x=\"282.763672\" xlink:href=\"#DejaVuSans-6c\"/>\n",
       "      <use x=\"310.546875\" xlink:href=\"#DejaVuSans-6f\"/>\n",
       "      <use x=\"371.728516\" xlink:href=\"#DejaVuSans-73\"/>\n",
       "      <use x=\"423.828125\" xlink:href=\"#DejaVuSans-73\"/>\n",
       "     </g>\n",
       "    </g>\n",
       "    <g id=\"line2d_22\">\n",
       "     <path d=\"M 59.14375 50.372812 \n",
       "L 79.14375 50.372812 \n",
       "\" style=\"fill:none;stroke:#ff0000;stroke-linecap:square;stroke-width:1.5;\"/>\n",
       "    </g>\n",
       "    <g id=\"line2d_23\">\n",
       "     <g>\n",
       "      <use style=\"fill:#ff0000;stroke:#ff0000;\" x=\"69.14375\" xlink:href=\"#m1d89f901af\" y=\"50.372812\"/>\n",
       "     </g>\n",
       "    </g>\n",
       "    <g id=\"text_22\">\n",
       "     <!-- val_loss -->\n",
       "     <g transform=\"translate(87.14375 53.872812)scale(0.1 -0.1)\">\n",
       "      <use xlink:href=\"#DejaVuSans-76\"/>\n",
       "      <use x=\"59.179688\" xlink:href=\"#DejaVuSans-61\"/>\n",
       "      <use x=\"120.458984\" xlink:href=\"#DejaVuSans-6c\"/>\n",
       "      <use x=\"148.242188\" xlink:href=\"#DejaVuSans-5f\"/>\n",
       "      <use x=\"198.242188\" xlink:href=\"#DejaVuSans-6c\"/>\n",
       "      <use x=\"226.025391\" xlink:href=\"#DejaVuSans-6f\"/>\n",
       "      <use x=\"287.207031\" xlink:href=\"#DejaVuSans-73\"/>\n",
       "      <use x=\"339.306641\" xlink:href=\"#DejaVuSans-73\"/>\n",
       "     </g>\n",
       "    </g>\n",
       "   </g>\n",
       "  </g>\n",
       " </g>\n",
       " <defs>\n",
       "  <clipPath id=\"p8092e1d7b5\">\n",
       "   <rect height=\"217.44\" width=\"334.8\" x=\"50.14375\" y=\"22.318125\"/>\n",
       "  </clipPath>\n",
       " </defs>\n",
       "</svg>\n"
      ],
      "text/plain": [
       "<Figure size 432x288 with 1 Axes>"
      ]
     },
     "metadata": {
      "needs_background": "light"
     },
     "output_type": "display_data"
    },
    {
     "name": "stdout",
     "output_type": "stream",
     "text": [
      "time: 250 ms (started: 2021-08-21 15:25:43 +08:00)\n"
     ]
    }
   ],
   "source": [
    "plot_metric(history,\"loss\")"
   ]
  },
  {
   "cell_type": "code",
   "execution_count": 14,
   "id": "robust-grocery",
   "metadata": {},
   "outputs": [
    {
     "data": {
      "image/svg+xml": [
       "<?xml version=\"1.0\" encoding=\"utf-8\" standalone=\"no\"?>\n",
       "<!DOCTYPE svg PUBLIC \"-//W3C//DTD SVG 1.1//EN\"\n",
       "  \"http://www.w3.org/Graphics/SVG/1.1/DTD/svg11.dtd\">\n",
       "<svg height=\"277.314375pt\" version=\"1.1\" viewBox=\"0 0 398.784375 277.314375\" width=\"398.784375pt\" xmlns=\"http://www.w3.org/2000/svg\" xmlns:xlink=\"http://www.w3.org/1999/xlink\">\n",
       " <metadata>\n",
       "  <rdf:RDF xmlns:cc=\"http://creativecommons.org/ns#\" xmlns:dc=\"http://purl.org/dc/elements/1.1/\" xmlns:rdf=\"http://www.w3.org/1999/02/22-rdf-syntax-ns#\">\n",
       "   <cc:Work>\n",
       "    <dc:type rdf:resource=\"http://purl.org/dc/dcmitype/StillImage\"/>\n",
       "    <dc:date>2021-08-21T15:26:09.655893</dc:date>\n",
       "    <dc:format>image/svg+xml</dc:format>\n",
       "    <dc:creator>\n",
       "     <cc:Agent>\n",
       "      <dc:title>Matplotlib v3.4.2, https://matplotlib.org/</dc:title>\n",
       "     </cc:Agent>\n",
       "    </dc:creator>\n",
       "   </cc:Work>\n",
       "  </rdf:RDF>\n",
       " </metadata>\n",
       " <defs>\n",
       "  <style type=\"text/css\">*{stroke-linecap:butt;stroke-linejoin:round;}</style>\n",
       " </defs>\n",
       " <g id=\"figure_1\">\n",
       "  <g id=\"patch_1\">\n",
       "   <path d=\"M 0 277.314375 \n",
       "L 398.784375 277.314375 \n",
       "L 398.784375 0 \n",
       "L 0 0 \n",
       "z\n",
       "\" style=\"fill:none;\"/>\n",
       "  </g>\n",
       "  <g id=\"axes_1\">\n",
       "   <g id=\"patch_2\">\n",
       "    <path d=\"M 56.784375 239.758125 \n",
       "L 391.584375 239.758125 \n",
       "L 391.584375 22.318125 \n",
       "L 56.784375 22.318125 \n",
       "z\n",
       "\" style=\"fill:#ffffff;\"/>\n",
       "   </g>\n",
       "   <g id=\"matplotlib.axis_1\">\n",
       "    <g id=\"xtick_1\">\n",
       "     <g id=\"line2d_1\">\n",
       "      <defs>\n",
       "       <path d=\"M 0 0 \n",
       "L 0 3.5 \n",
       "\" id=\"mc655ae1ddc\" style=\"stroke:#000000;stroke-width:0.8;\"/>\n",
       "      </defs>\n",
       "      <g>\n",
       "       <use style=\"stroke:#000000;stroke-width:0.8;\" x=\"96.031265\" xlink:href=\"#mc655ae1ddc\" y=\"239.758125\"/>\n",
       "      </g>\n",
       "     </g>\n",
       "     <g id=\"text_1\">\n",
       "      <!-- 2.5 -->\n",
       "      <g transform=\"translate(88.079702 254.356562)scale(0.1 -0.1)\">\n",
       "       <defs>\n",
       "        <path d=\"M 1228 531 \n",
       "L 3431 531 \n",
       "L 3431 0 \n",
       "L 469 0 \n",
       "L 469 531 \n",
       "Q 828 903 1448 1529 \n",
       "Q 2069 2156 2228 2338 \n",
       "Q 2531 2678 2651 2914 \n",
       "Q 2772 3150 2772 3378 \n",
       "Q 2772 3750 2511 3984 \n",
       "Q 2250 4219 1831 4219 \n",
       "Q 1534 4219 1204 4116 \n",
       "Q 875 4013 500 3803 \n",
       "L 500 4441 \n",
       "Q 881 4594 1212 4672 \n",
       "Q 1544 4750 1819 4750 \n",
       "Q 2544 4750 2975 4387 \n",
       "Q 3406 4025 3406 3419 \n",
       "Q 3406 3131 3298 2873 \n",
       "Q 3191 2616 2906 2266 \n",
       "Q 2828 2175 2409 1742 \n",
       "Q 1991 1309 1228 531 \n",
       "z\n",
       "\" id=\"DejaVuSans-32\" transform=\"scale(0.015625)\"/>\n",
       "        <path d=\"M 684 794 \n",
       "L 1344 794 \n",
       "L 1344 0 \n",
       "L 684 0 \n",
       "L 684 794 \n",
       "z\n",
       "\" id=\"DejaVuSans-2e\" transform=\"scale(0.015625)\"/>\n",
       "        <path d=\"M 691 4666 \n",
       "L 3169 4666 \n",
       "L 3169 4134 \n",
       "L 1269 4134 \n",
       "L 1269 2991 \n",
       "Q 1406 3038 1543 3061 \n",
       "Q 1681 3084 1819 3084 \n",
       "Q 2600 3084 3056 2656 \n",
       "Q 3513 2228 3513 1497 \n",
       "Q 3513 744 3044 326 \n",
       "Q 2575 -91 1722 -91 \n",
       "Q 1428 -91 1123 -41 \n",
       "Q 819 9 494 109 \n",
       "L 494 744 \n",
       "Q 775 591 1075 516 \n",
       "Q 1375 441 1709 441 \n",
       "Q 2250 441 2565 725 \n",
       "Q 2881 1009 2881 1497 \n",
       "Q 2881 1984 2565 2268 \n",
       "Q 2250 2553 1709 2553 \n",
       "Q 1456 2553 1204 2497 \n",
       "Q 953 2441 691 2322 \n",
       "L 691 4666 \n",
       "z\n",
       "\" id=\"DejaVuSans-35\" transform=\"scale(0.015625)\"/>\n",
       "       </defs>\n",
       "       <use xlink:href=\"#DejaVuSans-32\"/>\n",
       "       <use x=\"63.623047\" xlink:href=\"#DejaVuSans-2e\"/>\n",
       "       <use x=\"95.410156\" xlink:href=\"#DejaVuSans-35\"/>\n",
       "      </g>\n",
       "     </g>\n",
       "    </g>\n",
       "    <g id=\"xtick_2\">\n",
       "     <g id=\"line2d_2\">\n",
       "      <g>\n",
       "       <use style=\"stroke:#000000;stroke-width:0.8;\" x=\"136.079112\" xlink:href=\"#mc655ae1ddc\" y=\"239.758125\"/>\n",
       "      </g>\n",
       "     </g>\n",
       "     <g id=\"text_2\">\n",
       "      <!-- 5.0 -->\n",
       "      <g transform=\"translate(128.127549 254.356562)scale(0.1 -0.1)\">\n",
       "       <defs>\n",
       "        <path d=\"M 2034 4250 \n",
       "Q 1547 4250 1301 3770 \n",
       "Q 1056 3291 1056 2328 \n",
       "Q 1056 1369 1301 889 \n",
       "Q 1547 409 2034 409 \n",
       "Q 2525 409 2770 889 \n",
       "Q 3016 1369 3016 2328 \n",
       "Q 3016 3291 2770 3770 \n",
       "Q 2525 4250 2034 4250 \n",
       "z\n",
       "M 2034 4750 \n",
       "Q 2819 4750 3233 4129 \n",
       "Q 3647 3509 3647 2328 \n",
       "Q 3647 1150 3233 529 \n",
       "Q 2819 -91 2034 -91 \n",
       "Q 1250 -91 836 529 \n",
       "Q 422 1150 422 2328 \n",
       "Q 422 3509 836 4129 \n",
       "Q 1250 4750 2034 4750 \n",
       "z\n",
       "\" id=\"DejaVuSans-30\" transform=\"scale(0.015625)\"/>\n",
       "       </defs>\n",
       "       <use xlink:href=\"#DejaVuSans-35\"/>\n",
       "       <use x=\"63.623047\" xlink:href=\"#DejaVuSans-2e\"/>\n",
       "       <use x=\"95.410156\" xlink:href=\"#DejaVuSans-30\"/>\n",
       "      </g>\n",
       "     </g>\n",
       "    </g>\n",
       "    <g id=\"xtick_3\">\n",
       "     <g id=\"line2d_3\">\n",
       "      <g>\n",
       "       <use style=\"stroke:#000000;stroke-width:0.8;\" x=\"176.126959\" xlink:href=\"#mc655ae1ddc\" y=\"239.758125\"/>\n",
       "      </g>\n",
       "     </g>\n",
       "     <g id=\"text_3\">\n",
       "      <!-- 7.5 -->\n",
       "      <g transform=\"translate(168.175396 254.356562)scale(0.1 -0.1)\">\n",
       "       <defs>\n",
       "        <path d=\"M 525 4666 \n",
       "L 3525 4666 \n",
       "L 3525 4397 \n",
       "L 1831 0 \n",
       "L 1172 0 \n",
       "L 2766 4134 \n",
       "L 525 4134 \n",
       "L 525 4666 \n",
       "z\n",
       "\" id=\"DejaVuSans-37\" transform=\"scale(0.015625)\"/>\n",
       "       </defs>\n",
       "       <use xlink:href=\"#DejaVuSans-37\"/>\n",
       "       <use x=\"63.623047\" xlink:href=\"#DejaVuSans-2e\"/>\n",
       "       <use x=\"95.410156\" xlink:href=\"#DejaVuSans-35\"/>\n",
       "      </g>\n",
       "     </g>\n",
       "    </g>\n",
       "    <g id=\"xtick_4\">\n",
       "     <g id=\"line2d_4\">\n",
       "      <g>\n",
       "       <use style=\"stroke:#000000;stroke-width:0.8;\" x=\"216.174806\" xlink:href=\"#mc655ae1ddc\" y=\"239.758125\"/>\n",
       "      </g>\n",
       "     </g>\n",
       "     <g id=\"text_4\">\n",
       "      <!-- 10.0 -->\n",
       "      <g transform=\"translate(205.041993 254.356562)scale(0.1 -0.1)\">\n",
       "       <defs>\n",
       "        <path d=\"M 794 531 \n",
       "L 1825 531 \n",
       "L 1825 4091 \n",
       "L 703 3866 \n",
       "L 703 4441 \n",
       "L 1819 4666 \n",
       "L 2450 4666 \n",
       "L 2450 531 \n",
       "L 3481 531 \n",
       "L 3481 0 \n",
       "L 794 0 \n",
       "L 794 531 \n",
       "z\n",
       "\" id=\"DejaVuSans-31\" transform=\"scale(0.015625)\"/>\n",
       "       </defs>\n",
       "       <use xlink:href=\"#DejaVuSans-31\"/>\n",
       "       <use x=\"63.623047\" xlink:href=\"#DejaVuSans-30\"/>\n",
       "       <use x=\"127.246094\" xlink:href=\"#DejaVuSans-2e\"/>\n",
       "       <use x=\"159.033203\" xlink:href=\"#DejaVuSans-30\"/>\n",
       "      </g>\n",
       "     </g>\n",
       "    </g>\n",
       "    <g id=\"xtick_5\">\n",
       "     <g id=\"line2d_5\">\n",
       "      <g>\n",
       "       <use style=\"stroke:#000000;stroke-width:0.8;\" x=\"256.222653\" xlink:href=\"#mc655ae1ddc\" y=\"239.758125\"/>\n",
       "      </g>\n",
       "     </g>\n",
       "     <g id=\"text_5\">\n",
       "      <!-- 12.5 -->\n",
       "      <g transform=\"translate(245.08984 254.356562)scale(0.1 -0.1)\">\n",
       "       <use xlink:href=\"#DejaVuSans-31\"/>\n",
       "       <use x=\"63.623047\" xlink:href=\"#DejaVuSans-32\"/>\n",
       "       <use x=\"127.246094\" xlink:href=\"#DejaVuSans-2e\"/>\n",
       "       <use x=\"159.033203\" xlink:href=\"#DejaVuSans-35\"/>\n",
       "      </g>\n",
       "     </g>\n",
       "    </g>\n",
       "    <g id=\"xtick_6\">\n",
       "     <g id=\"line2d_6\">\n",
       "      <g>\n",
       "       <use style=\"stroke:#000000;stroke-width:0.8;\" x=\"296.270499\" xlink:href=\"#mc655ae1ddc\" y=\"239.758125\"/>\n",
       "      </g>\n",
       "     </g>\n",
       "     <g id=\"text_6\">\n",
       "      <!-- 15.0 -->\n",
       "      <g transform=\"translate(285.137687 254.356562)scale(0.1 -0.1)\">\n",
       "       <use xlink:href=\"#DejaVuSans-31\"/>\n",
       "       <use x=\"63.623047\" xlink:href=\"#DejaVuSans-35\"/>\n",
       "       <use x=\"127.246094\" xlink:href=\"#DejaVuSans-2e\"/>\n",
       "       <use x=\"159.033203\" xlink:href=\"#DejaVuSans-30\"/>\n",
       "      </g>\n",
       "     </g>\n",
       "    </g>\n",
       "    <g id=\"xtick_7\">\n",
       "     <g id=\"line2d_7\">\n",
       "      <g>\n",
       "       <use style=\"stroke:#000000;stroke-width:0.8;\" x=\"336.318346\" xlink:href=\"#mc655ae1ddc\" y=\"239.758125\"/>\n",
       "      </g>\n",
       "     </g>\n",
       "     <g id=\"text_7\">\n",
       "      <!-- 17.5 -->\n",
       "      <g transform=\"translate(325.185534 254.356562)scale(0.1 -0.1)\">\n",
       "       <use xlink:href=\"#DejaVuSans-31\"/>\n",
       "       <use x=\"63.623047\" xlink:href=\"#DejaVuSans-37\"/>\n",
       "       <use x=\"127.246094\" xlink:href=\"#DejaVuSans-2e\"/>\n",
       "       <use x=\"159.033203\" xlink:href=\"#DejaVuSans-35\"/>\n",
       "      </g>\n",
       "     </g>\n",
       "    </g>\n",
       "    <g id=\"xtick_8\">\n",
       "     <g id=\"line2d_8\">\n",
       "      <g>\n",
       "       <use style=\"stroke:#000000;stroke-width:0.8;\" x=\"376.366193\" xlink:href=\"#mc655ae1ddc\" y=\"239.758125\"/>\n",
       "      </g>\n",
       "     </g>\n",
       "     <g id=\"text_8\">\n",
       "      <!-- 20.0 -->\n",
       "      <g transform=\"translate(365.233381 254.356562)scale(0.1 -0.1)\">\n",
       "       <use xlink:href=\"#DejaVuSans-32\"/>\n",
       "       <use x=\"63.623047\" xlink:href=\"#DejaVuSans-30\"/>\n",
       "       <use x=\"127.246094\" xlink:href=\"#DejaVuSans-2e\"/>\n",
       "       <use x=\"159.033203\" xlink:href=\"#DejaVuSans-30\"/>\n",
       "      </g>\n",
       "     </g>\n",
       "    </g>\n",
       "    <g id=\"text_9\">\n",
       "     <!-- Epochs -->\n",
       "     <g transform=\"translate(206.26875 268.034687)scale(0.1 -0.1)\">\n",
       "      <defs>\n",
       "       <path d=\"M 628 4666 \n",
       "L 3578 4666 \n",
       "L 3578 4134 \n",
       "L 1259 4134 \n",
       "L 1259 2753 \n",
       "L 3481 2753 \n",
       "L 3481 2222 \n",
       "L 1259 2222 \n",
       "L 1259 531 \n",
       "L 3634 531 \n",
       "L 3634 0 \n",
       "L 628 0 \n",
       "L 628 4666 \n",
       "z\n",
       "\" id=\"DejaVuSans-45\" transform=\"scale(0.015625)\"/>\n",
       "       <path d=\"M 1159 525 \n",
       "L 1159 -1331 \n",
       "L 581 -1331 \n",
       "L 581 3500 \n",
       "L 1159 3500 \n",
       "L 1159 2969 \n",
       "Q 1341 3281 1617 3432 \n",
       "Q 1894 3584 2278 3584 \n",
       "Q 2916 3584 3314 3078 \n",
       "Q 3713 2572 3713 1747 \n",
       "Q 3713 922 3314 415 \n",
       "Q 2916 -91 2278 -91 \n",
       "Q 1894 -91 1617 61 \n",
       "Q 1341 213 1159 525 \n",
       "z\n",
       "M 3116 1747 \n",
       "Q 3116 2381 2855 2742 \n",
       "Q 2594 3103 2138 3103 \n",
       "Q 1681 3103 1420 2742 \n",
       "Q 1159 2381 1159 1747 \n",
       "Q 1159 1113 1420 752 \n",
       "Q 1681 391 2138 391 \n",
       "Q 2594 391 2855 752 \n",
       "Q 3116 1113 3116 1747 \n",
       "z\n",
       "\" id=\"DejaVuSans-70\" transform=\"scale(0.015625)\"/>\n",
       "       <path d=\"M 1959 3097 \n",
       "Q 1497 3097 1228 2736 \n",
       "Q 959 2375 959 1747 \n",
       "Q 959 1119 1226 758 \n",
       "Q 1494 397 1959 397 \n",
       "Q 2419 397 2687 759 \n",
       "Q 2956 1122 2956 1747 \n",
       "Q 2956 2369 2687 2733 \n",
       "Q 2419 3097 1959 3097 \n",
       "z\n",
       "M 1959 3584 \n",
       "Q 2709 3584 3137 3096 \n",
       "Q 3566 2609 3566 1747 \n",
       "Q 3566 888 3137 398 \n",
       "Q 2709 -91 1959 -91 \n",
       "Q 1206 -91 779 398 \n",
       "Q 353 888 353 1747 \n",
       "Q 353 2609 779 3096 \n",
       "Q 1206 3584 1959 3584 \n",
       "z\n",
       "\" id=\"DejaVuSans-6f\" transform=\"scale(0.015625)\"/>\n",
       "       <path d=\"M 3122 3366 \n",
       "L 3122 2828 \n",
       "Q 2878 2963 2633 3030 \n",
       "Q 2388 3097 2138 3097 \n",
       "Q 1578 3097 1268 2742 \n",
       "Q 959 2388 959 1747 \n",
       "Q 959 1106 1268 751 \n",
       "Q 1578 397 2138 397 \n",
       "Q 2388 397 2633 464 \n",
       "Q 2878 531 3122 666 \n",
       "L 3122 134 \n",
       "Q 2881 22 2623 -34 \n",
       "Q 2366 -91 2075 -91 \n",
       "Q 1284 -91 818 406 \n",
       "Q 353 903 353 1747 \n",
       "Q 353 2603 823 3093 \n",
       "Q 1294 3584 2113 3584 \n",
       "Q 2378 3584 2631 3529 \n",
       "Q 2884 3475 3122 3366 \n",
       "z\n",
       "\" id=\"DejaVuSans-63\" transform=\"scale(0.015625)\"/>\n",
       "       <path d=\"M 3513 2113 \n",
       "L 3513 0 \n",
       "L 2938 0 \n",
       "L 2938 2094 \n",
       "Q 2938 2591 2744 2837 \n",
       "Q 2550 3084 2163 3084 \n",
       "Q 1697 3084 1428 2787 \n",
       "Q 1159 2491 1159 1978 \n",
       "L 1159 0 \n",
       "L 581 0 \n",
       "L 581 4863 \n",
       "L 1159 4863 \n",
       "L 1159 2956 \n",
       "Q 1366 3272 1645 3428 \n",
       "Q 1925 3584 2291 3584 \n",
       "Q 2894 3584 3203 3211 \n",
       "Q 3513 2838 3513 2113 \n",
       "z\n",
       "\" id=\"DejaVuSans-68\" transform=\"scale(0.015625)\"/>\n",
       "       <path d=\"M 2834 3397 \n",
       "L 2834 2853 \n",
       "Q 2591 2978 2328 3040 \n",
       "Q 2066 3103 1784 3103 \n",
       "Q 1356 3103 1142 2972 \n",
       "Q 928 2841 928 2578 \n",
       "Q 928 2378 1081 2264 \n",
       "Q 1234 2150 1697 2047 \n",
       "L 1894 2003 \n",
       "Q 2506 1872 2764 1633 \n",
       "Q 3022 1394 3022 966 \n",
       "Q 3022 478 2636 193 \n",
       "Q 2250 -91 1575 -91 \n",
       "Q 1294 -91 989 -36 \n",
       "Q 684 19 347 128 \n",
       "L 347 722 \n",
       "Q 666 556 975 473 \n",
       "Q 1284 391 1588 391 \n",
       "Q 1994 391 2212 530 \n",
       "Q 2431 669 2431 922 \n",
       "Q 2431 1156 2273 1281 \n",
       "Q 2116 1406 1581 1522 \n",
       "L 1381 1569 \n",
       "Q 847 1681 609 1914 \n",
       "Q 372 2147 372 2553 \n",
       "Q 372 3047 722 3315 \n",
       "Q 1072 3584 1716 3584 \n",
       "Q 2034 3584 2315 3537 \n",
       "Q 2597 3491 2834 3397 \n",
       "z\n",
       "\" id=\"DejaVuSans-73\" transform=\"scale(0.015625)\"/>\n",
       "      </defs>\n",
       "      <use xlink:href=\"#DejaVuSans-45\"/>\n",
       "      <use x=\"63.183594\" xlink:href=\"#DejaVuSans-70\"/>\n",
       "      <use x=\"126.660156\" xlink:href=\"#DejaVuSans-6f\"/>\n",
       "      <use x=\"187.841797\" xlink:href=\"#DejaVuSans-63\"/>\n",
       "      <use x=\"242.822266\" xlink:href=\"#DejaVuSans-68\"/>\n",
       "      <use x=\"306.201172\" xlink:href=\"#DejaVuSans-73\"/>\n",
       "     </g>\n",
       "    </g>\n",
       "   </g>\n",
       "   <g id=\"matplotlib.axis_2\">\n",
       "    <g id=\"ytick_1\">\n",
       "     <g id=\"line2d_9\">\n",
       "      <defs>\n",
       "       <path d=\"M 0 0 \n",
       "L -3.5 0 \n",
       "\" id=\"md066618d08\" style=\"stroke:#000000;stroke-width:0.8;\"/>\n",
       "      </defs>\n",
       "      <g>\n",
       "       <use style=\"stroke:#000000;stroke-width:0.8;\" x=\"56.784375\" xlink:href=\"#md066618d08\" y=\"225.677535\"/>\n",
       "      </g>\n",
       "     </g>\n",
       "     <g id=\"text_10\">\n",
       "      <!-- 0.970 -->\n",
       "      <g transform=\"translate(21.15625 229.476754)scale(0.1 -0.1)\">\n",
       "       <defs>\n",
       "        <path d=\"M 703 97 \n",
       "L 703 672 \n",
       "Q 941 559 1184 500 \n",
       "Q 1428 441 1663 441 \n",
       "Q 2288 441 2617 861 \n",
       "Q 2947 1281 2994 2138 \n",
       "Q 2813 1869 2534 1725 \n",
       "Q 2256 1581 1919 1581 \n",
       "Q 1219 1581 811 2004 \n",
       "Q 403 2428 403 3163 \n",
       "Q 403 3881 828 4315 \n",
       "Q 1253 4750 1959 4750 \n",
       "Q 2769 4750 3195 4129 \n",
       "Q 3622 3509 3622 2328 \n",
       "Q 3622 1225 3098 567 \n",
       "Q 2575 -91 1691 -91 \n",
       "Q 1453 -91 1209 -44 \n",
       "Q 966 3 703 97 \n",
       "z\n",
       "M 1959 2075 \n",
       "Q 2384 2075 2632 2365 \n",
       "Q 2881 2656 2881 3163 \n",
       "Q 2881 3666 2632 3958 \n",
       "Q 2384 4250 1959 4250 \n",
       "Q 1534 4250 1286 3958 \n",
       "Q 1038 3666 1038 3163 \n",
       "Q 1038 2656 1286 2365 \n",
       "Q 1534 2075 1959 2075 \n",
       "z\n",
       "\" id=\"DejaVuSans-39\" transform=\"scale(0.015625)\"/>\n",
       "       </defs>\n",
       "       <use xlink:href=\"#DejaVuSans-30\"/>\n",
       "       <use x=\"63.623047\" xlink:href=\"#DejaVuSans-2e\"/>\n",
       "       <use x=\"95.410156\" xlink:href=\"#DejaVuSans-39\"/>\n",
       "       <use x=\"159.033203\" xlink:href=\"#DejaVuSans-37\"/>\n",
       "       <use x=\"222.65625\" xlink:href=\"#DejaVuSans-30\"/>\n",
       "      </g>\n",
       "     </g>\n",
       "    </g>\n",
       "    <g id=\"ytick_2\">\n",
       "     <g id=\"line2d_10\">\n",
       "      <g>\n",
       "       <use style=\"stroke:#000000;stroke-width:0.8;\" x=\"56.784375\" xlink:href=\"#md066618d08\" y=\"190.703583\"/>\n",
       "      </g>\n",
       "     </g>\n",
       "     <g id=\"text_11\">\n",
       "      <!-- 0.975 -->\n",
       "      <g transform=\"translate(21.15625 194.502801)scale(0.1 -0.1)\">\n",
       "       <use xlink:href=\"#DejaVuSans-30\"/>\n",
       "       <use x=\"63.623047\" xlink:href=\"#DejaVuSans-2e\"/>\n",
       "       <use x=\"95.410156\" xlink:href=\"#DejaVuSans-39\"/>\n",
       "       <use x=\"159.033203\" xlink:href=\"#DejaVuSans-37\"/>\n",
       "       <use x=\"222.65625\" xlink:href=\"#DejaVuSans-35\"/>\n",
       "      </g>\n",
       "     </g>\n",
       "    </g>\n",
       "    <g id=\"ytick_3\">\n",
       "     <g id=\"line2d_11\">\n",
       "      <g>\n",
       "       <use style=\"stroke:#000000;stroke-width:0.8;\" x=\"56.784375\" xlink:href=\"#md066618d08\" y=\"155.72963\"/>\n",
       "      </g>\n",
       "     </g>\n",
       "     <g id=\"text_12\">\n",
       "      <!-- 0.980 -->\n",
       "      <g transform=\"translate(21.15625 159.528849)scale(0.1 -0.1)\">\n",
       "       <defs>\n",
       "        <path d=\"M 2034 2216 \n",
       "Q 1584 2216 1326 1975 \n",
       "Q 1069 1734 1069 1313 \n",
       "Q 1069 891 1326 650 \n",
       "Q 1584 409 2034 409 \n",
       "Q 2484 409 2743 651 \n",
       "Q 3003 894 3003 1313 \n",
       "Q 3003 1734 2745 1975 \n",
       "Q 2488 2216 2034 2216 \n",
       "z\n",
       "M 1403 2484 \n",
       "Q 997 2584 770 2862 \n",
       "Q 544 3141 544 3541 \n",
       "Q 544 4100 942 4425 \n",
       "Q 1341 4750 2034 4750 \n",
       "Q 2731 4750 3128 4425 \n",
       "Q 3525 4100 3525 3541 \n",
       "Q 3525 3141 3298 2862 \n",
       "Q 3072 2584 2669 2484 \n",
       "Q 3125 2378 3379 2068 \n",
       "Q 3634 1759 3634 1313 \n",
       "Q 3634 634 3220 271 \n",
       "Q 2806 -91 2034 -91 \n",
       "Q 1263 -91 848 271 \n",
       "Q 434 634 434 1313 \n",
       "Q 434 1759 690 2068 \n",
       "Q 947 2378 1403 2484 \n",
       "z\n",
       "M 1172 3481 \n",
       "Q 1172 3119 1398 2916 \n",
       "Q 1625 2713 2034 2713 \n",
       "Q 2441 2713 2670 2916 \n",
       "Q 2900 3119 2900 3481 \n",
       "Q 2900 3844 2670 4047 \n",
       "Q 2441 4250 2034 4250 \n",
       "Q 1625 4250 1398 4047 \n",
       "Q 1172 3844 1172 3481 \n",
       "z\n",
       "\" id=\"DejaVuSans-38\" transform=\"scale(0.015625)\"/>\n",
       "       </defs>\n",
       "       <use xlink:href=\"#DejaVuSans-30\"/>\n",
       "       <use x=\"63.623047\" xlink:href=\"#DejaVuSans-2e\"/>\n",
       "       <use x=\"95.410156\" xlink:href=\"#DejaVuSans-39\"/>\n",
       "       <use x=\"159.033203\" xlink:href=\"#DejaVuSans-38\"/>\n",
       "       <use x=\"222.65625\" xlink:href=\"#DejaVuSans-30\"/>\n",
       "      </g>\n",
       "     </g>\n",
       "    </g>\n",
       "    <g id=\"ytick_4\">\n",
       "     <g id=\"line2d_12\">\n",
       "      <g>\n",
       "       <use style=\"stroke:#000000;stroke-width:0.8;\" x=\"56.784375\" xlink:href=\"#md066618d08\" y=\"120.755678\"/>\n",
       "      </g>\n",
       "     </g>\n",
       "     <g id=\"text_13\">\n",
       "      <!-- 0.985 -->\n",
       "      <g transform=\"translate(21.15625 124.554896)scale(0.1 -0.1)\">\n",
       "       <use xlink:href=\"#DejaVuSans-30\"/>\n",
       "       <use x=\"63.623047\" xlink:href=\"#DejaVuSans-2e\"/>\n",
       "       <use x=\"95.410156\" xlink:href=\"#DejaVuSans-39\"/>\n",
       "       <use x=\"159.033203\" xlink:href=\"#DejaVuSans-38\"/>\n",
       "       <use x=\"222.65625\" xlink:href=\"#DejaVuSans-35\"/>\n",
       "      </g>\n",
       "     </g>\n",
       "    </g>\n",
       "    <g id=\"ytick_5\">\n",
       "     <g id=\"line2d_13\">\n",
       "      <g>\n",
       "       <use style=\"stroke:#000000;stroke-width:0.8;\" x=\"56.784375\" xlink:href=\"#md066618d08\" y=\"85.781725\"/>\n",
       "      </g>\n",
       "     </g>\n",
       "     <g id=\"text_14\">\n",
       "      <!-- 0.990 -->\n",
       "      <g transform=\"translate(21.15625 89.580944)scale(0.1 -0.1)\">\n",
       "       <use xlink:href=\"#DejaVuSans-30\"/>\n",
       "       <use x=\"63.623047\" xlink:href=\"#DejaVuSans-2e\"/>\n",
       "       <use x=\"95.410156\" xlink:href=\"#DejaVuSans-39\"/>\n",
       "       <use x=\"159.033203\" xlink:href=\"#DejaVuSans-39\"/>\n",
       "       <use x=\"222.65625\" xlink:href=\"#DejaVuSans-30\"/>\n",
       "      </g>\n",
       "     </g>\n",
       "    </g>\n",
       "    <g id=\"ytick_6\">\n",
       "     <g id=\"line2d_14\">\n",
       "      <g>\n",
       "       <use style=\"stroke:#000000;stroke-width:0.8;\" x=\"56.784375\" xlink:href=\"#md066618d08\" y=\"50.807773\"/>\n",
       "      </g>\n",
       "     </g>\n",
       "     <g id=\"text_15\">\n",
       "      <!-- 0.995 -->\n",
       "      <g transform=\"translate(21.15625 54.606992)scale(0.1 -0.1)\">\n",
       "       <use xlink:href=\"#DejaVuSans-30\"/>\n",
       "       <use x=\"63.623047\" xlink:href=\"#DejaVuSans-2e\"/>\n",
       "       <use x=\"95.410156\" xlink:href=\"#DejaVuSans-39\"/>\n",
       "       <use x=\"159.033203\" xlink:href=\"#DejaVuSans-39\"/>\n",
       "       <use x=\"222.65625\" xlink:href=\"#DejaVuSans-35\"/>\n",
       "      </g>\n",
       "     </g>\n",
       "    </g>\n",
       "    <g id=\"text_16\">\n",
       "     <!-- sparse_categorical_accuracy -->\n",
       "     <g transform=\"translate(14.798438 202.907656)rotate(-90)scale(0.1 -0.1)\">\n",
       "      <defs>\n",
       "       <path d=\"M 2194 1759 \n",
       "Q 1497 1759 1228 1600 \n",
       "Q 959 1441 959 1056 \n",
       "Q 959 750 1161 570 \n",
       "Q 1363 391 1709 391 \n",
       "Q 2188 391 2477 730 \n",
       "Q 2766 1069 2766 1631 \n",
       "L 2766 1759 \n",
       "L 2194 1759 \n",
       "z\n",
       "M 3341 1997 \n",
       "L 3341 0 \n",
       "L 2766 0 \n",
       "L 2766 531 \n",
       "Q 2569 213 2275 61 \n",
       "Q 1981 -91 1556 -91 \n",
       "Q 1019 -91 701 211 \n",
       "Q 384 513 384 1019 \n",
       "Q 384 1609 779 1909 \n",
       "Q 1175 2209 1959 2209 \n",
       "L 2766 2209 \n",
       "L 2766 2266 \n",
       "Q 2766 2663 2505 2880 \n",
       "Q 2244 3097 1772 3097 \n",
       "Q 1472 3097 1187 3025 \n",
       "Q 903 2953 641 2809 \n",
       "L 641 3341 \n",
       "Q 956 3463 1253 3523 \n",
       "Q 1550 3584 1831 3584 \n",
       "Q 2591 3584 2966 3190 \n",
       "Q 3341 2797 3341 1997 \n",
       "z\n",
       "\" id=\"DejaVuSans-61\" transform=\"scale(0.015625)\"/>\n",
       "       <path d=\"M 2631 2963 \n",
       "Q 2534 3019 2420 3045 \n",
       "Q 2306 3072 2169 3072 \n",
       "Q 1681 3072 1420 2755 \n",
       "Q 1159 2438 1159 1844 \n",
       "L 1159 0 \n",
       "L 581 0 \n",
       "L 581 3500 \n",
       "L 1159 3500 \n",
       "L 1159 2956 \n",
       "Q 1341 3275 1631 3429 \n",
       "Q 1922 3584 2338 3584 \n",
       "Q 2397 3584 2469 3576 \n",
       "Q 2541 3569 2628 3553 \n",
       "L 2631 2963 \n",
       "z\n",
       "\" id=\"DejaVuSans-72\" transform=\"scale(0.015625)\"/>\n",
       "       <path d=\"M 3597 1894 \n",
       "L 3597 1613 \n",
       "L 953 1613 \n",
       "Q 991 1019 1311 708 \n",
       "Q 1631 397 2203 397 \n",
       "Q 2534 397 2845 478 \n",
       "Q 3156 559 3463 722 \n",
       "L 3463 178 \n",
       "Q 3153 47 2828 -22 \n",
       "Q 2503 -91 2169 -91 \n",
       "Q 1331 -91 842 396 \n",
       "Q 353 884 353 1716 \n",
       "Q 353 2575 817 3079 \n",
       "Q 1281 3584 2069 3584 \n",
       "Q 2775 3584 3186 3129 \n",
       "Q 3597 2675 3597 1894 \n",
       "z\n",
       "M 3022 2063 \n",
       "Q 3016 2534 2758 2815 \n",
       "Q 2500 3097 2075 3097 \n",
       "Q 1594 3097 1305 2825 \n",
       "Q 1016 2553 972 2059 \n",
       "L 3022 2063 \n",
       "z\n",
       "\" id=\"DejaVuSans-65\" transform=\"scale(0.015625)\"/>\n",
       "       <path d=\"M 3263 -1063 \n",
       "L 3263 -1509 \n",
       "L -63 -1509 \n",
       "L -63 -1063 \n",
       "L 3263 -1063 \n",
       "z\n",
       "\" id=\"DejaVuSans-5f\" transform=\"scale(0.015625)\"/>\n",
       "       <path d=\"M 1172 4494 \n",
       "L 1172 3500 \n",
       "L 2356 3500 \n",
       "L 2356 3053 \n",
       "L 1172 3053 \n",
       "L 1172 1153 \n",
       "Q 1172 725 1289 603 \n",
       "Q 1406 481 1766 481 \n",
       "L 2356 481 \n",
       "L 2356 0 \n",
       "L 1766 0 \n",
       "Q 1100 0 847 248 \n",
       "Q 594 497 594 1153 \n",
       "L 594 3053 \n",
       "L 172 3053 \n",
       "L 172 3500 \n",
       "L 594 3500 \n",
       "L 594 4494 \n",
       "L 1172 4494 \n",
       "z\n",
       "\" id=\"DejaVuSans-74\" transform=\"scale(0.015625)\"/>\n",
       "       <path d=\"M 2906 1791 \n",
       "Q 2906 2416 2648 2759 \n",
       "Q 2391 3103 1925 3103 \n",
       "Q 1463 3103 1205 2759 \n",
       "Q 947 2416 947 1791 \n",
       "Q 947 1169 1205 825 \n",
       "Q 1463 481 1925 481 \n",
       "Q 2391 481 2648 825 \n",
       "Q 2906 1169 2906 1791 \n",
       "z\n",
       "M 3481 434 \n",
       "Q 3481 -459 3084 -895 \n",
       "Q 2688 -1331 1869 -1331 \n",
       "Q 1566 -1331 1297 -1286 \n",
       "Q 1028 -1241 775 -1147 \n",
       "L 775 -588 \n",
       "Q 1028 -725 1275 -790 \n",
       "Q 1522 -856 1778 -856 \n",
       "Q 2344 -856 2625 -561 \n",
       "Q 2906 -266 2906 331 \n",
       "L 2906 616 \n",
       "Q 2728 306 2450 153 \n",
       "Q 2172 0 1784 0 \n",
       "Q 1141 0 747 490 \n",
       "Q 353 981 353 1791 \n",
       "Q 353 2603 747 3093 \n",
       "Q 1141 3584 1784 3584 \n",
       "Q 2172 3584 2450 3431 \n",
       "Q 2728 3278 2906 2969 \n",
       "L 2906 3500 \n",
       "L 3481 3500 \n",
       "L 3481 434 \n",
       "z\n",
       "\" id=\"DejaVuSans-67\" transform=\"scale(0.015625)\"/>\n",
       "       <path d=\"M 603 3500 \n",
       "L 1178 3500 \n",
       "L 1178 0 \n",
       "L 603 0 \n",
       "L 603 3500 \n",
       "z\n",
       "M 603 4863 \n",
       "L 1178 4863 \n",
       "L 1178 4134 \n",
       "L 603 4134 \n",
       "L 603 4863 \n",
       "z\n",
       "\" id=\"DejaVuSans-69\" transform=\"scale(0.015625)\"/>\n",
       "       <path d=\"M 603 4863 \n",
       "L 1178 4863 \n",
       "L 1178 0 \n",
       "L 603 0 \n",
       "L 603 4863 \n",
       "z\n",
       "\" id=\"DejaVuSans-6c\" transform=\"scale(0.015625)\"/>\n",
       "       <path d=\"M 544 1381 \n",
       "L 544 3500 \n",
       "L 1119 3500 \n",
       "L 1119 1403 \n",
       "Q 1119 906 1312 657 \n",
       "Q 1506 409 1894 409 \n",
       "Q 2359 409 2629 706 \n",
       "Q 2900 1003 2900 1516 \n",
       "L 2900 3500 \n",
       "L 3475 3500 \n",
       "L 3475 0 \n",
       "L 2900 0 \n",
       "L 2900 538 \n",
       "Q 2691 219 2414 64 \n",
       "Q 2138 -91 1772 -91 \n",
       "Q 1169 -91 856 284 \n",
       "Q 544 659 544 1381 \n",
       "z\n",
       "M 1991 3584 \n",
       "L 1991 3584 \n",
       "z\n",
       "\" id=\"DejaVuSans-75\" transform=\"scale(0.015625)\"/>\n",
       "       <path d=\"M 2059 -325 \n",
       "Q 1816 -950 1584 -1140 \n",
       "Q 1353 -1331 966 -1331 \n",
       "L 506 -1331 \n",
       "L 506 -850 \n",
       "L 844 -850 \n",
       "Q 1081 -850 1212 -737 \n",
       "Q 1344 -625 1503 -206 \n",
       "L 1606 56 \n",
       "L 191 3500 \n",
       "L 800 3500 \n",
       "L 1894 763 \n",
       "L 2988 3500 \n",
       "L 3597 3500 \n",
       "L 2059 -325 \n",
       "z\n",
       "\" id=\"DejaVuSans-79\" transform=\"scale(0.015625)\"/>\n",
       "      </defs>\n",
       "      <use xlink:href=\"#DejaVuSans-73\"/>\n",
       "      <use x=\"52.099609\" xlink:href=\"#DejaVuSans-70\"/>\n",
       "      <use x=\"115.576172\" xlink:href=\"#DejaVuSans-61\"/>\n",
       "      <use x=\"176.855469\" xlink:href=\"#DejaVuSans-72\"/>\n",
       "      <use x=\"217.96875\" xlink:href=\"#DejaVuSans-73\"/>\n",
       "      <use x=\"270.068359\" xlink:href=\"#DejaVuSans-65\"/>\n",
       "      <use x=\"331.591797\" xlink:href=\"#DejaVuSans-5f\"/>\n",
       "      <use x=\"381.591797\" xlink:href=\"#DejaVuSans-63\"/>\n",
       "      <use x=\"436.572266\" xlink:href=\"#DejaVuSans-61\"/>\n",
       "      <use x=\"497.851562\" xlink:href=\"#DejaVuSans-74\"/>\n",
       "      <use x=\"537.060547\" xlink:href=\"#DejaVuSans-65\"/>\n",
       "      <use x=\"598.583984\" xlink:href=\"#DejaVuSans-67\"/>\n",
       "      <use x=\"662.060547\" xlink:href=\"#DejaVuSans-6f\"/>\n",
       "      <use x=\"723.242188\" xlink:href=\"#DejaVuSans-72\"/>\n",
       "      <use x=\"764.355469\" xlink:href=\"#DejaVuSans-69\"/>\n",
       "      <use x=\"792.138672\" xlink:href=\"#DejaVuSans-63\"/>\n",
       "      <use x=\"847.119141\" xlink:href=\"#DejaVuSans-61\"/>\n",
       "      <use x=\"908.398438\" xlink:href=\"#DejaVuSans-6c\"/>\n",
       "      <use x=\"936.181641\" xlink:href=\"#DejaVuSans-5f\"/>\n",
       "      <use x=\"986.181641\" xlink:href=\"#DejaVuSans-61\"/>\n",
       "      <use x=\"1047.460938\" xlink:href=\"#DejaVuSans-63\"/>\n",
       "      <use x=\"1102.441406\" xlink:href=\"#DejaVuSans-63\"/>\n",
       "      <use x=\"1157.421875\" xlink:href=\"#DejaVuSans-75\"/>\n",
       "      <use x=\"1220.800781\" xlink:href=\"#DejaVuSans-72\"/>\n",
       "      <use x=\"1261.914062\" xlink:href=\"#DejaVuSans-61\"/>\n",
       "      <use x=\"1323.193359\" xlink:href=\"#DejaVuSans-63\"/>\n",
       "      <use x=\"1378.173828\" xlink:href=\"#DejaVuSans-79\"/>\n",
       "     </g>\n",
       "    </g>\n",
       "   </g>\n",
       "   <g id=\"line2d_15\">\n",
       "    <path clip-path=\"url(#pc13ce1ce89)\" d=\"M 72.002557 154.610478 \n",
       "L 88.021696 139.921482 \n",
       "L 104.040834 125.372155 \n",
       "L 120.059973 104.527723 \n",
       "L 136.079112 96.693758 \n",
       "L 152.098251 91.377586 \n",
       "L 168.117389 80.745658 \n",
       "L 184.136528 72.911276 \n",
       "L 200.155667 67.73519 \n",
       "L 216.174806 63.538453 \n",
       "L 232.193944 56.683421 \n",
       "L 248.213083 54.305298 \n",
       "L 264.232222 53.885458 \n",
       "L 280.251361 41.574585 \n",
       "L 296.270499 43.533284 \n",
       "L 312.289638 40.31548 \n",
       "L 328.308777 37.377848 \n",
       "L 344.327916 33.180694 \n",
       "L 360.347054 35.698903 \n",
       "L 376.366193 32.201761 \n",
       "\" style=\"fill:none;stroke:#0000ff;stroke-dasharray:5.55,2.4;stroke-dashoffset:0;stroke-width:1.5;\"/>\n",
       "    <defs>\n",
       "     <path d=\"M 0 3 \n",
       "C 0.795609 3 1.55874 2.683901 2.12132 2.12132 \n",
       "C 2.683901 1.55874 3 0.795609 3 0 \n",
       "C 3 -0.795609 2.683901 -1.55874 2.12132 -2.12132 \n",
       "C 1.55874 -2.683901 0.795609 -3 0 -3 \n",
       "C -0.795609 -3 -1.55874 -2.683901 -2.12132 -2.12132 \n",
       "C -2.683901 -1.55874 -3 -0.795609 -3 0 \n",
       "C -3 0.795609 -2.683901 1.55874 -2.12132 2.12132 \n",
       "C -1.55874 2.683901 -0.795609 3 0 3 \n",
       "z\n",
       "\" id=\"mfefe679ca5\" style=\"stroke:#0000ff;\"/>\n",
       "    </defs>\n",
       "    <g clip-path=\"url(#pc13ce1ce89)\">\n",
       "     <use style=\"fill:#0000ff;stroke:#0000ff;\" x=\"72.002557\" xlink:href=\"#mfefe679ca5\" y=\"154.610478\"/>\n",
       "     <use style=\"fill:#0000ff;stroke:#0000ff;\" x=\"88.021696\" xlink:href=\"#mfefe679ca5\" y=\"139.921482\"/>\n",
       "     <use style=\"fill:#0000ff;stroke:#0000ff;\" x=\"104.040834\" xlink:href=\"#mfefe679ca5\" y=\"125.372155\"/>\n",
       "     <use style=\"fill:#0000ff;stroke:#0000ff;\" x=\"120.059973\" xlink:href=\"#mfefe679ca5\" y=\"104.527723\"/>\n",
       "     <use style=\"fill:#0000ff;stroke:#0000ff;\" x=\"136.079112\" xlink:href=\"#mfefe679ca5\" y=\"96.693758\"/>\n",
       "     <use style=\"fill:#0000ff;stroke:#0000ff;\" x=\"152.098251\" xlink:href=\"#mfefe679ca5\" y=\"91.377586\"/>\n",
       "     <use style=\"fill:#0000ff;stroke:#0000ff;\" x=\"168.117389\" xlink:href=\"#mfefe679ca5\" y=\"80.745658\"/>\n",
       "     <use style=\"fill:#0000ff;stroke:#0000ff;\" x=\"184.136528\" xlink:href=\"#mfefe679ca5\" y=\"72.911276\"/>\n",
       "     <use style=\"fill:#0000ff;stroke:#0000ff;\" x=\"200.155667\" xlink:href=\"#mfefe679ca5\" y=\"67.73519\"/>\n",
       "     <use style=\"fill:#0000ff;stroke:#0000ff;\" x=\"216.174806\" xlink:href=\"#mfefe679ca5\" y=\"63.538453\"/>\n",
       "     <use style=\"fill:#0000ff;stroke:#0000ff;\" x=\"232.193944\" xlink:href=\"#mfefe679ca5\" y=\"56.683421\"/>\n",
       "     <use style=\"fill:#0000ff;stroke:#0000ff;\" x=\"248.213083\" xlink:href=\"#mfefe679ca5\" y=\"54.305298\"/>\n",
       "     <use style=\"fill:#0000ff;stroke:#0000ff;\" x=\"264.232222\" xlink:href=\"#mfefe679ca5\" y=\"53.885458\"/>\n",
       "     <use style=\"fill:#0000ff;stroke:#0000ff;\" x=\"280.251361\" xlink:href=\"#mfefe679ca5\" y=\"41.574585\"/>\n",
       "     <use style=\"fill:#0000ff;stroke:#0000ff;\" x=\"296.270499\" xlink:href=\"#mfefe679ca5\" y=\"43.533284\"/>\n",
       "     <use style=\"fill:#0000ff;stroke:#0000ff;\" x=\"312.289638\" xlink:href=\"#mfefe679ca5\" y=\"40.31548\"/>\n",
       "     <use style=\"fill:#0000ff;stroke:#0000ff;\" x=\"328.308777\" xlink:href=\"#mfefe679ca5\" y=\"37.377848\"/>\n",
       "     <use style=\"fill:#0000ff;stroke:#0000ff;\" x=\"344.327916\" xlink:href=\"#mfefe679ca5\" y=\"33.180694\"/>\n",
       "     <use style=\"fill:#0000ff;stroke:#0000ff;\" x=\"360.347054\" xlink:href=\"#mfefe679ca5\" y=\"35.698903\"/>\n",
       "     <use style=\"fill:#0000ff;stroke:#0000ff;\" x=\"376.366193\" xlink:href=\"#mfefe679ca5\" y=\"32.201761\"/>\n",
       "    </g>\n",
       "   </g>\n",
       "   <g id=\"line2d_16\">\n",
       "    <path clip-path=\"url(#pc13ce1ce89)\" d=\"M 72.002557 229.874489 \n",
       "L 88.021696 199.097306 \n",
       "L 104.040834 192.802201 \n",
       "L 120.059973 201.89527 \n",
       "L 136.079112 215.185493 \n",
       "L 152.098251 192.102606 \n",
       "L 168.117389 203.993638 \n",
       "L 184.136528 206.791602 \n",
       "L 200.155667 200.496497 \n",
       "L 216.174806 200.496497 \n",
       "L 232.193944 225.677335 \n",
       "L 248.213083 203.294043 \n",
       "L 264.232222 196.299343 \n",
       "L 280.251361 197.698533 \n",
       "L 296.270499 187.206274 \n",
       "L 312.289638 203.294043 \n",
       "L 328.308777 195.599748 \n",
       "L 344.327916 185.807084 \n",
       "L 360.347054 192.102606 \n",
       "L 376.366193 201.89527 \n",
       "\" style=\"fill:none;stroke:#ff0000;stroke-linecap:square;stroke-width:1.5;\"/>\n",
       "    <defs>\n",
       "     <path d=\"M 0 3 \n",
       "C 0.795609 3 1.55874 2.683901 2.12132 2.12132 \n",
       "C 2.683901 1.55874 3 0.795609 3 0 \n",
       "C 3 -0.795609 2.683901 -1.55874 2.12132 -2.12132 \n",
       "C 1.55874 -2.683901 0.795609 -3 0 -3 \n",
       "C -0.795609 -3 -1.55874 -2.683901 -2.12132 -2.12132 \n",
       "C -2.683901 -1.55874 -3 -0.795609 -3 0 \n",
       "C -3 0.795609 -2.683901 1.55874 -2.12132 2.12132 \n",
       "C -1.55874 2.683901 -0.795609 3 0 3 \n",
       "z\n",
       "\" id=\"mfecfddc873\" style=\"stroke:#ff0000;\"/>\n",
       "    </defs>\n",
       "    <g clip-path=\"url(#pc13ce1ce89)\">\n",
       "     <use style=\"fill:#ff0000;stroke:#ff0000;\" x=\"72.002557\" xlink:href=\"#mfecfddc873\" y=\"229.874489\"/>\n",
       "     <use style=\"fill:#ff0000;stroke:#ff0000;\" x=\"88.021696\" xlink:href=\"#mfecfddc873\" y=\"199.097306\"/>\n",
       "     <use style=\"fill:#ff0000;stroke:#ff0000;\" x=\"104.040834\" xlink:href=\"#mfecfddc873\" y=\"192.802201\"/>\n",
       "     <use style=\"fill:#ff0000;stroke:#ff0000;\" x=\"120.059973\" xlink:href=\"#mfecfddc873\" y=\"201.89527\"/>\n",
       "     <use style=\"fill:#ff0000;stroke:#ff0000;\" x=\"136.079112\" xlink:href=\"#mfecfddc873\" y=\"215.185493\"/>\n",
       "     <use style=\"fill:#ff0000;stroke:#ff0000;\" x=\"152.098251\" xlink:href=\"#mfecfddc873\" y=\"192.102606\"/>\n",
       "     <use style=\"fill:#ff0000;stroke:#ff0000;\" x=\"168.117389\" xlink:href=\"#mfecfddc873\" y=\"203.993638\"/>\n",
       "     <use style=\"fill:#ff0000;stroke:#ff0000;\" x=\"184.136528\" xlink:href=\"#mfecfddc873\" y=\"206.791602\"/>\n",
       "     <use style=\"fill:#ff0000;stroke:#ff0000;\" x=\"200.155667\" xlink:href=\"#mfecfddc873\" y=\"200.496497\"/>\n",
       "     <use style=\"fill:#ff0000;stroke:#ff0000;\" x=\"216.174806\" xlink:href=\"#mfecfddc873\" y=\"200.496497\"/>\n",
       "     <use style=\"fill:#ff0000;stroke:#ff0000;\" x=\"232.193944\" xlink:href=\"#mfecfddc873\" y=\"225.677335\"/>\n",
       "     <use style=\"fill:#ff0000;stroke:#ff0000;\" x=\"248.213083\" xlink:href=\"#mfecfddc873\" y=\"203.294043\"/>\n",
       "     <use style=\"fill:#ff0000;stroke:#ff0000;\" x=\"264.232222\" xlink:href=\"#mfecfddc873\" y=\"196.299343\"/>\n",
       "     <use style=\"fill:#ff0000;stroke:#ff0000;\" x=\"280.251361\" xlink:href=\"#mfecfddc873\" y=\"197.698533\"/>\n",
       "     <use style=\"fill:#ff0000;stroke:#ff0000;\" x=\"296.270499\" xlink:href=\"#mfecfddc873\" y=\"187.206274\"/>\n",
       "     <use style=\"fill:#ff0000;stroke:#ff0000;\" x=\"312.289638\" xlink:href=\"#mfecfddc873\" y=\"203.294043\"/>\n",
       "     <use style=\"fill:#ff0000;stroke:#ff0000;\" x=\"328.308777\" xlink:href=\"#mfecfddc873\" y=\"195.599748\"/>\n",
       "     <use style=\"fill:#ff0000;stroke:#ff0000;\" x=\"344.327916\" xlink:href=\"#mfecfddc873\" y=\"185.807084\"/>\n",
       "     <use style=\"fill:#ff0000;stroke:#ff0000;\" x=\"360.347054\" xlink:href=\"#mfecfddc873\" y=\"192.102606\"/>\n",
       "     <use style=\"fill:#ff0000;stroke:#ff0000;\" x=\"376.366193\" xlink:href=\"#mfecfddc873\" y=\"201.89527\"/>\n",
       "    </g>\n",
       "   </g>\n",
       "   <g id=\"patch_3\">\n",
       "    <path d=\"M 56.784375 239.758125 \n",
       "L 56.784375 22.318125 \n",
       "\" style=\"fill:none;stroke:#000000;stroke-linecap:square;stroke-linejoin:miter;stroke-width:0.8;\"/>\n",
       "   </g>\n",
       "   <g id=\"patch_4\">\n",
       "    <path d=\"M 391.584375 239.758125 \n",
       "L 391.584375 22.318125 \n",
       "\" style=\"fill:none;stroke:#000000;stroke-linecap:square;stroke-linejoin:miter;stroke-width:0.8;\"/>\n",
       "   </g>\n",
       "   <g id=\"patch_5\">\n",
       "    <path d=\"M 56.784375 239.758125 \n",
       "L 391.584375 239.758125 \n",
       "\" style=\"fill:none;stroke:#000000;stroke-linecap:square;stroke-linejoin:miter;stroke-width:0.8;\"/>\n",
       "   </g>\n",
       "   <g id=\"patch_6\">\n",
       "    <path d=\"M 56.784375 22.318125 \n",
       "L 391.584375 22.318125 \n",
       "\" style=\"fill:none;stroke:#000000;stroke-linecap:square;stroke-linejoin:miter;stroke-width:0.8;\"/>\n",
       "   </g>\n",
       "   <g id=\"text_17\">\n",
       "    <!-- Training and validation sparse_categorical_accuracy -->\n",
       "    <g transform=\"translate(67.720313 16.318125)scale(0.12 -0.12)\">\n",
       "     <defs>\n",
       "      <path d=\"M -19 4666 \n",
       "L 3928 4666 \n",
       "L 3928 4134 \n",
       "L 2272 4134 \n",
       "L 2272 0 \n",
       "L 1638 0 \n",
       "L 1638 4134 \n",
       "L -19 4134 \n",
       "L -19 4666 \n",
       "z\n",
       "\" id=\"DejaVuSans-54\" transform=\"scale(0.015625)\"/>\n",
       "      <path d=\"M 3513 2113 \n",
       "L 3513 0 \n",
       "L 2938 0 \n",
       "L 2938 2094 \n",
       "Q 2938 2591 2744 2837 \n",
       "Q 2550 3084 2163 3084 \n",
       "Q 1697 3084 1428 2787 \n",
       "Q 1159 2491 1159 1978 \n",
       "L 1159 0 \n",
       "L 581 0 \n",
       "L 581 3500 \n",
       "L 1159 3500 \n",
       "L 1159 2956 \n",
       "Q 1366 3272 1645 3428 \n",
       "Q 1925 3584 2291 3584 \n",
       "Q 2894 3584 3203 3211 \n",
       "Q 3513 2838 3513 2113 \n",
       "z\n",
       "\" id=\"DejaVuSans-6e\" transform=\"scale(0.015625)\"/>\n",
       "      <path id=\"DejaVuSans-20\" transform=\"scale(0.015625)\"/>\n",
       "      <path d=\"M 2906 2969 \n",
       "L 2906 4863 \n",
       "L 3481 4863 \n",
       "L 3481 0 \n",
       "L 2906 0 \n",
       "L 2906 525 \n",
       "Q 2725 213 2448 61 \n",
       "Q 2172 -91 1784 -91 \n",
       "Q 1150 -91 751 415 \n",
       "Q 353 922 353 1747 \n",
       "Q 353 2572 751 3078 \n",
       "Q 1150 3584 1784 3584 \n",
       "Q 2172 3584 2448 3432 \n",
       "Q 2725 3281 2906 2969 \n",
       "z\n",
       "M 947 1747 \n",
       "Q 947 1113 1208 752 \n",
       "Q 1469 391 1925 391 \n",
       "Q 2381 391 2643 752 \n",
       "Q 2906 1113 2906 1747 \n",
       "Q 2906 2381 2643 2742 \n",
       "Q 2381 3103 1925 3103 \n",
       "Q 1469 3103 1208 2742 \n",
       "Q 947 2381 947 1747 \n",
       "z\n",
       "\" id=\"DejaVuSans-64\" transform=\"scale(0.015625)\"/>\n",
       "      <path d=\"M 191 3500 \n",
       "L 800 3500 \n",
       "L 1894 563 \n",
       "L 2988 3500 \n",
       "L 3597 3500 \n",
       "L 2284 0 \n",
       "L 1503 0 \n",
       "L 191 3500 \n",
       "z\n",
       "\" id=\"DejaVuSans-76\" transform=\"scale(0.015625)\"/>\n",
       "     </defs>\n",
       "     <use xlink:href=\"#DejaVuSans-54\"/>\n",
       "     <use x=\"46.333984\" xlink:href=\"#DejaVuSans-72\"/>\n",
       "     <use x=\"87.447266\" xlink:href=\"#DejaVuSans-61\"/>\n",
       "     <use x=\"148.726562\" xlink:href=\"#DejaVuSans-69\"/>\n",
       "     <use x=\"176.509766\" xlink:href=\"#DejaVuSans-6e\"/>\n",
       "     <use x=\"239.888672\" xlink:href=\"#DejaVuSans-69\"/>\n",
       "     <use x=\"267.671875\" xlink:href=\"#DejaVuSans-6e\"/>\n",
       "     <use x=\"331.050781\" xlink:href=\"#DejaVuSans-67\"/>\n",
       "     <use x=\"394.527344\" xlink:href=\"#DejaVuSans-20\"/>\n",
       "     <use x=\"426.314453\" xlink:href=\"#DejaVuSans-61\"/>\n",
       "     <use x=\"487.59375\" xlink:href=\"#DejaVuSans-6e\"/>\n",
       "     <use x=\"550.972656\" xlink:href=\"#DejaVuSans-64\"/>\n",
       "     <use x=\"614.449219\" xlink:href=\"#DejaVuSans-20\"/>\n",
       "     <use x=\"646.236328\" xlink:href=\"#DejaVuSans-76\"/>\n",
       "     <use x=\"705.416016\" xlink:href=\"#DejaVuSans-61\"/>\n",
       "     <use x=\"766.695312\" xlink:href=\"#DejaVuSans-6c\"/>\n",
       "     <use x=\"794.478516\" xlink:href=\"#DejaVuSans-69\"/>\n",
       "     <use x=\"822.261719\" xlink:href=\"#DejaVuSans-64\"/>\n",
       "     <use x=\"885.738281\" xlink:href=\"#DejaVuSans-61\"/>\n",
       "     <use x=\"947.017578\" xlink:href=\"#DejaVuSans-74\"/>\n",
       "     <use x=\"986.226562\" xlink:href=\"#DejaVuSans-69\"/>\n",
       "     <use x=\"1014.009766\" xlink:href=\"#DejaVuSans-6f\"/>\n",
       "     <use x=\"1075.191406\" xlink:href=\"#DejaVuSans-6e\"/>\n",
       "     <use x=\"1138.570312\" xlink:href=\"#DejaVuSans-20\"/>\n",
       "     <use x=\"1170.357422\" xlink:href=\"#DejaVuSans-73\"/>\n",
       "     <use x=\"1222.457031\" xlink:href=\"#DejaVuSans-70\"/>\n",
       "     <use x=\"1285.933594\" xlink:href=\"#DejaVuSans-61\"/>\n",
       "     <use x=\"1347.212891\" xlink:href=\"#DejaVuSans-72\"/>\n",
       "     <use x=\"1388.326172\" xlink:href=\"#DejaVuSans-73\"/>\n",
       "     <use x=\"1440.425781\" xlink:href=\"#DejaVuSans-65\"/>\n",
       "     <use x=\"1501.949219\" xlink:href=\"#DejaVuSans-5f\"/>\n",
       "     <use x=\"1551.949219\" xlink:href=\"#DejaVuSans-63\"/>\n",
       "     <use x=\"1606.929688\" xlink:href=\"#DejaVuSans-61\"/>\n",
       "     <use x=\"1668.208984\" xlink:href=\"#DejaVuSans-74\"/>\n",
       "     <use x=\"1707.417969\" xlink:href=\"#DejaVuSans-65\"/>\n",
       "     <use x=\"1768.941406\" xlink:href=\"#DejaVuSans-67\"/>\n",
       "     <use x=\"1832.417969\" xlink:href=\"#DejaVuSans-6f\"/>\n",
       "     <use x=\"1893.599609\" xlink:href=\"#DejaVuSans-72\"/>\n",
       "     <use x=\"1934.712891\" xlink:href=\"#DejaVuSans-69\"/>\n",
       "     <use x=\"1962.496094\" xlink:href=\"#DejaVuSans-63\"/>\n",
       "     <use x=\"2017.476562\" xlink:href=\"#DejaVuSans-61\"/>\n",
       "     <use x=\"2078.755859\" xlink:href=\"#DejaVuSans-6c\"/>\n",
       "     <use x=\"2106.539062\" xlink:href=\"#DejaVuSans-5f\"/>\n",
       "     <use x=\"2156.539062\" xlink:href=\"#DejaVuSans-61\"/>\n",
       "     <use x=\"2217.818359\" xlink:href=\"#DejaVuSans-63\"/>\n",
       "     <use x=\"2272.798828\" xlink:href=\"#DejaVuSans-63\"/>\n",
       "     <use x=\"2327.779297\" xlink:href=\"#DejaVuSans-75\"/>\n",
       "     <use x=\"2391.158203\" xlink:href=\"#DejaVuSans-72\"/>\n",
       "     <use x=\"2432.271484\" xlink:href=\"#DejaVuSans-61\"/>\n",
       "     <use x=\"2493.550781\" xlink:href=\"#DejaVuSans-63\"/>\n",
       "     <use x=\"2548.53125\" xlink:href=\"#DejaVuSans-79\"/>\n",
       "    </g>\n",
       "   </g>\n",
       "   <g id=\"legend_1\">\n",
       "    <g id=\"patch_7\">\n",
       "     <path d=\"M 180.570312 147.494375 \n",
       "L 384.584375 147.494375 \n",
       "Q 386.584375 147.494375 386.584375 145.494375 \n",
       "L 386.584375 116.581875 \n",
       "Q 386.584375 114.581875 384.584375 114.581875 \n",
       "L 180.570312 114.581875 \n",
       "Q 178.570312 114.581875 178.570312 116.581875 \n",
       "L 178.570312 145.494375 \n",
       "Q 178.570312 147.494375 180.570312 147.494375 \n",
       "z\n",
       "\" style=\"fill:#ffffff;opacity:0.8;stroke:#cccccc;stroke-linejoin:miter;\"/>\n",
       "    </g>\n",
       "    <g id=\"line2d_17\">\n",
       "     <path d=\"M 182.570312 122.680312 \n",
       "L 202.570312 122.680312 \n",
       "\" style=\"fill:none;stroke:#0000ff;stroke-dasharray:5.55,2.4;stroke-dashoffset:0;stroke-width:1.5;\"/>\n",
       "    </g>\n",
       "    <g id=\"line2d_18\">\n",
       "     <g>\n",
       "      <use style=\"fill:#0000ff;stroke:#0000ff;\" x=\"192.570312\" xlink:href=\"#mfefe679ca5\" y=\"122.680312\"/>\n",
       "     </g>\n",
       "    </g>\n",
       "    <g id=\"text_18\">\n",
       "     <!-- train_sparse_categorical_accuracy -->\n",
       "     <g transform=\"translate(210.570312 126.180312)scale(0.1 -0.1)\">\n",
       "      <use xlink:href=\"#DejaVuSans-74\"/>\n",
       "      <use x=\"39.208984\" xlink:href=\"#DejaVuSans-72\"/>\n",
       "      <use x=\"80.322266\" xlink:href=\"#DejaVuSans-61\"/>\n",
       "      <use x=\"141.601562\" xlink:href=\"#DejaVuSans-69\"/>\n",
       "      <use x=\"169.384766\" xlink:href=\"#DejaVuSans-6e\"/>\n",
       "      <use x=\"232.763672\" xlink:href=\"#DejaVuSans-5f\"/>\n",
       "      <use x=\"282.763672\" xlink:href=\"#DejaVuSans-73\"/>\n",
       "      <use x=\"334.863281\" xlink:href=\"#DejaVuSans-70\"/>\n",
       "      <use x=\"398.339844\" xlink:href=\"#DejaVuSans-61\"/>\n",
       "      <use x=\"459.619141\" xlink:href=\"#DejaVuSans-72\"/>\n",
       "      <use x=\"500.732422\" xlink:href=\"#DejaVuSans-73\"/>\n",
       "      <use x=\"552.832031\" xlink:href=\"#DejaVuSans-65\"/>\n",
       "      <use x=\"614.355469\" xlink:href=\"#DejaVuSans-5f\"/>\n",
       "      <use x=\"664.355469\" xlink:href=\"#DejaVuSans-63\"/>\n",
       "      <use x=\"719.335938\" xlink:href=\"#DejaVuSans-61\"/>\n",
       "      <use x=\"780.615234\" xlink:href=\"#DejaVuSans-74\"/>\n",
       "      <use x=\"819.824219\" xlink:href=\"#DejaVuSans-65\"/>\n",
       "      <use x=\"881.347656\" xlink:href=\"#DejaVuSans-67\"/>\n",
       "      <use x=\"944.824219\" xlink:href=\"#DejaVuSans-6f\"/>\n",
       "      <use x=\"1006.005859\" xlink:href=\"#DejaVuSans-72\"/>\n",
       "      <use x=\"1047.119141\" xlink:href=\"#DejaVuSans-69\"/>\n",
       "      <use x=\"1074.902344\" xlink:href=\"#DejaVuSans-63\"/>\n",
       "      <use x=\"1129.882812\" xlink:href=\"#DejaVuSans-61\"/>\n",
       "      <use x=\"1191.162109\" xlink:href=\"#DejaVuSans-6c\"/>\n",
       "      <use x=\"1218.945312\" xlink:href=\"#DejaVuSans-5f\"/>\n",
       "      <use x=\"1268.945312\" xlink:href=\"#DejaVuSans-61\"/>\n",
       "      <use x=\"1330.224609\" xlink:href=\"#DejaVuSans-63\"/>\n",
       "      <use x=\"1385.205078\" xlink:href=\"#DejaVuSans-63\"/>\n",
       "      <use x=\"1440.185547\" xlink:href=\"#DejaVuSans-75\"/>\n",
       "      <use x=\"1503.564453\" xlink:href=\"#DejaVuSans-72\"/>\n",
       "      <use x=\"1544.677734\" xlink:href=\"#DejaVuSans-61\"/>\n",
       "      <use x=\"1605.957031\" xlink:href=\"#DejaVuSans-63\"/>\n",
       "      <use x=\"1660.9375\" xlink:href=\"#DejaVuSans-79\"/>\n",
       "     </g>\n",
       "    </g>\n",
       "    <g id=\"line2d_19\">\n",
       "     <path d=\"M 182.570312 137.636562 \n",
       "L 202.570312 137.636562 \n",
       "\" style=\"fill:none;stroke:#ff0000;stroke-linecap:square;stroke-width:1.5;\"/>\n",
       "    </g>\n",
       "    <g id=\"line2d_20\">\n",
       "     <g>\n",
       "      <use style=\"fill:#ff0000;stroke:#ff0000;\" x=\"192.570312\" xlink:href=\"#mfecfddc873\" y=\"137.636562\"/>\n",
       "     </g>\n",
       "    </g>\n",
       "    <g id=\"text_19\">\n",
       "     <!-- val_sparse_categorical_accuracy -->\n",
       "     <g transform=\"translate(210.570312 141.136562)scale(0.1 -0.1)\">\n",
       "      <use xlink:href=\"#DejaVuSans-76\"/>\n",
       "      <use x=\"59.179688\" xlink:href=\"#DejaVuSans-61\"/>\n",
       "      <use x=\"120.458984\" xlink:href=\"#DejaVuSans-6c\"/>\n",
       "      <use x=\"148.242188\" xlink:href=\"#DejaVuSans-5f\"/>\n",
       "      <use x=\"198.242188\" xlink:href=\"#DejaVuSans-73\"/>\n",
       "      <use x=\"250.341797\" xlink:href=\"#DejaVuSans-70\"/>\n",
       "      <use x=\"313.818359\" xlink:href=\"#DejaVuSans-61\"/>\n",
       "      <use x=\"375.097656\" xlink:href=\"#DejaVuSans-72\"/>\n",
       "      <use x=\"416.210938\" xlink:href=\"#DejaVuSans-73\"/>\n",
       "      <use x=\"468.310547\" xlink:href=\"#DejaVuSans-65\"/>\n",
       "      <use x=\"529.833984\" xlink:href=\"#DejaVuSans-5f\"/>\n",
       "      <use x=\"579.833984\" xlink:href=\"#DejaVuSans-63\"/>\n",
       "      <use x=\"634.814453\" xlink:href=\"#DejaVuSans-61\"/>\n",
       "      <use x=\"696.09375\" xlink:href=\"#DejaVuSans-74\"/>\n",
       "      <use x=\"735.302734\" xlink:href=\"#DejaVuSans-65\"/>\n",
       "      <use x=\"796.826172\" xlink:href=\"#DejaVuSans-67\"/>\n",
       "      <use x=\"860.302734\" xlink:href=\"#DejaVuSans-6f\"/>\n",
       "      <use x=\"921.484375\" xlink:href=\"#DejaVuSans-72\"/>\n",
       "      <use x=\"962.597656\" xlink:href=\"#DejaVuSans-69\"/>\n",
       "      <use x=\"990.380859\" xlink:href=\"#DejaVuSans-63\"/>\n",
       "      <use x=\"1045.361328\" xlink:href=\"#DejaVuSans-61\"/>\n",
       "      <use x=\"1106.640625\" xlink:href=\"#DejaVuSans-6c\"/>\n",
       "      <use x=\"1134.423828\" xlink:href=\"#DejaVuSans-5f\"/>\n",
       "      <use x=\"1184.423828\" xlink:href=\"#DejaVuSans-61\"/>\n",
       "      <use x=\"1245.703125\" xlink:href=\"#DejaVuSans-63\"/>\n",
       "      <use x=\"1300.683594\" xlink:href=\"#DejaVuSans-63\"/>\n",
       "      <use x=\"1355.664062\" xlink:href=\"#DejaVuSans-75\"/>\n",
       "      <use x=\"1419.042969\" xlink:href=\"#DejaVuSans-72\"/>\n",
       "      <use x=\"1460.15625\" xlink:href=\"#DejaVuSans-61\"/>\n",
       "      <use x=\"1521.435547\" xlink:href=\"#DejaVuSans-63\"/>\n",
       "      <use x=\"1576.416016\" xlink:href=\"#DejaVuSans-79\"/>\n",
       "     </g>\n",
       "    </g>\n",
       "   </g>\n",
       "  </g>\n",
       " </g>\n",
       " <defs>\n",
       "  <clipPath id=\"pc13ce1ce89\">\n",
       "   <rect height=\"217.44\" width=\"334.8\" x=\"56.784375\" y=\"22.318125\"/>\n",
       "  </clipPath>\n",
       " </defs>\n",
       "</svg>\n"
      ],
      "text/plain": [
       "<Figure size 432x288 with 1 Axes>"
      ]
     },
     "metadata": {
      "needs_background": "light"
     },
     "output_type": "display_data"
    },
    {
     "name": "stdout",
     "output_type": "stream",
     "text": [
      "time: 236 ms (started: 2021-08-21 15:26:09 +08:00)\n"
     ]
    }
   ],
   "source": [
    "plot_metric(history,\"sparse_categorical_accuracy\")"
   ]
  },
  {
   "cell_type": "markdown",
   "id": "related-bulgaria",
   "metadata": {},
   "source": [
    "我们通过`evaluate()`在测试数据上评估模型："
   ]
  },
  {
   "cell_type": "code",
   "execution_count": 16,
   "id": "classical-bracelet",
   "metadata": {},
   "outputs": [
    {
     "name": "stdout",
     "output_type": "stream",
     "text": [
      "Evaluate on test data\n",
      "79/79 [==============================] - 1s 7ms/step - loss: 0.1608 - sparse_categorical_accuracy: 0.9730\n",
      "test loss, test acc: [0.1607811003923416, 0.9729999899864197]\n",
      "time: 679 ms (started: 2021-08-21 15:27:56 +08:00)\n"
     ]
    }
   ],
   "source": [
    "# Evaluate the model on the test data using `evaluate`\n",
    "print(\"Evaluate on test data\")\n",
    "results = model.evaluate(x_test, y_test, batch_size=128)\n",
    "print(\"test loss, test acc:\", results)"
   ]
  },
  {
   "cell_type": "code",
   "execution_count": 17,
   "id": "convinced-conclusion",
   "metadata": {},
   "outputs": [
    {
     "name": "stdout",
     "output_type": "stream",
     "text": [
      "Generate predictions for 3 samples\n",
      "predictions shape: (3, 10)\n",
      "time: 65.9 ms (started: 2021-08-21 15:27:59 +08:00)\n"
     ]
    }
   ],
   "source": [
    "# Generate predictions (probabilities -- the output of the last layer)\n",
    "# on new data using `predict`\n",
    "print(\"Generate predictions for 3 samples\")\n",
    "predictions = model.predict(x_test[:3])\n",
    "print(\"predictions shape:\", predictions.shape)"
   ]
  },
  {
   "cell_type": "markdown",
   "id": "allied-tennessee",
   "metadata": {},
   "source": [
    "现在，让我们详细回顾一下这个工作流程的每一部分。"
   ]
  },
  {
   "cell_type": "markdown",
   "id": "marked-classroom",
   "metadata": {},
   "source": [
    "# compile() 方法：指定损失、指标和优化器"
   ]
  },
  {
   "cell_type": "markdown",
   "id": "institutional-jerusalem",
   "metadata": {},
   "source": [
    "要使用 fit() 训练模型，您需要指定损失函数、优化器以及可选的一些要监控的指标。\n",
    "\n",
    "您将这些作为 compile() 方法的参数传递给模型："
   ]
  },
  {
   "cell_type": "code",
   "execution_count": null,
   "id": "practical-tower",
   "metadata": {},
   "outputs": [],
   "source": [
    "model.compile(\n",
    "    optimizer=keras.optimizers.RMSprop(learning_rate=1e-3),\n",
    "    loss=keras.losses.SparseCategoricalCrossentropy(),\n",
    "    metrics=[keras.metrics.SparseCategoricalAccuracy()],\n",
    ")"
   ]
  },
  {
   "cell_type": "markdown",
   "id": "crazy-surrey",
   "metadata": {},
   "source": [
    "指标参数应该是一个列表——你的模型可以有任意数量的指标。\n",
    "\n",
    "如果您的模型有多个输出，您可以为每个输出指定不同的损失和度量，并且您可以调整每个输出对模型总损失的贡献。 您将在将数据传递到多输入、多输出模型部分中找到有关此的更多详细信息。\n",
    "\n",
    "请注意，如果您对默认设置感到满意，在许多情况下，可以通过字符串标识符作为快捷方式指定优化器、损失和指标："
   ]
  },
  {
   "cell_type": "code",
   "execution_count": null,
   "id": "domestic-nudist",
   "metadata": {},
   "outputs": [],
   "source": [
    "model.compile(\n",
    "    optimizer=\"rmsprop\",\n",
    "    loss=\"sparse_categorical_crossentropy\",\n",
    "    metrics=[\"sparse_categorical_accuracy\"],\n",
    ")"
   ]
  },
  {
   "cell_type": "markdown",
   "id": "provincial-passage",
   "metadata": {},
   "source": [
    "为了以后重用，让我们把我们的模型定义和编译步骤放在函数中； 我们将在本指南中的不同示例中多次调用它们。"
   ]
  },
  {
   "cell_type": "code",
   "execution_count": 12,
   "id": "spare-federal",
   "metadata": {},
   "outputs": [
    {
     "name": "stdout",
     "output_type": "stream",
     "text": [
      "time: 1.81 ms (started: 2021-08-23 11:16:32 +08:00)\n"
     ]
    }
   ],
   "source": [
    "def get_uncompiled_model():\n",
    "    inputs = keras.Input(shape=(784,), name=\"digits\")\n",
    "    x = layers.Dense(64, activation=\"relu\", name=\"dense_1\")(inputs)\n",
    "    x = layers.Dense(64, activation=\"relu\", name=\"dense_2\")(x)\n",
    "    outputs = layers.Dense(10, activation=\"softmax\", name=\"predictions\")(x)\n",
    "    model = keras.Model(inputs=inputs, outputs=outputs)\n",
    "    return model\n",
    "\n",
    "\n",
    "def get_compiled_model():\n",
    "    model = get_uncompiled_model()\n",
    "    model.compile(\n",
    "        optimizer=\"rmsprop\",\n",
    "        loss=\"sparse_categorical_crossentropy\",\n",
    "        metrics=[\"sparse_categorical_accuracy\"],\n",
    "    )\n",
    "    return model"
   ]
  },
  {
   "cell_type": "markdown",
   "id": "welcome-ancient",
   "metadata": {},
   "source": [
    "## 许多内置优化器、损失和指标可用"
   ]
  },
  {
   "cell_type": "markdown",
   "id": "brutal-newark",
   "metadata": {},
   "source": [
    "一般来说，您不必从头开始创建自己的损失、指标或优化器，因为您需要的可能已经是 Keras API 的一部分："
   ]
  },
  {
   "cell_type": "markdown",
   "id": "tribal-tours",
   "metadata": {},
   "source": [
    "优化器：\n",
    "* SGD()（有或没有动量）\n",
    "* RMSprop()\n",
    "* Adam()\n",
    "等。\n",
    "\n",
    "损失：\n",
    "* MeanSquaredError()\n",
    "* KLDivergence()\n",
    "* CosineSimilarity()\n",
    "* etc.\n",
    "\n",
    "度量：\n",
    "* AUC()\n",
    "* Precision()\n",
    "* Recall()\n",
    "* etc."
   ]
  },
  {
   "cell_type": "markdown",
   "id": "interstate-today",
   "metadata": {},
   "source": [
    "## 自定义损失"
   ]
  },
  {
   "cell_type": "markdown",
   "id": "minus-replica",
   "metadata": {},
   "source": [
    "如果您需要创建自定义损失，Keras 提供了两种方法。\n",
    "\n",
    "第一种方法涉及创建一个接受输入 y_true 和 y_pred 的函数。 以下示例显示了一个计算真实数据和预测之间的均方误差的损失函数："
   ]
  },
  {
   "cell_type": "code",
   "execution_count": 13,
   "id": "explicit-hardwood",
   "metadata": {},
   "outputs": [
    {
     "name": "stdout",
     "output_type": "stream",
     "text": [
      "782/782 [==============================] - 7s 9ms/step - loss: 0.0158\n"
     ]
    },
    {
     "data": {
      "text/plain": [
       "<tensorflow.python.keras.callbacks.History at 0x7f1465db5700>"
      ]
     },
     "execution_count": 13,
     "metadata": {},
     "output_type": "execute_result"
    },
    {
     "name": "stdout",
     "output_type": "stream",
     "text": [
      "time: 7.23 s (started: 2021-08-23 11:16:36 +08:00)\n"
     ]
    }
   ],
   "source": [
    "def custom_mean_squared_error(y_true, y_pred):\n",
    "    return tf.math.reduce_mean(tf.square(y_true - y_pred))\n",
    "\n",
    "\n",
    "model = get_uncompiled_model()\n",
    "model.compile(optimizer=keras.optimizers.Adam(), loss=custom_mean_squared_error)\n",
    "\n",
    "# We need to one-hot encode the labels to use MSE\n",
    "y_train_one_hot = tf.one_hot(y_train, depth=10)\n",
    "model.fit(x_train, y_train_one_hot, batch_size=64, epochs=1)"
   ]
  },
  {
   "cell_type": "markdown",
   "id": "recovered-small",
   "metadata": {},
   "source": [
    "如果您需要一个接受 `y_true` 和 `y_pred` 旁边参数的损失函数，您可以子类化 `tf.keras.losses.Loss` 类并实现以下两个方法：\n",
    "* `__init__(self)`：接受在调用损失函数期间传递的参数\n",
    "* `call(self, y_true, y_pred)`: 使用目标 (`y_true`) 和模型预测 (`y_pred`) 来计算模型的损失"
   ]
  },
  {
   "cell_type": "markdown",
   "id": "institutional-sigma",
   "metadata": {},
   "source": [
    "假设您想使用均方误差，但增加了一项将使预测值远离 0.5（我们假设分类目标是单热编码并采用 0 和 1 之间的值）。 这会激励模型不要过于自信，这可能有助于减少过度拟合（我们不知道它是否有效，直到我们尝试！）。\n",
    "\n",
    "以下是您的操作方法："
   ]
  },
  {
   "cell_type": "code",
   "execution_count": 14,
   "id": "authentic-packing",
   "metadata": {},
   "outputs": [
    {
     "name": "stdout",
     "output_type": "stream",
     "text": [
      "782/782 [==============================] - 7s 9ms/step - loss: 0.0386\n"
     ]
    },
    {
     "data": {
      "text/plain": [
       "<tensorflow.python.keras.callbacks.History at 0x7f1465d24370>"
      ]
     },
     "execution_count": 14,
     "metadata": {},
     "output_type": "execute_result"
    },
    {
     "name": "stdout",
     "output_type": "stream",
     "text": [
      "time: 7.19 s (started: 2021-08-23 11:16:51 +08:00)\n"
     ]
    }
   ],
   "source": [
    "class CustomMSE(keras.losses.Loss):\n",
    "    def __init__(self, regularization_factor=0.1, name=\"custom_mse\"):\n",
    "        super().__init__(name=name)\n",
    "        self.regularization_factor = regularization_factor\n",
    "\n",
    "    def call(self, y_true, y_pred):\n",
    "        mse = tf.math.reduce_mean(tf.square(y_true - y_pred))\n",
    "        reg = tf.math.reduce_mean(tf.square(0.5 - y_pred))\n",
    "        return mse + reg * self.regularization_factor\n",
    "\n",
    "\n",
    "model = get_uncompiled_model()\n",
    "model.compile(optimizer=keras.optimizers.Adam(), loss=CustomMSE())\n",
    "\n",
    "y_train_one_hot = tf.one_hot(y_train, depth=10)\n",
    "model.fit(x_train, y_train_one_hot, batch_size=64, epochs=1)"
   ]
  },
  {
   "cell_type": "markdown",
   "id": "silent-assurance",
   "metadata": {},
   "source": [
    "## 自定义指标"
   ]
  },
  {
   "cell_type": "markdown",
   "id": "patent-looking",
   "metadata": {},
   "source": [
    "如果您需要一个不属于 API 的指标，您可以通过继承 `tf.keras.metrics.Metric` 类轻松创建自定义指标。 您将需要实现 4 种方法：\n",
    "* `__init__(self)`，您将在其中为您的指标创建状态变量。\n",
    "* `update_state(self, y_true, y_pred, sample_weight=None)`，它使用目标 `y_true` 和模型预测 `y_pred` 来更新状态变量。\n",
    "* `result(self)`，它使用状态变量来计算最终结果。\n",
    "* `reset_states(self)`，它重新初始化指标的状态。"
   ]
  },
  {
   "cell_type": "markdown",
   "id": "atlantic-heavy",
   "metadata": {},
   "source": [
    "状态更新和结果计算是分开的（分别在 update_state() 和 result() 中），因为在某些情况下，结果计算可能非常昂贵并且只能定期进行。\n",
    "\n",
    "这是一个简单的示例，展示了如何实现 CategoricalTruePositives 指标，该指标计算有多少样本被正确分类为属于给定类："
   ]
  },
  {
   "cell_type": "code",
   "execution_count": 15,
   "id": "unique-fashion",
   "metadata": {},
   "outputs": [
    {
     "name": "stdout",
     "output_type": "stream",
     "text": [
      "Epoch 1/3\n",
      "782/782 [==============================] - 8s 10ms/step - loss: 0.3462 - categorical_true_positives: 45150.0000\n",
      "Epoch 2/3\n",
      " 18/782 [..............................] - ETA: 7s - loss: 0.1860 - categorical_true_positives: 1088.0000"
     ]
    },
    {
     "name": "stderr",
     "output_type": "stream",
     "text": [
      "/public/huangwei/miniconda3/envs/tensorflow/lib/python3.8/site-packages/tensorflow/python/keras/metrics.py:254: UserWarning: Metric CategoricalTruePositives implements a `reset_states()` method; rename it to `reset_state()` (without the final \"s\"). The name `reset_states()` has been deprecated to improve API consistency.\n",
      "  warnings.warn('Metric %s implements a `reset_states()` method; rename it '\n"
     ]
    },
    {
     "name": "stdout",
     "output_type": "stream",
     "text": [
      "782/782 [==============================] - 7s 9ms/step - loss: 0.1648 - categorical_true_positives: 47602.0000\n",
      "Epoch 3/3\n",
      "782/782 [==============================] - 7s 9ms/step - loss: 0.1181 - categorical_true_positives: 48189.0000\n"
     ]
    },
    {
     "data": {
      "text/plain": [
       "<tensorflow.python.keras.callbacks.History at 0x7f1464088190>"
      ]
     },
     "execution_count": 15,
     "metadata": {},
     "output_type": "execute_result"
    },
    {
     "name": "stdout",
     "output_type": "stream",
     "text": [
      "time: 22.6 s (started: 2021-08-23 11:17:34 +08:00)\n"
     ]
    }
   ],
   "source": [
    "class CategoricalTruePositives(keras.metrics.Metric):\n",
    "    def __init__(self, name=\"categorical_true_positives\", **kwargs):\n",
    "        super(CategoricalTruePositives, self).__init__(name=name, **kwargs)\n",
    "        self.true_positives = self.add_weight(name=\"ctp\", initializer=\"zeros\")\n",
    "\n",
    "    def update_state(self, y_true, y_pred, sample_weight=None):\n",
    "        y_pred = tf.reshape(tf.argmax(y_pred, axis=1), shape=(-1, 1))\n",
    "        values = tf.cast(y_true, \"int32\") == tf.cast(y_pred, \"int32\")\n",
    "        values = tf.cast(values, \"float32\")\n",
    "        if sample_weight is not None:\n",
    "            sample_weight = tf.cast(sample_weight, \"float32\")\n",
    "            values = tf.multiply(values, sample_weight)\n",
    "        self.true_positives.assign_add(tf.reduce_sum(values))\n",
    "\n",
    "    def result(self):\n",
    "        return self.true_positives\n",
    "\n",
    "    def reset_states(self):\n",
    "        # The state of the metric will be reset at the start of each epoch.\n",
    "        self.true_positives.assign(0.0)\n",
    "\n",
    "\n",
    "model = get_uncompiled_model()\n",
    "model.compile(\n",
    "    optimizer=keras.optimizers.RMSprop(learning_rate=1e-3),\n",
    "    loss=keras.losses.SparseCategoricalCrossentropy(),\n",
    "    metrics=[CategoricalTruePositives()],\n",
    ")\n",
    "model.fit(x_train, y_train, batch_size=64, epochs=3)"
   ]
  },
  {
   "cell_type": "markdown",
   "id": "spoken-japanese",
   "metadata": {},
   "source": [
    "## 处理不符合标准签名的损失和指标"
   ]
  },
  {
   "cell_type": "markdown",
   "id": "olympic-society",
   "metadata": {},
   "source": [
    "绝大多数损失和指标可以从 y_true 和 y_pred 计算，其中 y_pred 是模型的输出——但不是全部。 例如，正则化损失可能只需要激活一个层（在这种情况下没有目标），而这个激活可能不是模型输出。\n",
    "\n",
    "在这种情况下，您可以从自定义层的调用方法内部调用 self.add_loss(loss_value)。 以这种方式添加的损失会在训练期间添加到“主要”损失中（传递给 compile() 的损失）。 这是一个添加活动正则化的简单示例（注意活动正则化内置在所有 Keras 层中——这一层只是为了提供一个具体的例子）："
   ]
  },
  {
   "cell_type": "code",
   "execution_count": 16,
   "id": "guided-locking",
   "metadata": {},
   "outputs": [
    {
     "name": "stdout",
     "output_type": "stream",
     "text": [
      "782/782 [==============================] - 7s 8ms/step - loss: 2.5474\n"
     ]
    },
    {
     "data": {
      "text/plain": [
       "<tensorflow.python.keras.callbacks.History at 0x7f143a757550>"
      ]
     },
     "execution_count": 16,
     "metadata": {},
     "output_type": "execute_result"
    },
    {
     "name": "stdout",
     "output_type": "stream",
     "text": [
      "time: 6.87 s (started: 2021-08-23 11:22:15 +08:00)\n"
     ]
    }
   ],
   "source": [
    "class ActivityRegularizationLayer(layers.Layer):\n",
    "    def call(self, inputs):\n",
    "        self.add_loss(tf.reduce_sum(inputs) * 0.1)\n",
    "        return inputs  # Pass-through layer.\n",
    "\n",
    "\n",
    "inputs = keras.Input(shape=(784,), name=\"digits\")\n",
    "x = layers.Dense(64, activation=\"relu\", name=\"dense_1\")(inputs)\n",
    "\n",
    "# Insert activity regularization as a layer\n",
    "x = ActivityRegularizationLayer()(x)\n",
    "\n",
    "x = layers.Dense(64, activation=\"relu\", name=\"dense_2\")(x)\n",
    "outputs = layers.Dense(10, name=\"predictions\")(x)\n",
    "\n",
    "model = keras.Model(inputs=inputs, outputs=outputs)\n",
    "model.compile(\n",
    "    optimizer=keras.optimizers.RMSprop(learning_rate=1e-3),\n",
    "    loss=keras.losses.SparseCategoricalCrossentropy(from_logits=True),\n",
    ")\n",
    "\n",
    "# The displayed loss will be much higher than before\n",
    "# due to the regularization component.\n",
    "model.fit(x_train, y_train, batch_size=64, epochs=1)"
   ]
  },
  {
   "cell_type": "markdown",
   "id": "bigger-cathedral",
   "metadata": {},
   "source": [
    "您可以使用 add_metric() 对记录指标值执行相同的操作："
   ]
  },
  {
   "cell_type": "code",
   "execution_count": 17,
   "id": "prostate-african",
   "metadata": {},
   "outputs": [
    {
     "name": "stdout",
     "output_type": "stream",
     "text": [
      "782/782 [==============================] - 7s 8ms/step - loss: 0.3556 - std_of_activation: 0.9600\n"
     ]
    },
    {
     "data": {
      "text/plain": [
       "<tensorflow.python.keras.callbacks.History at 0x7f1428101790>"
      ]
     },
     "execution_count": 17,
     "metadata": {},
     "output_type": "execute_result"
    },
    {
     "name": "stdout",
     "output_type": "stream",
     "text": [
      "time: 6.91 s (started: 2021-08-23 11:23:08 +08:00)\n"
     ]
    }
   ],
   "source": [
    "class MetricLoggingLayer(layers.Layer):\n",
    "    def call(self, inputs):\n",
    "        # The `aggregation` argument defines\n",
    "        # how to aggregate the per-batch values\n",
    "        # over each epoch:\n",
    "        # in this case we simply average them.\n",
    "        self.add_metric(\n",
    "            keras.backend.std(inputs), name=\"std_of_activation\", aggregation=\"mean\"\n",
    "        )\n",
    "        return inputs  # Pass-through layer.\n",
    "\n",
    "\n",
    "inputs = keras.Input(shape=(784,), name=\"digits\")\n",
    "x = layers.Dense(64, activation=\"relu\", name=\"dense_1\")(inputs)\n",
    "\n",
    "# Insert std logging as a layer.\n",
    "x = MetricLoggingLayer()(x)\n",
    "\n",
    "x = layers.Dense(64, activation=\"relu\", name=\"dense_2\")(x)\n",
    "outputs = layers.Dense(10, name=\"predictions\")(x)\n",
    "\n",
    "model = keras.Model(inputs=inputs, outputs=outputs)\n",
    "model.compile(\n",
    "    optimizer=keras.optimizers.RMSprop(learning_rate=1e-3),\n",
    "    loss=keras.losses.SparseCategoricalCrossentropy(from_logits=True),\n",
    ")\n",
    "model.fit(x_train, y_train, batch_size=64, epochs=1)"
   ]
  },
  {
   "cell_type": "markdown",
   "id": "novel-subcommittee",
   "metadata": {},
   "source": [
    "在 Functional API 中，您还可以调用 `model.add_loss(loss_tensor)` 或 `model.add_metric(metric_tensor, name,aggregation)`。\n",
    "\n",
    "这是一个简单的例子："
   ]
  },
  {
   "cell_type": "code",
   "execution_count": 18,
   "id": "heated-harrison",
   "metadata": {},
   "outputs": [
    {
     "name": "stdout",
     "output_type": "stream",
     "text": [
      "782/782 [==============================] - 7s 8ms/step - loss: 2.5093 - std_of_activation: 0.0019\n"
     ]
    },
    {
     "data": {
      "text/plain": [
       "<tensorflow.python.keras.callbacks.History at 0x7f148003b070>"
      ]
     },
     "execution_count": 18,
     "metadata": {},
     "output_type": "execute_result"
    },
    {
     "name": "stdout",
     "output_type": "stream",
     "text": [
      "time: 7.01 s (started: 2021-08-23 11:24:14 +08:00)\n"
     ]
    }
   ],
   "source": [
    "inputs = keras.Input(shape=(784,), name=\"digits\")\n",
    "x1 = layers.Dense(64, activation=\"relu\", name=\"dense_1\")(inputs)\n",
    "x2 = layers.Dense(64, activation=\"relu\", name=\"dense_2\")(x1)\n",
    "outputs = layers.Dense(10, name=\"predictions\")(x2)\n",
    "model = keras.Model(inputs=inputs, outputs=outputs)\n",
    "\n",
    "model.add_loss(tf.reduce_sum(x1) * 0.1)\n",
    "\n",
    "model.add_metric(keras.backend.std(x1), name=\"std_of_activation\", aggregation=\"mean\")\n",
    "\n",
    "model.compile(\n",
    "    optimizer=keras.optimizers.RMSprop(1e-3),\n",
    "    loss=keras.losses.SparseCategoricalCrossentropy(from_logits=True),\n",
    ")\n",
    "model.fit(x_train, y_train, batch_size=64, epochs=1)"
   ]
  },
  {
   "cell_type": "markdown",
   "id": "occupational-generator",
   "metadata": {},
   "source": [
    "请注意，当您通过 add_loss() 传递损失时，可以在没有损失函数的情况下调用 compile()，因为模型已经有一个损失可以最小化。\n",
    "\n",
    "考虑以下 LogisticEndpoint 层：它将目标和 logits 作为输入，并通过 add_loss() 跟踪交叉熵损失。 它还通过 add_metric() 跟踪分类准确性。"
   ]
  },
  {
   "cell_type": "code",
   "execution_count": 19,
   "id": "proprietary-ultimate",
   "metadata": {},
   "outputs": [
    {
     "name": "stdout",
     "output_type": "stream",
     "text": [
      "time: 1.96 ms (started: 2021-08-23 11:26:02 +08:00)\n"
     ]
    }
   ],
   "source": [
    "class LogisticEndpoint(keras.layers.Layer):\n",
    "    def __init__(self, name=None):\n",
    "        super(LogisticEndpoint, self).__init__(name=name)\n",
    "        self.loss_fn = keras.losses.BinaryCrossentropy(from_logits=True)\n",
    "        self.accuracy_fn = keras.metrics.BinaryAccuracy()\n",
    "\n",
    "    def call(self, targets, logits, sample_weights=None):\n",
    "        # Compute the training-time loss value and add it\n",
    "        # to the layer using `self.add_loss()`.\n",
    "        loss = self.loss_fn(targets, logits, sample_weights)\n",
    "        self.add_loss(loss)\n",
    "\n",
    "        # Log accuracy as a metric and add it\n",
    "        # to the layer using `self.add_metric()`.\n",
    "        acc = self.accuracy_fn(targets, logits, sample_weights)\n",
    "        self.add_metric(acc, name=\"accuracy\")\n",
    "\n",
    "        # Return the inference-time prediction tensor (for `.predict()`).\n",
    "        return tf.nn.softmax(logits)"
   ]
  },
  {
   "cell_type": "markdown",
   "id": "different-choir",
   "metadata": {},
   "source": [
    "您可以在具有两个输入（输入数据和目标）的模型中使用它，编译时没有损失参数，如下所示："
   ]
  },
  {
   "cell_type": "code",
   "execution_count": 20,
   "id": "optical-ceramic",
   "metadata": {},
   "outputs": [
    {
     "name": "stdout",
     "output_type": "stream",
     "text": [
      "1/1 [==============================] - 0s 273ms/step - loss: 0.9510 - binary_accuracy: 0.0000e+00\n"
     ]
    },
    {
     "data": {
      "text/plain": [
       "<tensorflow.python.keras.callbacks.History at 0x7f13fc0583a0>"
      ]
     },
     "execution_count": 20,
     "metadata": {},
     "output_type": "execute_result"
    },
    {
     "name": "stdout",
     "output_type": "stream",
     "text": [
      "time: 477 ms (started: 2021-08-23 11:27:19 +08:00)\n"
     ]
    }
   ],
   "source": [
    "import numpy as np\n",
    "\n",
    "inputs = keras.Input(shape=(3,), name=\"inputs\")\n",
    "targets = keras.Input(shape=(10,), name=\"targets\")\n",
    "logits = keras.layers.Dense(10)(inputs)\n",
    "predictions = LogisticEndpoint(name=\"predictions\")(logits, targets)\n",
    "\n",
    "model = keras.Model(inputs=[inputs, targets], outputs=predictions)\n",
    "model.compile(optimizer=\"adam\")  # No loss argument!\n",
    "\n",
    "data = {\n",
    "    \"inputs\": np.random.random((3, 3)),\n",
    "    \"targets\": np.random.random((3, 10)),\n",
    "}\n",
    "model.fit(data)"
   ]
  },
  {
   "cell_type": "markdown",
   "id": "competitive-climate",
   "metadata": {},
   "source": [
    "有关训练多输入模型的更多信息，请参阅将数据传递到多输入、多输出模型部分。"
   ]
  },
  {
   "cell_type": "markdown",
   "id": "stock-boundary",
   "metadata": {},
   "source": [
    "## 自动设置验证坚持集"
   ]
  },
  {
   "cell_type": "markdown",
   "id": "characteristic-record",
   "metadata": {},
   "source": [
    "在您看到的第一个端到端示例中，我们使用了 validation_data 参数将 NumPy 数组 (x_val, y_val) 的元组传递给模型，以在每个 epoch 结束时评估验证损失和验证指标。\n",
    "\n",
    "这是另一种选择：参数validation_split 允许您自动保留部分训练数据以进行验证。 参数值表示保留用于验证的数据的比例，因此应将其设置为大于 0 且小于 1 的数字。例如，validation_split=0.2 表示“使用 20% 的数据进行验证”，并且 validation_split=0.6 表示“使用 60% 的数据进行验证”。\n",
    "\n",
    "计算验证的方法是在任何改组之前获取 fit() 调用接收到的数组的最后 x% 样本。\n",
    "\n",
    "请注意，您只能在使用 NumPy 数据进行训练时使用 validation_split。"
   ]
  },
  {
   "cell_type": "code",
   "execution_count": 21,
   "id": "earned-brisbane",
   "metadata": {},
   "outputs": [
    {
     "name": "stdout",
     "output_type": "stream",
     "text": [
      "625/625 [==============================] - 5s 8ms/step - loss: 0.3774 - sparse_categorical_accuracy: 0.8942 - val_loss: 0.2306 - val_sparse_categorical_accuracy: 0.9323\n"
     ]
    },
    {
     "data": {
      "text/plain": [
       "<tensorflow.python.keras.callbacks.History at 0x7f13d8046dc0>"
      ]
     },
     "execution_count": 21,
     "metadata": {},
     "output_type": "execute_result"
    },
    {
     "name": "stdout",
     "output_type": "stream",
     "text": [
      "time: 5.27 s (started: 2021-08-23 11:30:25 +08:00)\n"
     ]
    }
   ],
   "source": [
    "model = get_compiled_model()\n",
    "model.fit(x_train, y_train, batch_size=64, validation_split=0.2, epochs=1)"
   ]
  },
  {
   "cell_type": "markdown",
   "id": "corporate-cooking",
   "metadata": {},
   "source": [
    "# 来自 tf.data 数据集的训练和评估"
   ]
  },
  {
   "cell_type": "markdown",
   "id": "composed-qatar",
   "metadata": {},
   "source": [
    "在过去的几段中，您已经看到了如何处理损失、指标和优化器，并且您已经看到了当您的数据作为 NumPy 数组传递时如何在 fit() 中使用 validation_data 和 validation_split 参数。\n",
    "\n",
    "现在让我们看一下您的数据以 tf.data.Dataset 对象的形式出现的情况。\n",
    "\n",
    "tf.data API 是 TensorFlow 2.0 中的一组实用程序，用于以快速且可扩展的方式加载和预处理数据。\n",
    "\n",
    "有关创建数据集的完整指南，请参阅 tf.data 文档。\n",
    "\n",
    "您可以将 Dataset 实例直接传递给 fit()、evaluate() 和 predict() 方法："
   ]
  },
  {
   "cell_type": "code",
   "execution_count": 22,
   "id": "sealed-garden",
   "metadata": {},
   "outputs": [
    {
     "name": "stdout",
     "output_type": "stream",
     "text": [
      "Epoch 1/3\n",
      "782/782 [==============================] - 7s 9ms/step - loss: 0.3312 - sparse_categorical_accuracy: 0.9061\n",
      "Epoch 2/3\n",
      "782/782 [==============================] - 7s 9ms/step - loss: 0.1581 - sparse_categorical_accuracy: 0.9535\n",
      "Epoch 3/3\n",
      "782/782 [==============================] - 7s 9ms/step - loss: 0.1160 - sparse_categorical_accuracy: 0.9657\n",
      "Evaluate\n",
      "157/157 [==============================] - 1s 7ms/step - loss: 0.1087 - sparse_categorical_accuracy: 0.9669\n"
     ]
    },
    {
     "data": {
      "text/plain": [
       "{'loss': 0.108725406229496, 'sparse_categorical_accuracy': 0.9668999910354614}"
      ]
     },
     "execution_count": 22,
     "metadata": {},
     "output_type": "execute_result"
    },
    {
     "name": "stdout",
     "output_type": "stream",
     "text": [
      "time: 23 s (started: 2021-08-23 11:31:57 +08:00)\n"
     ]
    }
   ],
   "source": [
    "model = get_compiled_model()\n",
    "\n",
    "# First, let's create a training Dataset instance.\n",
    "# For the sake of our example, we'll use the same MNIST data as before.\n",
    "train_dataset = tf.data.Dataset.from_tensor_slices((x_train, y_train))\n",
    "# Shuffle and slice the dataset.\n",
    "train_dataset = train_dataset.shuffle(buffer_size=1024).batch(64)\n",
    "\n",
    "# Now we get a test dataset.\n",
    "test_dataset = tf.data.Dataset.from_tensor_slices((x_test, y_test))\n",
    "test_dataset = test_dataset.batch(64)\n",
    "\n",
    "# Since the dataset already takes care of batching,\n",
    "# we don't pass a `batch_size` argument.\n",
    "model.fit(train_dataset, epochs=3)\n",
    "\n",
    "# You can also evaluate or predict on a dataset.\n",
    "print(\"Evaluate\")\n",
    "result = model.evaluate(test_dataset)\n",
    "dict(zip(model.metrics_names, result))"
   ]
  },
  {
   "cell_type": "markdown",
   "id": "according-rebound",
   "metadata": {},
   "source": [
    "请注意，数据集在每个 epoch 结束时重置，因此可以在下一个 epoch 中重复使用。\n",
    "\n",
    "如果您只想在此数据集中的特定数量的批次上运行训练，您可以传递 steps_per_epoch 参数，该参数指定模型在进入下一个时期之前应使用此数据集运行的训练步骤数。\n",
    "\n",
    "如果你这样做，数据集不会在每个 epoch 结束时重置，而是我们只是继续绘制下一批。 数据集最终会耗尽数据（除非它是一个无限循环的数据集）。"
   ]
  },
  {
   "cell_type": "code",
   "execution_count": 23,
   "id": "brown-story",
   "metadata": {},
   "outputs": [
    {
     "name": "stdout",
     "output_type": "stream",
     "text": [
      "Epoch 1/3\n",
      "100/100 [==============================] - 1s 9ms/step - loss: 0.8065 - sparse_categorical_accuracy: 0.7891\n",
      "Epoch 2/3\n",
      "100/100 [==============================] - 1s 9ms/step - loss: 0.3771 - sparse_categorical_accuracy: 0.8906\n",
      "Epoch 3/3\n",
      "100/100 [==============================] - 1s 9ms/step - loss: 0.3272 - sparse_categorical_accuracy: 0.9055\n"
     ]
    },
    {
     "data": {
      "text/plain": [
       "<tensorflow.python.keras.callbacks.History at 0x7f139c5c2100>"
      ]
     },
     "execution_count": 23,
     "metadata": {},
     "output_type": "execute_result"
    },
    {
     "name": "stdout",
     "output_type": "stream",
     "text": [
      "time: 3.32 s (started: 2021-08-23 11:33:07 +08:00)\n"
     ]
    }
   ],
   "source": [
    "model = get_compiled_model()\n",
    "\n",
    "# Prepare the training dataset\n",
    "train_dataset = tf.data.Dataset.from_tensor_slices((x_train, y_train))\n",
    "train_dataset = train_dataset.shuffle(buffer_size=1024).batch(64)\n",
    "\n",
    "# Only use the 100 batches per epoch (that's 64 * 100 samples)\n",
    "model.fit(train_dataset, epochs=3, steps_per_epoch=100)"
   ]
  },
  {
   "cell_type": "markdown",
   "id": "interstate-hunger",
   "metadata": {},
   "source": [
    "## 使用验证数据集"
   ]
  },
  {
   "cell_type": "markdown",
   "id": "absent-database",
   "metadata": {},
   "source": [
    "您可以在 fit() 中将 Dataset 实例作为 validation_data 参数传递："
   ]
  },
  {
   "cell_type": "code",
   "execution_count": 24,
   "id": "loaded-beast",
   "metadata": {},
   "outputs": [
    {
     "name": "stdout",
     "output_type": "stream",
     "text": [
      "782/782 [==============================] - 8s 10ms/step - loss: 0.3353 - sparse_categorical_accuracy: 0.9060 - val_loss: 0.1787 - val_sparse_categorical_accuracy: 0.9491\n"
     ]
    },
    {
     "data": {
      "text/plain": [
       "<tensorflow.python.keras.callbacks.History at 0x7f139c395970>"
      ]
     },
     "execution_count": 24,
     "metadata": {},
     "output_type": "execute_result"
    },
    {
     "name": "stdout",
     "output_type": "stream",
     "text": [
      "time: 8.67 s (started: 2021-08-23 11:33:55 +08:00)\n"
     ]
    }
   ],
   "source": [
    "model = get_compiled_model()\n",
    "\n",
    "# Prepare the training dataset\n",
    "train_dataset = tf.data.Dataset.from_tensor_slices((x_train, y_train))\n",
    "train_dataset = train_dataset.shuffle(buffer_size=1024).batch(64)\n",
    "\n",
    "# Prepare the validation dataset\n",
    "val_dataset = tf.data.Dataset.from_tensor_slices((x_val, y_val))\n",
    "val_dataset = val_dataset.batch(64)\n",
    "\n",
    "model.fit(train_dataset, epochs=1, validation_data=val_dataset)"
   ]
  },
  {
   "cell_type": "markdown",
   "id": "suffering-welding",
   "metadata": {},
   "source": [
    "在每个时期结束时，模型将迭代验证数据集并计算验证损失和验证指标。\n",
    "\n",
    "如果您只想在此数据集中的特定数量的批次上运行验证，则可以传递 validation_steps 参数，该参数指定模型在中断验证并进入下一个时期之前应使用验证数据集运行多少验证步骤："
   ]
  },
  {
   "cell_type": "code",
   "execution_count": 25,
   "id": "developed-salon",
   "metadata": {},
   "outputs": [
    {
     "name": "stdout",
     "output_type": "stream",
     "text": [
      "782/782 [==============================] - 7s 9ms/step - loss: 0.3352 - sparse_categorical_accuracy: 0.9065 - val_loss: 0.3727 - val_sparse_categorical_accuracy: 0.9047\n"
     ]
    },
    {
     "data": {
      "text/plain": [
       "<tensorflow.python.keras.callbacks.History at 0x7f139c3955b0>"
      ]
     },
     "execution_count": 25,
     "metadata": {},
     "output_type": "execute_result"
    },
    {
     "name": "stdout",
     "output_type": "stream",
     "text": [
      "time: 7.77 s (started: 2021-08-23 11:34:29 +08:00)\n"
     ]
    }
   ],
   "source": [
    "model = get_compiled_model()\n",
    "\n",
    "# Prepare the training dataset\n",
    "train_dataset = tf.data.Dataset.from_tensor_slices((x_train, y_train))\n",
    "train_dataset = train_dataset.shuffle(buffer_size=1024).batch(64)\n",
    "\n",
    "# Prepare the validation dataset\n",
    "val_dataset = tf.data.Dataset.from_tensor_slices((x_val, y_val))\n",
    "val_dataset = val_dataset.batch(64)\n",
    "\n",
    "model.fit(\n",
    "    train_dataset,\n",
    "    epochs=1,\n",
    "    # Only run validation using the first 10 batches of the dataset\n",
    "    # using the `validation_steps` argument\n",
    "    validation_data=val_dataset,\n",
    "    validation_steps=10,\n",
    ")"
   ]
  },
  {
   "cell_type": "markdown",
   "id": "healthy-sessions",
   "metadata": {},
   "source": [
    "请注意，验证数据集将在每次使用后重置（因此您将始终在不同时期对相同样本进行评估）。\n",
    "\n",
    "从 Dataset 对象进行训练时，不支持参数 validation_split（从训练数据生成保持集），因为此功能需要能够对数据集的样本进行索引，而 Dataset API 通常无法做到这一点。"
   ]
  },
  {
   "cell_type": "markdown",
   "id": "departmental-advertiser",
   "metadata": {},
   "source": [
    "# 支持的其他输入格式"
   ]
  },
  {
   "cell_type": "markdown",
   "id": "brief-complexity",
   "metadata": {},
   "source": [
    "除了 NumPy 数组、热切张量和 TensorFlow 数据集，还可以使用 Pandas 数据帧或从生成批量数据和标签的 Python 生成器来训练 Keras 模型。\n",
    "\n",
    "特别是， keras.utils.Sequence 类提供了一个简单的接口来构建 Python 数据生成器，这些生成器具有多处理感知能力并且可以进行混洗。\n",
    "\n",
    "一般来说，我们建议您使用：\n",
    "* NumPy 输入数据，如果您的数据很小并且适合内存\n",
    "* `Dataset` 对象，如果您有大型数据集并且需要进行分布式训练\n",
    "* 如果您拥有大型数据集并且需要进行大量在 TensorFlow 中无法完成的自定义 Python 端处理（例如，如果您依赖外部库进行数据加载或预处理），请使用`Sequence`对象。"
   ]
  },
  {
   "cell_type": "markdown",
   "id": "tight-bhutan",
   "metadata": {},
   "source": [
    "# 使用 keras.utils.Sequence 对象作为输入"
   ]
  },
  {
   "cell_type": "markdown",
   "id": "american-journey",
   "metadata": {},
   "source": [
    "keras.utils.Sequence 是一个实用程序，您可以将其子类化以获得具有两个重要属性的 Python 生成器：\n",
    "* 它适用于多进程。\n",
    "* 它可以被洗牌（例如，当在 fit() 中传递 shuffle=True 时）。\n",
    "\n",
    "一个 Sequence 必须实现两个方法：\n",
    "* `__getitem__`\n",
    "* `__len__`\n",
    "\n",
    "`__getitem__` 方法应该返回一个完整的批次。 如果你想在 epoch 之间修改你的数据集，你可以实现 on_epoch_end。\n",
    "\n",
    "这是一个快速示例："
   ]
  },
  {
   "cell_type": "code",
   "execution_count": null,
   "id": "greater-rocket",
   "metadata": {},
   "outputs": [],
   "source": [
    "from skimage.io import imread\n",
    "from skimage.transform import resize\n",
    "import numpy as np\n",
    "from tensorflow.keras.utils import Sequence\n",
    "\n",
    "# Here, `filenames` is list of path to the images\n",
    "# and `labels` are the associated labels.\n",
    "\n",
    "class CIFAR10Sequence(Sequence):\n",
    "    def __init__(self, filenames, labels, batch_size):\n",
    "        self.filenames, self.labels = filenames, labels\n",
    "        self.batch_size = batch_size\n",
    "\n",
    "    def __len__(self):\n",
    "        return int(np.ceil(len(self.filenames) / float(self.batch_size)))\n",
    "\n",
    "    def __getitem__(self, idx):\n",
    "        batch_x = self.filenames[idx * self.batch_size:(idx + 1) * self.batch_size]\n",
    "        batch_y = self.labels[idx * self.batch_size:(idx + 1) * self.batch_size]\n",
    "        return np.array([\n",
    "            resize(imread(filename), (200, 200))\n",
    "               for filename in batch_x]), np.array(batch_y)\n",
    "\n",
    "sequence = CIFAR10Sequence(filenames, labels, batch_size)\n",
    "model.fit(sequence, epochs=10)"
   ]
  },
  {
   "cell_type": "markdown",
   "id": "economic-jamaica",
   "metadata": {},
   "source": [
    "# 使用样本加权和类加权"
   ]
  },
  {
   "cell_type": "markdown",
   "id": "located-worship",
   "metadata": {},
   "source": [
    "在默认设置下，样本的权重由其在数据集中的频率决定。 有两种方法可以对数据进行加权，与采样频率无关：\n",
    "* 类别权重\n",
    "* 样本权重"
   ]
  },
  {
   "cell_type": "markdown",
   "id": "balanced-mounting",
   "metadata": {},
   "source": [
    "## 类别权重\n",
    "\n",
    "这是通过将字典传递给 Model.fit() 的 class_weight 参数来设置的。 该字典将类索引映射到应用于属于此类的样本的权重。\n",
    "\n",
    "这可用于在不重新采样的情况下平衡类，或训练一个对特定类赋予更多重要性的模型。\n",
    "\n",
    "例如，如果类“0”是数据中表示为类“1”的一半，则可以使用 Model.fit(..., class_weight={0: 1., 1: 0.5})。\n",
    "\n",
    "这是一个 NumPy 示例，我们使用类权重或样本权重来更加重视类 #5（即 MNIST 数据集中的数字“5”）的正确分类。"
   ]
  },
  {
   "cell_type": "code",
   "execution_count": 30,
   "id": "found-giving",
   "metadata": {},
   "outputs": [
    {
     "name": "stdout",
     "output_type": "stream",
     "text": [
      "Fit with class weight\n",
      "WARNING:tensorflow:From /public/huangwei/miniconda3/envs/tensorflow/lib/python3.8/site-packages/tensorflow/python/ops/array_ops.py:5043: calling gather (from tensorflow.python.ops.array_ops) with validate_indices is deprecated and will be removed in a future version.\n",
      "Instructions for updating:\n",
      "The `validate_indices` argument has no effect. Indices are always validated on CPU and never validated on GPU.\n",
      "782/782 [==============================] - 7s 9ms/step - loss: 0.3697 - sparse_categorical_accuracy: 0.9025\n"
     ]
    },
    {
     "data": {
      "text/plain": [
       "<tensorflow.python.keras.callbacks.History at 0x7f12648e6310>"
      ]
     },
     "execution_count": 30,
     "metadata": {},
     "output_type": "execute_result"
    },
    {
     "name": "stdout",
     "output_type": "stream",
     "text": [
      "time: 7.51 s (started: 2021-08-23 11:46:20 +08:00)\n"
     ]
    }
   ],
   "source": [
    "import numpy as np\n",
    "\n",
    "class_weight = {\n",
    "    0: 1.0,\n",
    "    1: 1.0,\n",
    "    2: 1.0,\n",
    "    3: 1.0,\n",
    "    4: 1.0,\n",
    "    # Set weight \"2\" for class \"5\",\n",
    "    # making this class 2x more important\n",
    "    5: 2.0,\n",
    "    6: 1.0,\n",
    "    7: 1.0,\n",
    "    8: 1.0,\n",
    "    9: 1.0,\n",
    "}\n",
    "\n",
    "print(\"Fit with class weight\")\n",
    "model = get_compiled_model()\n",
    "model.fit(x_train, y_train, class_weight=class_weight, batch_size=64, epochs=1)"
   ]
  },
  {
   "cell_type": "markdown",
   "id": "natural-distribution",
   "metadata": {},
   "source": [
    "## 样本权重"
   ]
  },
  {
   "cell_type": "markdown",
   "id": "electrical-eight",
   "metadata": {},
   "source": [
    "对于细粒度控制，或者如果您不构建分类器，则可以使用“样本权重”。\n",
    "* 从 NumPy 数据训练时：将 sample_weight 参数传递给 Model.fit()。\n",
    "* 当从 tf.data 或任何其他类型的迭代器训练时：Yield (input_batch, label_batch, sample_weight_batch) 元组。\n",
    "“样本权重”数组是一个数字数组，用于指定批次中每个样本在计算总损失时应具有的权重。 它通常用于不平衡的分类问题（这个想法是给很少见的类更多的权重）。\n",
    "\n",
    "当使用的权重为 1 和 0 时，该数组可以用作损失函数的掩码（完全丢弃某些样本对总损失的贡献）。"
   ]
  },
  {
   "cell_type": "code",
   "execution_count": 31,
   "id": "single-guard",
   "metadata": {},
   "outputs": [
    {
     "name": "stdout",
     "output_type": "stream",
     "text": [
      "Fit with sample weight\n",
      "782/782 [==============================] - 7s 8ms/step - loss: 0.3828 - sparse_categorical_accuracy: 0.8994\n"
     ]
    },
    {
     "data": {
      "text/plain": [
       "<tensorflow.python.keras.callbacks.History at 0x7f126458f220>"
      ]
     },
     "execution_count": 31,
     "metadata": {},
     "output_type": "execute_result"
    },
    {
     "name": "stdout",
     "output_type": "stream",
     "text": [
      "time: 11.3 s (started: 2021-08-23 11:48:36 +08:00)\n"
     ]
    }
   ],
   "source": [
    "sample_weight = np.ones(shape=(len(y_train),))\n",
    "sample_weight[y_train == 5] = 2.0\n",
    "\n",
    "print(\"Fit with sample weight\")\n",
    "model = get_compiled_model()\n",
    "model.fit(x_train, y_train, sample_weight=sample_weight, batch_size=64, epochs=1)"
   ]
  },
  {
   "cell_type": "markdown",
   "id": "motivated-shanghai",
   "metadata": {},
   "source": [
    "这是一个相应的`Dataset`示例："
   ]
  },
  {
   "cell_type": "code",
   "execution_count": 34,
   "id": "explicit-minute",
   "metadata": {},
   "outputs": [
    {
     "name": "stdout",
     "output_type": "stream",
     "text": [
      "782/782 [==============================] - 8s 9ms/step - loss: 0.3696 - sparse_categorical_accuracy: 0.9035\n"
     ]
    },
    {
     "data": {
      "text/plain": [
       "<tensorflow.python.keras.callbacks.History at 0x7f1263c9eb50>"
      ]
     },
     "execution_count": 34,
     "metadata": {},
     "output_type": "execute_result"
    },
    {
     "name": "stdout",
     "output_type": "stream",
     "text": [
      "time: 8 s (started: 2021-08-23 11:50:46 +08:00)\n"
     ]
    }
   ],
   "source": [
    "sample_weight = np.ones(shape=(len(y_train),))\n",
    "sample_weight[y_train == 5] = 2.0\n",
    "\n",
    "# Create a Dataset that includes sample weights\n",
    "# (3rd element in the return tuple).\n",
    "train_dataset = tf.data.Dataset.from_tensor_slices((x_train, y_train, sample_weight))\n",
    "\n",
    "# Shuffle and slice the dataset.\n",
    "train_dataset = train_dataset.shuffle(buffer_size=1024).batch(64)\n",
    "\n",
    "model = get_compiled_model()\n",
    "model.fit(train_dataset, epochs=1)"
   ]
  },
  {
   "cell_type": "markdown",
   "id": "turkish-portsmouth",
   "metadata": {},
   "source": [
    "# 将数据传递给多输入、多输出模型"
   ]
  },
  {
   "cell_type": "markdown",
   "id": "backed-mistake",
   "metadata": {},
   "source": [
    "在前面的示例中，我们正在考虑具有单个输入（形状为 (764,) 的张量）和单个输出（形状为 (10,) 的预测张量）的模型。 但是具有多个输入或输出的模型呢？\n",
    "\n",
    "考虑以下模型，它具有形状为 (32, 32, 3)（即（高度、宽度、通道））的图像输入和形状为 (None, 10) 的时间序列输入（即（时间步长、特征））。 我们的模型将根据这些输入的组合计算出两个输出：“分数”（形状 (1,)）和五个类别的概率分布（形状 (5,)）。"
   ]
  },
  {
   "cell_type": "code",
   "execution_count": 35,
   "id": "complete-hunger",
   "metadata": {},
   "outputs": [
    {
     "name": "stdout",
     "output_type": "stream",
     "text": [
      "time: 82 ms (started: 2021-08-23 11:52:21 +08:00)\n"
     ]
    }
   ],
   "source": [
    "image_input = keras.Input(shape=(32, 32, 3), name=\"img_input\")\n",
    "timeseries_input = keras.Input(shape=(None, 10), name=\"ts_input\")\n",
    "\n",
    "x1 = layers.Conv2D(3, 3)(image_input)\n",
    "x1 = layers.GlobalMaxPooling2D()(x1)\n",
    "\n",
    "x2 = layers.Conv1D(3, 3)(timeseries_input)\n",
    "x2 = layers.GlobalMaxPooling1D()(x2)\n",
    "\n",
    "x = layers.concatenate([x1, x2])\n",
    "\n",
    "score_output = layers.Dense(1, name=\"score_output\")(x)\n",
    "class_output = layers.Dense(5, name=\"class_output\")(x)\n",
    "\n",
    "model = keras.Model(\n",
    "    inputs=[image_input, timeseries_input], outputs=[score_output, class_output]\n",
    ")"
   ]
  },
  {
   "cell_type": "markdown",
   "id": "current-charger",
   "metadata": {},
   "source": [
    "让我们绘制这个模型，这样你就可以清楚地看到我们在这里做什么（注意图中显示的形状是批次形状，而不是每个样本的形状）。"
   ]
  },
  {
   "cell_type": "code",
   "execution_count": 36,
   "id": "tired-specific",
   "metadata": {},
   "outputs": [
    {
     "data": {
      "image/png": "[encoded data removed]",
      "text/plain": [
       "<IPython.core.display.Image object>"
      ]
     },
     "execution_count": 36,
     "metadata": {},
     "output_type": "execute_result"
    },
    {
     "name": "stdout",
     "output_type": "stream",
     "text": [
      "time: 419 ms (started: 2021-08-23 11:53:06 +08:00)\n"
     ]
    }
   ],
   "source": [
    "keras.utils.plot_model(model, \"multi_input_and_output_model.png\", show_shapes=True)"
   ]
  },
  {
   "cell_type": "markdown",
   "id": "stuck-raise",
   "metadata": {},
   "source": [
    "在编译时，我们可以通过将损失函数作为列表传递来为不同的输出指定不同的损失："
   ]
  },
  {
   "cell_type": "code",
   "execution_count": 37,
   "id": "ecological-electronics",
   "metadata": {},
   "outputs": [
    {
     "name": "stdout",
     "output_type": "stream",
     "text": [
      "time: 24.2 ms (started: 2021-08-23 11:54:05 +08:00)\n"
     ]
    }
   ],
   "source": [
    "model.compile(\n",
    "    optimizer=keras.optimizers.RMSprop(1e-3),\n",
    "    loss=[keras.losses.MeanSquaredError(), keras.losses.CategoricalCrossentropy()],\n",
    ")"
   ]
  },
  {
   "cell_type": "markdown",
   "id": "psychological-template",
   "metadata": {},
   "source": [
    "如果我们只向模型传递一个损失函数，那么每个输出都会应用相同的损失函数（这在这里不合适）。\n",
    "\n",
    "同样对于指标："
   ]
  },
  {
   "cell_type": "code",
   "execution_count": 38,
   "id": "appropriate-network",
   "metadata": {},
   "outputs": [
    {
     "name": "stdout",
     "output_type": "stream",
     "text": [
      "time: 23 ms (started: 2021-08-23 11:54:38 +08:00)\n"
     ]
    }
   ],
   "source": [
    "model.compile(\n",
    "    optimizer=keras.optimizers.RMSprop(1e-3),\n",
    "    loss=[keras.losses.MeanSquaredError(), keras.losses.CategoricalCrossentropy()],\n",
    "    metrics=[\n",
    "        [\n",
    "            keras.metrics.MeanAbsolutePercentageError(),\n",
    "            keras.metrics.MeanAbsoluteError(),\n",
    "        ],\n",
    "        [keras.metrics.CategoricalAccuracy()],\n",
    "    ],\n",
    ")"
   ]
  },
  {
   "cell_type": "markdown",
   "id": "suffering-wisdom",
   "metadata": {},
   "source": [
    "由于我们为输出层命名，我们还可以通过字典指定每个输出的损失和指标："
   ]
  },
  {
   "cell_type": "code",
   "execution_count": 39,
   "id": "accepting-convergence",
   "metadata": {},
   "outputs": [
    {
     "name": "stdout",
     "output_type": "stream",
     "text": [
      "time: 21.7 ms (started: 2021-08-23 11:55:20 +08:00)\n"
     ]
    }
   ],
   "source": [
    "model.compile(\n",
    "    optimizer=keras.optimizers.RMSprop(1e-3),\n",
    "    loss={\n",
    "        \"score_output\": keras.losses.MeanSquaredError(),\n",
    "        \"class_output\": keras.losses.CategoricalCrossentropy(),\n",
    "    },\n",
    "    metrics={\n",
    "        \"score_output\": [\n",
    "            keras.metrics.MeanAbsolutePercentageError(),\n",
    "            keras.metrics.MeanAbsoluteError(),\n",
    "        ],\n",
    "        \"class_output\": [keras.metrics.CategoricalAccuracy()],\n",
    "    },\n",
    ")"
   ]
  },
  {
   "cell_type": "markdown",
   "id": "exterior-division",
   "metadata": {},
   "source": [
    "如果您有 2 个以上的输出，我们建议使用显式名称和字典。\n",
    "\n",
    "可以使用 loss_weights 参数为不同的特定于输出的损失赋予不同的权重（例如，在我们的示例中，人们可能希望通过将类损失的重要性提高 2 倍来优先考虑“得分”损失）："
   ]
  },
  {
   "cell_type": "code",
   "execution_count": 40,
   "id": "protecting-diagram",
   "metadata": {},
   "outputs": [
    {
     "name": "stdout",
     "output_type": "stream",
     "text": [
      "time: 25.7 ms (started: 2021-08-23 11:55:46 +08:00)\n"
     ]
    }
   ],
   "source": [
    "model.compile(\n",
    "    optimizer=keras.optimizers.RMSprop(1e-3),\n",
    "    loss={\n",
    "        \"score_output\": keras.losses.MeanSquaredError(),\n",
    "        \"class_output\": keras.losses.CategoricalCrossentropy(),\n",
    "    },\n",
    "    metrics={\n",
    "        \"score_output\": [\n",
    "            keras.metrics.MeanAbsolutePercentageError(),\n",
    "            keras.metrics.MeanAbsoluteError(),\n",
    "        ],\n",
    "        \"class_output\": [keras.metrics.CategoricalAccuracy()],\n",
    "    },\n",
    "    loss_weights={\"score_output\": 2.0, \"class_output\": 1.0},\n",
    ")"
   ]
  },
  {
   "cell_type": "markdown",
   "id": "color-protection",
   "metadata": {},
   "source": [
    "您也可以选择不计算某些输出的损失，如果这些输出用于预测而不是用于训练："
   ]
  },
  {
   "cell_type": "code",
   "execution_count": 41,
   "id": "pacific-suffering",
   "metadata": {},
   "outputs": [
    {
     "name": "stdout",
     "output_type": "stream",
     "text": [
      "time: 20.9 ms (started: 2021-08-23 11:56:17 +08:00)\n"
     ]
    }
   ],
   "source": [
    "# List loss version\n",
    "model.compile(\n",
    "    optimizer=keras.optimizers.RMSprop(1e-3),\n",
    "    loss=[None, keras.losses.CategoricalCrossentropy()],\n",
    ")\n",
    "\n",
    "# Or dict loss version\n",
    "model.compile(\n",
    "    optimizer=keras.optimizers.RMSprop(1e-3),\n",
    "    loss={\"class_output\": keras.losses.CategoricalCrossentropy()},\n",
    ")"
   ]
  },
  {
   "cell_type": "markdown",
   "id": "general-enterprise",
   "metadata": {},
   "source": [
    "在 fit() 中将数据传递到多输入或多输出模型的工作方式与在 compile 中指定损失函数的方式类似：您可以传递 NumPy 数组列表（以 1:1 映射到接收损失函数的输出） ) 或 dicts 将输出名称映射到 NumPy 数组。"
   ]
  },
  {
   "cell_type": "code",
   "execution_count": 42,
   "id": "oriental-climb",
   "metadata": {},
   "outputs": [
    {
     "name": "stdout",
     "output_type": "stream",
     "text": [
      "4/4 [==============================] - 9s 172ms/step - loss: 15.3078 - score_output_loss: 1.5379 - class_output_loss: 13.7700\n",
      "4/4 [==============================] - 1s 12ms/step - loss: 13.7768 - score_output_loss: 1.3199 - class_output_loss: 12.4569\n"
     ]
    },
    {
     "data": {
      "text/plain": [
       "<tensorflow.python.keras.callbacks.History at 0x7f126110ebb0>"
      ]
     },
     "execution_count": 42,
     "metadata": {},
     "output_type": "execute_result"
    },
    {
     "name": "stdout",
     "output_type": "stream",
     "text": [
      "time: 9.93 s (started: 2021-08-23 11:57:29 +08:00)\n"
     ]
    }
   ],
   "source": [
    "model.compile(\n",
    "    optimizer=keras.optimizers.RMSprop(1e-3),\n",
    "    loss=[keras.losses.MeanSquaredError(), keras.losses.CategoricalCrossentropy()],\n",
    ")\n",
    "\n",
    "# Generate dummy NumPy data\n",
    "img_data = np.random.random_sample(size=(100, 32, 32, 3))\n",
    "ts_data = np.random.random_sample(size=(100, 20, 10))\n",
    "score_targets = np.random.random_sample(size=(100, 1))\n",
    "class_targets = np.random.random_sample(size=(100, 5))\n",
    "\n",
    "# Fit on lists\n",
    "model.fit([img_data, ts_data], [score_targets, class_targets], batch_size=32, epochs=1)\n",
    "\n",
    "# Alternatively, fit on dicts\n",
    "model.fit(\n",
    "    {\"img_input\": img_data, \"ts_input\": ts_data},\n",
    "    {\"score_output\": score_targets, \"class_output\": class_targets},\n",
    "    batch_size=32,\n",
    "    epochs=1,\n",
    ")"
   ]
  },
  {
   "cell_type": "markdown",
   "id": "interracial-millennium",
   "metadata": {},
   "source": [
    "这是 Dataset 用例：与我们对 NumPy 数组所做的类似，Dataset 应该返回一个 dicts 元组。"
   ]
  },
  {
   "cell_type": "code",
   "execution_count": 43,
   "id": "circular-devices",
   "metadata": {},
   "outputs": [
    {
     "name": "stdout",
     "output_type": "stream",
     "text": [
      "2/2 [==============================] - 1s 500ms/step - loss: 13.4791 - score_output_loss: 1.1759 - class_output_loss: 12.3032\n"
     ]
    },
    {
     "data": {
      "text/plain": [
       "<tensorflow.python.keras.callbacks.History at 0x7f1263c8e880>"
      ]
     },
     "execution_count": 43,
     "metadata": {},
     "output_type": "execute_result"
    },
    {
     "name": "stdout",
     "output_type": "stream",
     "text": [
      "time: 1.48 s (started: 2021-08-23 11:59:32 +08:00)\n"
     ]
    }
   ],
   "source": [
    "train_dataset = tf.data.Dataset.from_tensor_slices(\n",
    "    (\n",
    "        {\"img_input\": img_data, \"ts_input\": ts_data},\n",
    "        {\"score_output\": score_targets, \"class_output\": class_targets},\n",
    "    )\n",
    ")\n",
    "train_dataset = train_dataset.shuffle(buffer_size=1024).batch(64)\n",
    "\n",
    "model.fit(train_dataset, epochs=1)"
   ]
  },
  {
   "cell_type": "markdown",
   "id": "laden-sellers",
   "metadata": {},
   "source": [
    "# 使用回调"
   ]
  },
  {
   "cell_type": "markdown",
   "id": "ordered-idaho",
   "metadata": {},
   "source": [
    "Keras 中的回调是在训练期间的不同时间点（在一个周期开始时、在一个批次结束时、在一个周期结束时等）被调用的对象。 它们可用于实现某些行为，例如：\n",
    "* 在训练期间的不同点进行验证（除了内置的 per-epoch 验证）\n",
    "* 定期检查模型或当模型超过某个准确度阈值时\n",
    "* 当训练似乎趋于平稳时改变模型的学习率\n",
    "* 当训练似乎趋于平稳时对顶层进行微调\n",
    "* 在训练结束或超过特定性能阈值时发送电子邮件或即时消息通知\n",
    "\n",
    "\n",
    "回调可以作为列表传递给您对 fit() 的调用："
   ]
  },
  {
   "cell_type": "code",
   "execution_count": 47,
   "id": "municipal-clark",
   "metadata": {},
   "outputs": [
    {
     "name": "stdout",
     "output_type": "stream",
     "text": [
      "Epoch 1/20\n",
      "625/625 [==============================] - 5s 7ms/step - loss: 0.3643 - sparse_categorical_accuracy: 0.8992 - val_loss: 0.2139 - val_sparse_categorical_accuracy: 0.9363\n",
      "Epoch 2/20\n",
      "625/625 [==============================] - 4s 7ms/step - loss: 0.1700 - sparse_categorical_accuracy: 0.9492 - val_loss: 0.1794 - val_sparse_categorical_accuracy: 0.9469\n",
      "Epoch 3/20\n",
      "625/625 [==============================] - 4s 7ms/step - loss: 0.1252 - sparse_categorical_accuracy: 0.9627 - val_loss: 0.1566 - val_sparse_categorical_accuracy: 0.9553\n",
      "Epoch 4/20\n",
      "625/625 [==============================] - 4s 7ms/step - loss: 0.1012 - sparse_categorical_accuracy: 0.9696 - val_loss: 0.1379 - val_sparse_categorical_accuracy: 0.9597\n",
      "Epoch 5/20\n",
      "625/625 [==============================] - 4s 7ms/step - loss: 0.0848 - sparse_categorical_accuracy: 0.9747 - val_loss: 0.1518 - val_sparse_categorical_accuracy: 0.9567\n",
      "Epoch 6/20\n",
      "625/625 [==============================] - 4s 7ms/step - loss: 0.0719 - sparse_categorical_accuracy: 0.9785 - val_loss: 0.1368 - val_sparse_categorical_accuracy: 0.9615\n",
      "Epoch 00006: early stopping\n"
     ]
    },
    {
     "data": {
      "text/plain": [
       "<tensorflow.python.keras.callbacks.History at 0x7f12608194c0>"
      ]
     },
     "execution_count": 47,
     "metadata": {},
     "output_type": "execute_result"
    },
    {
     "name": "stdout",
     "output_type": "stream",
     "text": [
      "time: 27 s (started: 2021-08-23 12:01:52 +08:00)\n"
     ]
    }
   ],
   "source": [
    "model = get_compiled_model()\n",
    "\n",
    "callbacks = [\n",
    "    keras.callbacks.EarlyStopping(\n",
    "        # Stop training when `val_loss` is no longer improving\n",
    "        monitor=\"val_loss\",\n",
    "        # \"no longer improving\" being defined as \"no better than 1e-2 less\"\n",
    "        min_delta=1e-2,\n",
    "        # \"no longer improving\" being further defined as \"for at least 2 epochs\"\n",
    "        patience=2,\n",
    "        verbose=1,\n",
    "    )\n",
    "]\n",
    "model.fit(\n",
    "    x_train,\n",
    "    y_train,\n",
    "    epochs=20,\n",
    "    batch_size=64,\n",
    "    callbacks=callbacks,\n",
    "    validation_split=0.2,\n",
    ")"
   ]
  },
  {
   "cell_type": "markdown",
   "id": "metallic-median",
   "metadata": {},
   "source": [
    "## 许多内置回调可用"
   ]
  },
  {
   "cell_type": "markdown",
   "id": "parliamentary-straight",
   "metadata": {},
   "source": [
    "Keras 中已经有许多内置回调可用，例如：\n",
    "* ModelCheckpoint：定期保存模型。\n",
    "* EarlyStopping：当训练不再改善验证指标时停止训练。\n",
    "* TensorBoard：定期编写可以在 TensorBoard 中可视化的模型日志（更多细节在“可视化”部分）。\n",
    "* CSVLogger：将损失和指标数据流式传输到 CSV 文件。\n",
    "* 等等。\n",
    "\n",
    "有关完整列表，请参阅回调文档。"
   ]
  },
  {
   "cell_type": "markdown",
   "id": "global-marriage",
   "metadata": {},
   "source": [
    "## 编写自己的回调"
   ]
  },
  {
   "cell_type": "markdown",
   "id": "right-stroke",
   "metadata": {},
   "source": [
    "您可以通过扩展基类 keras.callbacks.Callback 来创建自定义回调。 回调可以通过类属性 self.model 访问其关联的模型。\n",
    "\n",
    "请务必阅读编写自定义回调的完整指南。\n",
    "\n",
    "这是一个在训练期间保存每批损失值列表的简单示例："
   ]
  },
  {
   "cell_type": "code",
   "execution_count": 49,
   "id": "unlike-update",
   "metadata": {},
   "outputs": [
    {
     "name": "stdout",
     "output_type": "stream",
     "text": [
      "time: 1.25 ms (started: 2021-08-23 12:05:22 +08:00)\n"
     ]
    }
   ],
   "source": [
    "class LossHistory(keras.callbacks.Callback):\n",
    "    def on_train_begin(self, logs):\n",
    "        self.per_batch_losses = []\n",
    "\n",
    "    def on_batch_end(self, batch, logs):\n",
    "        self.per_batch_losses.append(logs.get(\"loss\"))"
   ]
  },
  {
   "cell_type": "markdown",
   "id": "adaptive-theta",
   "metadata": {},
   "source": [
    "# Checkpointing模型"
   ]
  },
  {
   "cell_type": "markdown",
   "id": "little-activity",
   "metadata": {},
   "source": [
    "当您在相对较大的数据集上训练模型时，以频繁的时间间隔保存模型的检查点至关重要。\n",
    "\n",
    "实现这一点的最简单方法是使用 ModelCheckpoint 回调："
   ]
  },
  {
   "cell_type": "code",
   "execution_count": 50,
   "id": "ambient-going",
   "metadata": {},
   "outputs": [
    {
     "name": "stdout",
     "output_type": "stream",
     "text": [
      "Epoch 1/2\n",
      "625/625 [==============================] - 5s 7ms/step - loss: 0.3891 - sparse_categorical_accuracy: 0.8896 - val_loss: 0.2435 - val_sparse_categorical_accuracy: 0.9250\n",
      "\n",
      "Epoch 00001: val_loss improved from inf to 0.24354, saving model to mymodel_1\n",
      "INFO:tensorflow:Assets written to: mymodel_1/assets\n",
      "Epoch 2/2\n",
      "625/625 [==============================] - 4s 7ms/step - loss: 0.1878 - sparse_categorical_accuracy: 0.9438 - val_loss: 0.1955 - val_sparse_categorical_accuracy: 0.9415\n",
      "\n",
      "Epoch 00002: val_loss improved from 0.24354 to 0.19554, saving model to mymodel_2\n",
      "INFO:tensorflow:Assets written to: mymodel_2/assets\n"
     ]
    },
    {
     "data": {
      "text/plain": [
       "<tensorflow.python.keras.callbacks.History at 0x7f126070a400>"
      ]
     },
     "execution_count": 50,
     "metadata": {},
     "output_type": "execute_result"
    },
    {
     "name": "stdout",
     "output_type": "stream",
     "text": [
      "time: 11.6 s (started: 2021-08-23 12:09:59 +08:00)\n"
     ]
    }
   ],
   "source": [
    "model = get_compiled_model()\n",
    "\n",
    "callbacks = [\n",
    "    keras.callbacks.ModelCheckpoint(\n",
    "        # 保存模型的路径\n",
    "        # 下面两个参数的意思是我们会覆盖当前检查点当且仅当`val_loss` 得分有所提高。\n",
    "        # 保存的模型名称将包括当前epoch。\n",
    "        filepath=\"mymodel_{epoch}\",\n",
    "        save_best_only=True,  # Only save a model if `val_loss` has improved.\n",
    "        monitor=\"val_loss\",\n",
    "        verbose=1,\n",
    "    )\n",
    "]\n",
    "model.fit(\n",
    "    x_train, y_train, epochs=2, batch_size=64, callbacks=callbacks, validation_split=0.2\n",
    ")"
   ]
  },
  {
   "cell_type": "markdown",
   "id": "supreme-register",
   "metadata": {},
   "source": [
    "ModelCheckpoint 回调可用于实现容错：在训练随机中断的情况下，能够从模型的最后保存状态重新开始训练。 这是一个基本示例："
   ]
  },
  {
   "cell_type": "code",
   "execution_count": 51,
   "id": "recorded-forwarding",
   "metadata": {},
   "outputs": [
    {
     "name": "stdout",
     "output_type": "stream",
     "text": [
      "Creating a new model\n",
      "  95/1563 [>.............................] - ETA: 11s - loss: 0.9381 - sparse_categorical_accuracy: 0.7385INFO:tensorflow:Assets written to: ./ckpt/ckpt-loss=0.92/assets\n",
      " 197/1563 [==>...........................] - ETA: 13s - loss: 0.6781 - sparse_categorical_accuracy: 0.8073INFO:tensorflow:Assets written to: ./ckpt/ckpt-loss=0.67/assets\n",
      " 298/1563 [====>.........................] - ETA: 13s - loss: 0.5701 - sparse_categorical_accuracy: 0.8379INFO:tensorflow:Assets written to: ./ckpt/ckpt-loss=0.57/assets\n",
      " 399/1563 [======>.......................] - ETA: 12s - loss: 0.5067 - sparse_categorical_accuracy: 0.8553INFO:tensorflow:Assets written to: ./ckpt/ckpt-loss=0.51/assets\n",
      " 497/1563 [========>.....................] - ETA: 11s - loss: 0.4661 - sparse_categorical_accuracy: 0.8670INFO:tensorflow:Assets written to: ./ckpt/ckpt-loss=0.47/assets\n",
      " 596/1563 [==========>...................] - ETA: 10s - loss: 0.4332 - sparse_categorical_accuracy: 0.8757INFO:tensorflow:Assets written to: ./ckpt/ckpt-loss=0.43/assets\n",
      " 697/1563 [============>.................] - ETA: 10s - loss: 0.4108 - sparse_categorical_accuracy: 0.8811INFO:tensorflow:Assets written to: ./ckpt/ckpt-loss=0.41/assets\n",
      " 797/1563 [==============>...............] - ETA: 8s - loss: 0.3875 - sparse_categorical_accuracy: 0.8867INFO:tensorflow:Assets written to: ./ckpt/ckpt-loss=0.39/assets\n",
      " 898/1563 [================>.............] - ETA: 8s - loss: 0.3704 - sparse_categorical_accuracy: 0.8916INFO:tensorflow:Assets written to: ./ckpt/ckpt-loss=0.37/assets\n",
      " 997/1563 [==================>...........] - ETA: 6s - loss: 0.3549 - sparse_categorical_accuracy: 0.8967INFO:tensorflow:Assets written to: ./ckpt/ckpt-loss=0.35/assets\n",
      "1097/1563 [====================>.........] - ETA: 5s - loss: 0.3409 - sparse_categorical_accuracy: 0.9008INFO:tensorflow:Assets written to: ./ckpt/ckpt-loss=0.34/assets\n",
      "1199/1563 [======================>.......] - ETA: 4s - loss: 0.3305 - sparse_categorical_accuracy: 0.9035INFO:tensorflow:Assets written to: ./ckpt/ckpt-loss=0.33/assets\n",
      "1298/1563 [=======================>......] - ETA: 3s - loss: 0.3195 - sparse_categorical_accuracy: 0.9065INFO:tensorflow:Assets written to: ./ckpt/ckpt-loss=0.32/assets\n",
      "1398/1563 [=========================>....] - ETA: 2s - loss: 0.3103 - sparse_categorical_accuracy: 0.9094INFO:tensorflow:Assets written to: ./ckpt/ckpt-loss=0.31/assets\n",
      "1499/1563 [===========================>..] - ETA: 0s - loss: 0.3015 - sparse_categorical_accuracy: 0.9116INFO:tensorflow:Assets written to: ./ckpt/ckpt-loss=0.30/assets\n",
      "1563/1563 [==============================] - 20s 13ms/step - loss: 0.2967 - sparse_categorical_accuracy: 0.9129\n"
     ]
    },
    {
     "data": {
      "text/plain": [
       "<tensorflow.python.keras.callbacks.History at 0x7f12605a79d0>"
      ]
     },
     "execution_count": 51,
     "metadata": {},
     "output_type": "execute_result"
    },
    {
     "name": "stdout",
     "output_type": "stream",
     "text": [
      "time: 20.4 s (started: 2021-08-23 12:17:28 +08:00)\n"
     ]
    }
   ],
   "source": [
    "import os\n",
    "\n",
    "# Prepare a directory to store all the checkpoints.\n",
    "checkpoint_dir = \"./ckpt\"\n",
    "if not os.path.exists(checkpoint_dir):\n",
    "    os.makedirs(checkpoint_dir)\n",
    "\n",
    "\n",
    "def make_or_restore_model():\n",
    "    # Either restore the latest model, or create a fresh one\n",
    "    # if there is no checkpoint available.\n",
    "    checkpoints = [checkpoint_dir + \"/\" + name for name in os.listdir(checkpoint_dir)]\n",
    "    if checkpoints:\n",
    "        latest_checkpoint = max(checkpoints, key=os.path.getctime)\n",
    "        print(\"Restoring from\", latest_checkpoint)\n",
    "        return keras.models.load_model(latest_checkpoint)\n",
    "    print(\"Creating a new model\")\n",
    "    return get_compiled_model()\n",
    "\n",
    "\n",
    "model = make_or_restore_model()\n",
    "callbacks = [\n",
    "    # This callback saves a SavedModel every 100 batches.\n",
    "    # We include the training loss in the saved model name.\n",
    "    keras.callbacks.ModelCheckpoint(\n",
    "        filepath=checkpoint_dir + \"/ckpt-loss={loss:.2f}\", save_freq=100\n",
    "    )\n",
    "]\n",
    "model.fit(x_train, y_train, epochs=1, callbacks=callbacks)"
   ]
  },
  {
   "cell_type": "markdown",
   "id": "focused-renewal",
   "metadata": {},
   "source": [
    "您还可以编写自己的回调来保存和恢复模型。\n",
    "\n",
    "有关序列化和保存的完整指南，请参阅保存和序列化模型指南。"
   ]
  },
  {
   "cell_type": "markdown",
   "id": "healthy-target",
   "metadata": {},
   "source": [
    "# 使用学习率计划"
   ]
  },
  {
   "cell_type": "markdown",
   "id": "fitting-picnic",
   "metadata": {},
   "source": [
    "训练深度学习模型时的常见模式是随着训练的进行逐渐减少学习。 这通常被称为“学习率衰减”。\n",
    "\n",
    "学习衰减计划可以是静态的（预先固定，作为当前时期或当前批次索引的函数）或动态的（响应模型的当前行为，特别是验证损失）。"
   ]
  },
  {
   "cell_type": "markdown",
   "id": "sudden-israel",
   "metadata": {},
   "source": [
    "## 将调度传递给优化器"
   ]
  },
  {
   "cell_type": "markdown",
   "id": "sonic-spectrum",
   "metadata": {},
   "source": [
    "您可以通过在优化器中将调度对象作为 learning_rate 参数传递来轻松使用静态学习率衰减调度："
   ]
  },
  {
   "cell_type": "code",
   "execution_count": 52,
   "id": "coral-input",
   "metadata": {},
   "outputs": [
    {
     "name": "stdout",
     "output_type": "stream",
     "text": [
      "time: 1.67 ms (started: 2021-08-23 12:24:00 +08:00)\n"
     ]
    }
   ],
   "source": [
    "initial_learning_rate = 0.1\n",
    "lr_schedule = keras.optimizers.schedules.ExponentialDecay(\n",
    "    initial_learning_rate, decay_steps=100000, decay_rate=0.96, staircase=True\n",
    ")\n",
    "\n",
    "optimizer = keras.optimizers.RMSprop(learning_rate=lr_schedule)"
   ]
  },
  {
   "cell_type": "markdown",
   "id": "identified-transport",
   "metadata": {},
   "source": [
    "有几个内置计划可用：ExponentialDecay、PiecewiseConstantDecay、PolynomialDecay 和 InverseTimeDecay。"
   ]
  },
  {
   "cell_type": "markdown",
   "id": "boring-trade",
   "metadata": {},
   "source": [
    "## 使用回调实现动态学习率计划"
   ]
  },
  {
   "cell_type": "markdown",
   "id": "hungry-antarctica",
   "metadata": {},
   "source": [
    "使用这些调度对象无法实现动态学习率调度（例如，在验证损失不再改善时降低学习率），因为优化器无法访问验证指标。\n",
    "\n",
    "但是，回调确实可以访问所有指标，包括验证指标！ 因此，您可以通过使用回调来修改优化器上的当前学习率来实现此模式。 事实上，这甚至是作为 ReduceLROnPlateau 回调内置的。"
   ]
  },
  {
   "cell_type": "markdown",
   "id": "shared-throw",
   "metadata": {},
   "source": [
    "# 在训练期间可视化损失和指标"
   ]
  },
  {
   "cell_type": "markdown",
   "id": "thrown-marina",
   "metadata": {},
   "source": [
    "在训练期间密切关注模型的最佳方法是使用 TensorBoard——一个基于浏览器的应用程序，您可以在本地运行，它为您提供：\n",
    "* 用于训练和评估的损失和指标的实时图\n",
    "*（可选）层激活直方图的可视化\n",
    "*（可选）嵌入层学习的嵌入空间的 3D 可视化\n",
    "\n",
    "如果您已经使用 pip 安装了 TensorFlow，您应该能够从命令行启动 TensorBoard："
   ]
  },
  {
   "cell_type": "code",
   "execution_count": null,
   "id": "coordinate-damages",
   "metadata": {},
   "outputs": [],
   "source": [
    "tensorboard --logdir=/full_path_to_your_logs"
   ]
  },
  {
   "cell_type": "markdown",
   "id": "graduate-effects",
   "metadata": {},
   "source": [
    "## 使用 TensorBoard 回调"
   ]
  },
  {
   "cell_type": "markdown",
   "id": "static-price",
   "metadata": {},
   "source": [
    "将 TensorBoard 与 Keras 模型和 fit() 方法一起使用的最简单方法是 TensorBoard 回调。\n",
    "\n",
    "在最简单的情况下，只需指定您希望回调写入日志的位置，就可以了："
   ]
  },
  {
   "cell_type": "code",
   "execution_count": 53,
   "id": "organic-commonwealth",
   "metadata": {},
   "outputs": [
    {
     "data": {
      "text/plain": [
       "<tensorflow.python.keras.callbacks.TensorBoard at 0x7f1260097370>"
      ]
     },
     "execution_count": 53,
     "metadata": {},
     "output_type": "execute_result"
    },
    {
     "name": "stdout",
     "output_type": "stream",
     "text": [
      "time: 316 ms (started: 2021-08-23 12:28:44 +08:00)\n"
     ]
    }
   ],
   "source": [
    "keras.callbacks.TensorBoard(\n",
    "    log_dir=\"/full_path_to_your_logs\",\n",
    "    histogram_freq=0,  # How often to log histogram visualizations\n",
    "    embeddings_freq=0,  # How often to log embedding visualizations\n",
    "    update_freq=\"epoch\",\n",
    ")  # How often to write logs (default: once per epoch)"
   ]
  },
  {
   "cell_type": "code",
   "execution_count": null,
   "id": "educated-handbook",
   "metadata": {},
   "outputs": [],
   "source": []
  }
 ],
 "metadata": {
  "kernelspec": {
   "display_name": "Python [conda env:tensorflow]",
   "language": "python",
   "name": "conda-env-tensorflow-py"
  },
  "language_info": {
   "codemirror_mode": {
    "name": "ipython",
    "version": 3
   },
   "file_extension": ".py",
   "mimetype": "text/x-python",
   "name": "python",
   "nbconvert_exporter": "python",
   "pygments_lexer": "ipython3",
   "version": "3.8.10"
  }
 },
 "nbformat": 4,
 "nbformat_minor": 5
}
