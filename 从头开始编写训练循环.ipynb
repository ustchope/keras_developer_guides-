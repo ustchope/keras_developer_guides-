{
 "cells": [
  {
   "cell_type": "code",
   "execution_count": 2,
   "id": "entitled-floating",
   "metadata": {},
   "outputs": [
    {
     "name": "stdout",
     "output_type": "stream",
     "text": [
      "time: 423 ms (started: 2021-08-25 23:15:29 +08:00)\n"
     ]
    }
   ],
   "source": [
    "# 自动计算cell的计算时间\n",
    "%load_ext autotime\n",
    "\n",
    "%matplotlib inline\n",
    "%config InlineBackend.figure_format='svg' #矢量图设置，让绘图更清晰"
   ]
  },
  {
   "cell_type": "code",
   "execution_count": 4,
   "id": "arctic-chile",
   "metadata": {},
   "outputs": [
    {
     "name": "stdout",
     "output_type": "stream",
     "text": [
      "origin\tgit@github.com:ustchope/keras_developer_guides-.git (fetch)\n",
      "origin\tgit@github.com:ustchope/keras_developer_guides-.git (push)\n",
      "[main a0da139] 更新 #3  Aug 25, 2021\n",
      " 2 files changed, 823 insertions(+), 750 deletions(-)\n",
      " create mode 100644 \"\\344\\273\\216\\345\\244\\264\\345\\274\\200\\345\\247\\213\\347\\274\\226\\345\\206\\231\\350\\256\\255\\347\\273\\203\\345\\276\\252\\347\\216\\257.ipynb\"\n"
     ]
    },
    {
     "name": "stderr",
     "output_type": "stream",
     "text": [
      "To git@github.com:ustchope/keras_developer_guides-.git\n",
      "   2defce7..a0da139  main -> main\n"
     ]
    },
    {
     "name": "stdout",
     "output_type": "stream",
     "text": [
      "time: 4.24 s (started: 2021-08-25 15:21:39 +08:00)\n"
     ]
    }
   ],
   "source": [
    "%%bash\n",
    "\n",
    "# 增加更新\n",
    "git add *.ipynb *.md\n",
    "\n",
    "git remote -v\n",
    "\n",
    "git commit -m '更新 #3  Aug 25, 2021'\n",
    "\n",
    "#git push origin master\n",
    "git push"
   ]
  },
  {
   "cell_type": "code",
   "execution_count": 3,
   "id": "pursuant-accuracy",
   "metadata": {},
   "outputs": [
    {
     "name": "stdout",
     "output_type": "stream",
     "text": [
      "time: 133 ms (started: 2021-08-25 23:15:33 +08:00)\n"
     ]
    }
   ],
   "source": [
    "#设置使用的gpu\n",
    "import tensorflow as tf\n",
    "from tensorflow import keras\n",
    "\n",
    "gpus = tf.config.list_physical_devices(\"GPU\")\n",
    "\n",
    "if gpus:\n",
    "   \n",
    "    gpu0 = gpus[0] #如果有多个GPU，仅使用第0个GPU\n",
    "    tf.config.experimental.set_memory_growth(gpu0, True) #设置GPU显存用量按需使用\n",
    "    # 或者也可以设置GPU显存为固定使用量(例如：4G)\n",
    "    #tf.config.experimental.set_virtual_device_configuration(gpu0,\n",
    "    #    [tf.config.experimental.VirtualDeviceConfiguration(memory_limit=4096)]) \n",
    "    tf.config.set_visible_devices([gpu0],\"GPU\")"
   ]
  },
  {
   "cell_type": "markdown",
   "id": "suspended-death",
   "metadata": {},
   "source": [
    "# 设置"
   ]
  },
  {
   "cell_type": "code",
   "execution_count": 4,
   "id": "valuable-ceremony",
   "metadata": {},
   "outputs": [
    {
     "name": "stdout",
     "output_type": "stream",
     "text": [
      "time: 787 µs (started: 2021-08-25 23:15:36 +08:00)\n"
     ]
    }
   ],
   "source": [
    "import tensorflow as tf\n",
    "from tensorflow import keras\n",
    "from tensorflow.keras import layers\n",
    "import numpy as np"
   ]
  },
  {
   "cell_type": "markdown",
   "id": "agricultural-authority",
   "metadata": {},
   "source": [
    "# 介绍"
   ]
  },
  {
   "cell_type": "markdown",
   "id": "tracked-provincial",
   "metadata": {},
   "source": [
    "Keras 提供默认的训练和评估循环，fit() 和evaluate()。 它们的用法包含在使用内置方法的培训和评估指南中。\n",
    "\n",
    "如果您想自定义模型的学习算法，同时仍然利用 fit() 的便利性（例如，使用 fit() 训练 GAN），您可以将 Model 类子类化并实现您自己的 train_step() 方法，它 在 fit() 期间重复调用。 这在指南中介绍了自定义 fit() 中发生的事情。\n",
    "\n",
    "现在，如果您想对训练和评估进行非常低级别的控制，您应该从头开始编写自己的训练和评估循环。 这就是本指南的内容。"
   ]
  },
  {
   "cell_type": "markdown",
   "id": "accurate-avatar",
   "metadata": {},
   "source": [
    "# 使用 GradientTape：第一个端到端示例"
   ]
  },
  {
   "cell_type": "markdown",
   "id": "violent-ebony",
   "metadata": {},
   "source": [
    "在 GradientTape 范围内调用模型使您能够检索层的可训练权重相对于损失值的梯度。 使用优化器实例，您可以使用这些梯度来更新这些变量（您可以使用 model.trainable_weights 检索这些变量）。\n",
    "\n",
    "让我们考虑一个简单的 MNIST 模型："
   ]
  },
  {
   "cell_type": "code",
   "execution_count": 13,
   "id": "built-panic",
   "metadata": {},
   "outputs": [
    {
     "name": "stdout",
     "output_type": "stream",
     "text": [
      "time: 41.3 ms (started: 2021-08-25 23:21:19 +08:00)\n"
     ]
    }
   ],
   "source": [
    "inputs = keras.Input(shape=(784,), name=\"digits\")\n",
    "x1 = layers.Dense(64, activation=\"relu\")(inputs)\n",
    "x2 = layers.Dense(64, activation=\"relu\")(x1)\n",
    "outputs = layers.Dense(10, name=\"predictions\")(x2)\n",
    "model = keras.Model(inputs=inputs, outputs=outputs)"
   ]
  },
  {
   "cell_type": "markdown",
   "id": "wooden-fields",
   "metadata": {},
   "source": [
    "让我们使用带有自定义训练循环的小批量梯度来训练它。\n",
    "\n",
    "首先，我们需要一个优化器、一个损失函数和一个数据集："
   ]
  },
  {
   "cell_type": "code",
   "execution_count": 14,
   "id": "arbitrary-mauritius",
   "metadata": {},
   "outputs": [
    {
     "name": "stdout",
     "output_type": "stream",
     "text": [
      "time: 366 ms (started: 2021-08-25 23:21:21 +08:00)\n"
     ]
    }
   ],
   "source": [
    "# Instantiate an optimizer.\n",
    "optimizer = keras.optimizers.SGD(learning_rate=1e-3)\n",
    "# Instantiate a loss function.\n",
    "loss_fn = keras.losses.SparseCategoricalCrossentropy(from_logits=True)\n",
    "\n",
    "# Prepare the training dataset.\n",
    "batch_size = 64\n",
    "(x_train, y_train), (x_test, y_test) = keras.datasets.mnist.load_data()\n",
    "x_train = np.reshape(x_train, (-1, 784))\n",
    "x_test = np.reshape(x_test, (-1, 784))\n",
    "train_dataset = tf.data.Dataset.from_tensor_slices((x_train, y_train))\n",
    "train_dataset = train_dataset.shuffle(buffer_size=1024).batch(batch_size)"
   ]
  },
  {
   "cell_type": "markdown",
   "id": "suited-ribbon",
   "metadata": {},
   "source": [
    "这是我们的训练循环：\n",
    "* 我们打开一个循环迭代\n",
    "* 对于每个时期，我们打开一个 for 循环，分批迭代数据集\n",
    "* 对于每个批次，我们打开一个 GradientTape() 范围\n",
    "* 在这个范围内，我们调用模型（前向传递）并计算损失\n",
    "* 在范围之外，我们检索模型权重关于损失的梯度\n",
    "* 最后，我们使用优化器根据梯度更新模型的权重"
   ]
  },
  {
   "cell_type": "code",
   "execution_count": 15,
   "id": "constant-plain",
   "metadata": {},
   "outputs": [
    {
     "name": "stdout",
     "output_type": "stream",
     "text": [
      "\n",
      "Start of epoch 0\n",
      "Training loss (for one batch) at step 0: 151.1236\n",
      "Seen so far: 64 samples\n",
      "Training loss (for one batch) at step 200: 1.8950\n",
      "Seen so far: 12864 samples\n",
      "Training loss (for one batch) at step 400: 0.6056\n",
      "Seen so far: 25664 samples\n",
      "Training loss (for one batch) at step 600: 0.5794\n",
      "Seen so far: 38464 samples\n",
      "Training loss (for one batch) at step 800: 1.2467\n",
      "Seen so far: 51264 samples\n",
      "\n",
      "Start of epoch 1\n",
      "Training loss (for one batch) at step 0: 0.8858\n",
      "Seen so far: 64 samples\n",
      "Training loss (for one batch) at step 200: 0.8471\n",
      "Seen so far: 12864 samples\n",
      "Training loss (for one batch) at step 400: 0.3890\n",
      "Seen so far: 25664 samples\n",
      "Training loss (for one batch) at step 600: 0.6943\n",
      "Seen so far: 38464 samples\n",
      "Training loss (for one batch) at step 800: 0.7778\n",
      "Seen so far: 51264 samples\n",
      "time: 20.3 s (started: 2021-08-25 23:21:23 +08:00)\n"
     ]
    }
   ],
   "source": [
    "epochs = 2\n",
    "for epoch in range(epochs):\n",
    "    print(\"\\nStart of epoch %d\" % (epoch,))\n",
    "\n",
    "    # Iterate over the batches of the dataset.\n",
    "    for step, (x_batch_train, y_batch_train) in enumerate(train_dataset):\n",
    "\n",
    "        # 打开一个 GradientTape 记录运行的操作\n",
    "        # 在前向传递期间，启用自动微分。\n",
    "        with tf.GradientTape() as tape:\n",
    "\n",
    "            # 运行层的前向传递。\n",
    "            # 层应用于其输入的操作将被记录在 GradientTape 上。\n",
    "            logits = model(x_batch_train, training=True)  # Logits for this minibatch\n",
    "\n",
    "            # 计算这个 minibatch 的损失值。\n",
    "            loss_value = loss_fn(y_batch_train, logits)\n",
    "\n",
    "        # 使用梯度磁带自动检索可训练变量相对于损失的梯度。\n",
    "        grads = tape.gradient(loss_value, model.trainable_weights)\n",
    "\n",
    "        # 通过更新变量的值来运行梯度下降的一步以最小化损失。\n",
    "        optimizer.apply_gradients(zip(grads, model.trainable_weights))\n",
    "\n",
    "        # Log every 200 batches.\n",
    "        if step % 200 == 0:\n",
    "            print(\n",
    "                \"Training loss (for one batch) at step %d: %.4f\"\n",
    "                % (step, float(loss_value))\n",
    "            )\n",
    "            print(\"Seen so far: %s samples\" % ((step + 1) * 64))"
   ]
  },
  {
   "cell_type": "markdown",
   "id": "confident-chess",
   "metadata": {},
   "source": [
    "# 指标的低级处理"
   ]
  },
  {
   "cell_type": "markdown",
   "id": "express-walker",
   "metadata": {},
   "source": [
    "让我们向这个基本循环添加指标监控。\n",
    "\n",
    "您可以在从头开始编写的此类训练循环中轻松重用内置指标（或您编写的自定义指标）。 这是流程：\n",
    "* 在循环开始时实例化指标\n",
    "* 每批后调用 metric.update_state()\n",
    "* 当需要显示度量的当前值时调用 metric.result()\n",
    "* 当您需要清除指标的状态时调用 metric.reset_states()（通常在一个时期结束时）"
   ]
  },
  {
   "cell_type": "markdown",
   "id": "armed-vermont",
   "metadata": {},
   "source": [
    "让我们使用这些知识来计算每个 epoch 结束时验证数据的 SparseCategoricalAccuracy："
   ]
  },
  {
   "cell_type": "code",
   "execution_count": 16,
   "id": "formed-shelf",
   "metadata": {},
   "outputs": [
    {
     "name": "stdout",
     "output_type": "stream",
     "text": [
      "time: 57.2 ms (started: 2021-08-25 23:21:43 +08:00)\n"
     ]
    }
   ],
   "source": [
    "# Get model\n",
    "inputs = keras.Input(shape=(784,), name=\"digits\")\n",
    "x = layers.Dense(64, activation=\"relu\", name=\"dense_1\")(inputs)\n",
    "x = layers.Dense(64, activation=\"relu\", name=\"dense_2\")(x)\n",
    "outputs = layers.Dense(10, name=\"predictions\")(x)\n",
    "model = keras.Model(inputs=inputs, outputs=outputs)\n",
    "\n",
    "# Instantiate an optimizer to train the model.\n",
    "optimizer = keras.optimizers.SGD(learning_rate=1e-3)\n",
    "# Instantiate a loss function.\n",
    "loss_fn = keras.losses.SparseCategoricalCrossentropy(from_logits=True)\n",
    "\n",
    "# Prepare the metrics.\n",
    "train_acc_metric = keras.metrics.SparseCategoricalAccuracy()\n",
    "val_acc_metric = keras.metrics.SparseCategoricalAccuracy()\n",
    "\n",
    "# Prepare the training dataset.\n",
    "batch_size = 64\n",
    "train_dataset = tf.data.Dataset.from_tensor_slices((x_train, y_train))\n",
    "train_dataset = train_dataset.shuffle(buffer_size=1024).batch(batch_size)\n",
    "\n",
    "# Prepare the validation dataset.\n",
    "# Reserve 10,000 samples for validation.\n",
    "x_val = x_train[-10000:]\n",
    "y_val = y_train[-10000:]\n",
    "x_train = x_train[:-10000]\n",
    "y_train = y_train[:-10000]\n",
    "val_dataset = tf.data.Dataset.from_tensor_slices((x_val, y_val))\n",
    "val_dataset = val_dataset.batch(64)"
   ]
  },
  {
   "cell_type": "markdown",
   "id": "welcome-spouse",
   "metadata": {},
   "source": [
    "这是我们的训练和评估循环："
   ]
  },
  {
   "cell_type": "code",
   "execution_count": 17,
   "id": "owned-graph",
   "metadata": {},
   "outputs": [
    {
     "name": "stdout",
     "output_type": "stream",
     "text": [
      "\n",
      "Start of epoch 0\n",
      "Training loss (for one batch) at step 0: 126.0084\n",
      "Seen so far: 64 samples\n",
      "Training loss (for one batch) at step 200: 1.2845\n",
      "Seen so far: 12864 samples\n",
      "Training loss (for one batch) at step 400: 1.9950\n",
      "Seen so far: 25664 samples\n",
      "Training loss (for one batch) at step 600: 1.0783\n",
      "Seen so far: 38464 samples\n",
      "Training loss (for one batch) at step 800: 0.5543\n",
      "Seen so far: 51264 samples\n",
      "Training acc over epoch: 0.7554\n",
      "Validation acc: 0.8630\n",
      "Time taken: 12.67s\n",
      "\n",
      "Start of epoch 1\n",
      "Training loss (for one batch) at step 0: 0.6843\n",
      "Seen so far: 64 samples\n",
      "Training loss (for one batch) at step 200: 0.6816\n",
      "Seen so far: 12864 samples\n",
      "Training loss (for one batch) at step 400: 0.7018\n",
      "Seen so far: 25664 samples\n",
      "Training loss (for one batch) at step 600: 0.8762\n",
      "Seen so far: 38464 samples\n",
      "Training loss (for one batch) at step 800: 0.7324\n",
      "Seen so far: 51264 samples\n",
      "Training acc over epoch: 0.8650\n",
      "Validation acc: 0.9021\n",
      "Time taken: 12.70s\n",
      "time: 25.4 s (started: 2021-08-25 23:21:43 +08:00)\n"
     ]
    }
   ],
   "source": [
    "import time\n",
    "\n",
    "epochs = 2\n",
    "for epoch in range(epochs):\n",
    "    print(\"\\nStart of epoch %d\" % (epoch,))\n",
    "    start_time = time.time()\n",
    "\n",
    "    # Iterate over the batches of the dataset.\n",
    "    for step, (x_batch_train, y_batch_train) in enumerate(train_dataset):\n",
    "        with tf.GradientTape() as tape:\n",
    "            logits = model(x_batch_train, training=True)\n",
    "            loss_value = loss_fn(y_batch_train, logits)\n",
    "        grads = tape.gradient(loss_value, model.trainable_weights)\n",
    "        optimizer.apply_gradients(zip(grads, model.trainable_weights))\n",
    "\n",
    "        # Update training metric.\n",
    "        train_acc_metric.update_state(y_batch_train, logits)\n",
    "\n",
    "        # Log every 200 batches.\n",
    "        if step % 200 == 0:\n",
    "            print(\n",
    "                \"Training loss (for one batch) at step %d: %.4f\"\n",
    "                % (step, float(loss_value))\n",
    "            )\n",
    "            print(\"Seen so far: %d samples\" % ((step + 1) * 64))\n",
    "\n",
    "    # Display metrics at the end of each epoch.\n",
    "    train_acc = train_acc_metric.result()\n",
    "    print(\"Training acc over epoch: %.4f\" % (float(train_acc),))\n",
    "\n",
    "    # Reset training metrics at the end of each epoch\n",
    "    train_acc_metric.reset_states()\n",
    "\n",
    "    # Run a validation loop at the end of each epoch.\n",
    "    for x_batch_val, y_batch_val in val_dataset:\n",
    "        val_logits = model(x_batch_val, training=False)\n",
    "        # Update val metrics\n",
    "        val_acc_metric.update_state(y_batch_val, val_logits)\n",
    "    val_acc = val_acc_metric.result()\n",
    "    val_acc_metric.reset_states()\n",
    "    print(\"Validation acc: %.4f\" % (float(val_acc),))\n",
    "    print(\"Time taken: %.2fs\" % (time.time() - start_time))"
   ]
  },
  {
   "cell_type": "markdown",
   "id": "frozen-current",
   "metadata": {},
   "source": [
    "# 使用 tf.function 加速您的训练步骤"
   ]
  },
  {
   "cell_type": "markdown",
   "id": "elder-municipality",
   "metadata": {},
   "source": [
    "TensorFlow 2 中的默认运行时是 Eager Execution。 因此，我们上面的训练循环急切地执行。\n",
    "\n",
    "这对调试非常有用，但图形编译具有明显的性能优势。 将您的计算描述为静态图使框架能够应用全局性能优化。 当框架被限制在一个接一个地贪婪地执行一个操作，而不知道接下来会发生什么时，这是不可能的。\n",
    "\n",
    "您可以将任何以张量作为输入的函数编译为静态图。 只需在其上添加一个 @tf.function 装饰器，如下所示："
   ]
  },
  {
   "cell_type": "code",
   "execution_count": 18,
   "id": "blond-sight",
   "metadata": {},
   "outputs": [
    {
     "name": "stdout",
     "output_type": "stream",
     "text": [
      "time: 1.61 ms (started: 2021-08-25 23:22:09 +08:00)\n"
     ]
    }
   ],
   "source": [
    "@tf.function\n",
    "def train_step(x, y):\n",
    "    with tf.GradientTape() as tape:\n",
    "        logits = model(x, training=True)\n",
    "        loss_value = loss_fn(y, logits)\n",
    "    grads = tape.gradient(loss_value, model.trainable_weights)\n",
    "    optimizer.apply_gradients(zip(grads, model.trainable_weights))\n",
    "    train_acc_metric.update_state(y, logits)\n",
    "    return loss_value"
   ]
  },
  {
   "cell_type": "markdown",
   "id": "later-pacific",
   "metadata": {},
   "source": [
    "让我们对评估步骤做同样的事情："
   ]
  },
  {
   "cell_type": "code",
   "execution_count": 19,
   "id": "level-endorsement",
   "metadata": {},
   "outputs": [
    {
     "name": "stdout",
     "output_type": "stream",
     "text": [
      "time: 955 µs (started: 2021-08-25 23:22:09 +08:00)\n"
     ]
    }
   ],
   "source": [
    "@tf.function\n",
    "def test_step(x, y):\n",
    "    val_logits = model(x, training=False)\n",
    "    val_acc_metric.update_state(y, val_logits)"
   ]
  },
  {
   "cell_type": "markdown",
   "id": "confirmed-appliance",
   "metadata": {},
   "source": [
    "现在，让我们用这个编译好的训练步骤重新运行我们的训练循环："
   ]
  },
  {
   "cell_type": "code",
   "execution_count": 20,
   "id": "therapeutic-roots",
   "metadata": {},
   "outputs": [
    {
     "name": "stdout",
     "output_type": "stream",
     "text": [
      "\n",
      "Start of epoch 0\n",
      "Training loss (for one batch) at step 0: 0.5882\n",
      "Seen so far: 64 samples\n",
      "Training loss (for one batch) at step 200: 0.4238\n",
      "Seen so far: 12864 samples\n",
      "Training loss (for one batch) at step 400: 0.6025\n",
      "Seen so far: 25664 samples\n",
      "Training loss (for one batch) at step 600: 0.5664\n",
      "Seen so far: 38464 samples\n",
      "Training loss (for one batch) at step 800: 0.3883\n",
      "Seen so far: 51264 samples\n",
      "Training acc over epoch: 0.8913\n",
      "Validation acc: 0.9193\n",
      "Time taken: 3.29s\n",
      "\n",
      "Start of epoch 1\n",
      "Training loss (for one batch) at step 0: 0.3781\n",
      "Seen so far: 64 samples\n",
      "Training loss (for one batch) at step 200: 0.5555\n",
      "Seen so far: 12864 samples\n",
      "Training loss (for one batch) at step 400: 0.3126\n",
      "Seen so far: 25664 samples\n",
      "Training loss (for one batch) at step 600: 0.2931\n",
      "Seen so far: 38464 samples\n",
      "Training loss (for one batch) at step 800: 0.1722\n",
      "Seen so far: 51264 samples\n",
      "Training acc over epoch: 0.9066\n",
      "Validation acc: 0.9240\n",
      "Time taken: 2.91s\n",
      "time: 6.2 s (started: 2021-08-25 23:22:09 +08:00)\n"
     ]
    }
   ],
   "source": [
    "import time\n",
    "\n",
    "epochs = 2\n",
    "for epoch in range(epochs):\n",
    "    print(\"\\nStart of epoch %d\" % (epoch,))\n",
    "    start_time = time.time()\n",
    "\n",
    "    # Iterate over the batches of the dataset.\n",
    "    for step, (x_batch_train, y_batch_train) in enumerate(train_dataset):\n",
    "        loss_value = train_step(x_batch_train, y_batch_train)\n",
    "\n",
    "        # Log every 200 batches.\n",
    "        if step % 200 == 0:\n",
    "            print(\n",
    "                \"Training loss (for one batch) at step %d: %.4f\"\n",
    "                % (step, float(loss_value))\n",
    "            )\n",
    "            print(\"Seen so far: %d samples\" % ((step + 1) * 64))\n",
    "\n",
    "    # Display metrics at the end of each epoch.\n",
    "    train_acc = train_acc_metric.result()\n",
    "    print(\"Training acc over epoch: %.4f\" % (float(train_acc),))\n",
    "\n",
    "    # Reset training metrics at the end of each epoch\n",
    "    train_acc_metric.reset_states()\n",
    "\n",
    "    # Run a validation loop at the end of each epoch.\n",
    "    for x_batch_val, y_batch_val in val_dataset:\n",
    "        test_step(x_batch_val, y_batch_val)\n",
    "\n",
    "    val_acc = val_acc_metric.result()\n",
    "    val_acc_metric.reset_states()\n",
    "    print(\"Validation acc: %.4f\" % (float(val_acc),))\n",
    "    print(\"Time taken: %.2fs\" % (time.time() - start_time))"
   ]
  },
  {
   "cell_type": "markdown",
   "id": "dutch-conviction",
   "metadata": {},
   "source": [
    "快得多，不是吗？"
   ]
  },
  {
   "cell_type": "markdown",
   "id": "fancy-frank",
   "metadata": {},
   "source": [
    "# 模型跟踪的损失的低级处理"
   ]
  },
  {
   "cell_type": "markdown",
   "id": "color-simpson",
   "metadata": {},
   "source": [
    "层和模型通过调用 self.add_loss(value) 的层递归地跟踪在前向传递过程中产生的任何损失。 生成的标量损失值列表可通过前向传递结束时的属性 model.losses 获得。\n",
    "\n",
    "如果您想使用这些损失分量，您应该将它们相加并将它们添加到训练步骤中的主要损失中。\n",
    "\n",
    "考虑这一层，它会产生一个活动正则化损失："
   ]
  },
  {
   "cell_type": "code",
   "execution_count": 21,
   "id": "still-clinic",
   "metadata": {},
   "outputs": [
    {
     "name": "stdout",
     "output_type": "stream",
     "text": [
      "time: 1.04 ms (started: 2021-08-25 23:24:09 +08:00)\n"
     ]
    }
   ],
   "source": [
    "class ActivityRegularizationLayer(layers.Layer):\n",
    "    def call(self, inputs):\n",
    "        self.add_loss(1e-2 * tf.reduce_sum(inputs))\n",
    "        return inputs"
   ]
  },
  {
   "cell_type": "markdown",
   "id": "interior-settlement",
   "metadata": {},
   "source": [
    "让我们构建一个非常简单的模型来使用它："
   ]
  },
  {
   "cell_type": "code",
   "execution_count": 22,
   "id": "forward-relaxation",
   "metadata": {},
   "outputs": [
    {
     "name": "stdout",
     "output_type": "stream",
     "text": [
      "time: 108 ms (started: 2021-08-25 23:24:34 +08:00)\n"
     ]
    }
   ],
   "source": [
    "inputs = keras.Input(shape=(784,), name=\"digits\")\n",
    "x = layers.Dense(64, activation=\"relu\")(inputs)\n",
    "# Insert activity regularization as a layer\n",
    "x = ActivityRegularizationLayer()(x)\n",
    "x = layers.Dense(64, activation=\"relu\")(x)\n",
    "outputs = layers.Dense(10, name=\"predictions\")(x)\n",
    "\n",
    "model = keras.Model(inputs=inputs, outputs=outputs)"
   ]
  },
  {
   "cell_type": "markdown",
   "id": "dangerous-penny",
   "metadata": {},
   "source": [
    "下面是我们的训练步骤现在应该是什么样子："
   ]
  },
  {
   "cell_type": "code",
   "execution_count": 23,
   "id": "weird-trademark",
   "metadata": {},
   "outputs": [
    {
     "name": "stdout",
     "output_type": "stream",
     "text": [
      "time: 8.6 ms (started: 2021-08-25 23:26:09 +08:00)\n"
     ]
    }
   ],
   "source": [
    "@tf.function\n",
    "def train_step(x, y):\n",
    "    with tf.GradientTape() as tape:\n",
    "        logits = model(x, training=True)\n",
    "        loss_value = loss_fn(y, logits)\n",
    "        # Add any extra losses created during the forward pass.\n",
    "        loss_value += sum(model.losses)\n",
    "    grads = tape.gradient(loss_value, model.trainable_weights)\n",
    "    optimizer.apply_gradients(zip(grads, model.trainable_weights))\n",
    "    train_acc_metric.update_state(y, logits)\n",
    "    return loss_value"
   ]
  },
  {
   "cell_type": "markdown",
   "id": "geological-session",
   "metadata": {},
   "source": [
    "# 总结"
   ]
  },
  {
   "cell_type": "markdown",
   "id": "attended-shadow",
   "metadata": {},
   "source": [
    "现在您已了解有关使用内置训练循环和从头开始编写自己的训练循环的所有知识。\n",
    "\n",
    "最后，这是一个简单的端到端示例，它将您在本指南中学到的所有内容联系在一起：在 MNIST 数字上训练的 DCGAN。"
   ]
  },
  {
   "cell_type": "markdown",
   "id": "cardiovascular-moderator",
   "metadata": {},
   "source": [
    "# 端到端示例：从头开始的 GAN 训练循环"
   ]
  },
  {
   "cell_type": "markdown",
   "id": "invisible-husband",
   "metadata": {},
   "source": [
    "您可能熟悉生成对抗网络 (GAN)。通过学习图像训练数据集（图像的“潜在空间”）的潜在分布，GAN 可以生成看起来几乎真实的新图像。\n",
    "\n",
    "GAN 由两部分组成：将潜在空间中的点映射到图像空间中的点的“生成器”模型，“鉴别器”模型，可以区分真实图像（来自训练数据集）和假图像的分类器图像（生成器网络的输出）。\n",
    "\n",
    "GAN 训练循​​环如下所示：\n",
    "\n",
    "1) 训练判别器。 - 在潜在空间中采样一批随机点。 - 通过“生成器”模型将点变成假图像。 - 获取一批真实图像并将它们与生成的图像结合起来。 - 训练“鉴别器”模型对生成的图像与真实图像进行分类。\n",
    "\n",
    "2) 训练生成器。 - 在潜在空间中采样随机点。 - 通过“生成器”网络将点变成假图像。 - 获取一批真实图像并将它们与生成的图像结合起来。 - 训练“生成器”模型“愚弄”鉴别器并将假图像分类为真实图像。\n",
    "\n",
    "有关 GAN 工作原理的更详细概述，请参阅使用 Python 进行深度学习。\n",
    "\n",
    "让我们实现这个训练循环。首先，创建用于对假数字与真数字进行分类的鉴别器："
   ]
  },
  {
   "cell_type": "code",
   "execution_count": 24,
   "id": "enormous-gateway",
   "metadata": {},
   "outputs": [
    {
     "name": "stdout",
     "output_type": "stream",
     "text": [
      "WARNING:tensorflow:Please add `keras.layers.InputLayer` instead of `keras.Input` to Sequential model. `keras.Input` is intended to be used by Functional model.\n",
      "Model: \"discriminator\"\n",
      "_________________________________________________________________\n",
      "Layer (type)                 Output Shape              Param #   \n",
      "=================================================================\n",
      "conv2d (Conv2D)              (None, 14, 14, 64)        640       \n",
      "_________________________________________________________________\n",
      "leaky_re_lu (LeakyReLU)      (None, 14, 14, 64)        0         \n",
      "_________________________________________________________________\n",
      "conv2d_1 (Conv2D)            (None, 7, 7, 128)         73856     \n",
      "_________________________________________________________________\n",
      "leaky_re_lu_1 (LeakyReLU)    (None, 7, 7, 128)         0         \n",
      "_________________________________________________________________\n",
      "global_max_pooling2d (Global (None, 128)               0         \n",
      "_________________________________________________________________\n",
      "dense_6 (Dense)              (None, 1)                 129       \n",
      "=================================================================\n",
      "Total params: 74,625\n",
      "Trainable params: 74,625\n",
      "Non-trainable params: 0\n",
      "_________________________________________________________________\n",
      "time: 74.1 ms (started: 2021-08-25 23:32:56 +08:00)\n"
     ]
    }
   ],
   "source": [
    "discriminator = keras.Sequential(\n",
    "    [\n",
    "        keras.Input(shape=(28, 28, 1)),\n",
    "        layers.Conv2D(64, (3, 3), strides=(2, 2), padding=\"same\"),\n",
    "        layers.LeakyReLU(alpha=0.2),\n",
    "        layers.Conv2D(128, (3, 3), strides=(2, 2), padding=\"same\"),\n",
    "        layers.LeakyReLU(alpha=0.2),\n",
    "        layers.GlobalMaxPooling2D(),\n",
    "        layers.Dense(1),\n",
    "    ],\n",
    "    name=\"discriminator\",\n",
    ")\n",
    "discriminator.summary()"
   ]
  },
  {
   "cell_type": "code",
   "execution_count": 25,
   "id": "entitled-disney",
   "metadata": {},
   "outputs": [
    {
     "data": {
      "image/png": "[encoded data removed]",
      "text/plain": [
       "<IPython.core.display.Image object>"
      ]
     },
     "execution_count": 25,
     "metadata": {},
     "output_type": "execute_result"
    },
    {
     "name": "stdout",
     "output_type": "stream",
     "text": [
      "time: 395 ms (started: 2021-08-25 23:33:20 +08:00)\n"
     ]
    }
   ],
   "source": [
    "keras.utils.plot_model(discriminator, show_shapes=True)"
   ]
  },
  {
   "cell_type": "markdown",
   "id": "attempted-accuracy",
   "metadata": {},
   "source": [
    "然后让我们创建一个生成器网络，将潜在向量转换为形状为 (28, 28, 1)（代表 MNIST 数字）的输出："
   ]
  },
  {
   "cell_type": "code",
   "execution_count": 27,
   "id": "french-sensitivity",
   "metadata": {},
   "outputs": [
    {
     "name": "stdout",
     "output_type": "stream",
     "text": [
      "Model: \"generator\"\n",
      "_________________________________________________________________\n",
      "Layer (type)                 Output Shape              Param #   \n",
      "=================================================================\n",
      "dense_8 (Dense)              (None, 6272)              809088    \n",
      "_________________________________________________________________\n",
      "leaky_re_lu_5 (LeakyReLU)    (None, 6272)              0         \n",
      "_________________________________________________________________\n",
      "reshape_1 (Reshape)          (None, 7, 7, 128)         0         \n",
      "_________________________________________________________________\n",
      "conv2d_transpose_2 (Conv2DTr (None, 14, 14, 128)       262272    \n",
      "_________________________________________________________________\n",
      "leaky_re_lu_6 (LeakyReLU)    (None, 14, 14, 128)       0         \n",
      "_________________________________________________________________\n",
      "conv2d_transpose_3 (Conv2DTr (None, 28, 28, 128)       262272    \n",
      "_________________________________________________________________\n",
      "leaky_re_lu_7 (LeakyReLU)    (None, 28, 28, 128)       0         \n",
      "_________________________________________________________________\n",
      "conv2d_3 (Conv2D)            (None, 28, 28, 1)         6273      \n",
      "=================================================================\n",
      "Total params: 1,339,905\n",
      "Trainable params: 1,339,905\n",
      "Non-trainable params: 0\n",
      "_________________________________________________________________\n",
      "time: 91.5 ms (started: 2021-08-25 23:36:08 +08:00)\n"
     ]
    }
   ],
   "source": [
    "latent_dim = 128\n",
    "\n",
    "generator = keras.Sequential(\n",
    "    [\n",
    "        layers.InputLayer(input_shape=(latent_dim,)),\n",
    "        # We want to generate 128 coefficients to reshape into a 7x7x128 map\n",
    "        layers.Dense(7 * 7 * 128),\n",
    "        layers.LeakyReLU(alpha=0.2),\n",
    "        layers.Reshape((7, 7, 128)),\n",
    "        layers.Conv2DTranspose(128, (4, 4), strides=(2, 2), padding=\"same\"),\n",
    "        layers.LeakyReLU(alpha=0.2),\n",
    "        layers.Conv2DTranspose(128, (4, 4), strides=(2, 2), padding=\"same\"),\n",
    "        layers.LeakyReLU(alpha=0.2),\n",
    "        layers.Conv2D(1, (7, 7), padding=\"same\", activation=\"sigmoid\"),\n",
    "    ],\n",
    "    name=\"generator\",\n",
    ")\n",
    "\n",
    "generator.summary()"
   ]
  },
  {
   "cell_type": "code",
   "execution_count": 28,
   "id": "herbal-system",
   "metadata": {},
   "outputs": [
    {
     "data": {
      "image/png": "[encoded data removed]",
      "text/plain": [
       "<IPython.core.display.Image object>"
      ]
     },
     "execution_count": 28,
     "metadata": {},
     "output_type": "execute_result"
    },
    {
     "name": "stdout",
     "output_type": "stream",
     "text": [
      "time: 410 ms (started: 2021-08-25 23:36:30 +08:00)\n"
     ]
    }
   ],
   "source": [
    "keras.utils.plot_model(generator, show_shapes=True)"
   ]
  },
  {
   "cell_type": "markdown",
   "id": "whole-luxury",
   "metadata": {},
   "source": [
    "这是关键点：训练循环。 如您所见，它非常简单。 训练步骤函数只需要 17 行。"
   ]
  },
  {
   "cell_type": "code",
   "execution_count": 29,
   "id": "imperial-organ",
   "metadata": {},
   "outputs": [
    {
     "name": "stdout",
     "output_type": "stream",
     "text": [
      "time: 3.94 ms (started: 2021-08-25 23:48:50 +08:00)\n"
     ]
    }
   ],
   "source": [
    "# 为鉴别器实例化一个优化器，为生成器实例化另一个优化器。\n",
    "d_optimizer = keras.optimizers.Adam(learning_rate=0.0003)\n",
    "g_optimizer = keras.optimizers.Adam(learning_rate=0.0004)\n",
    "\n",
    "# 实例化一个损失函数。\n",
    "loss_fn = keras.losses.BinaryCrossentropy(from_logits=True)\n",
    "\n",
    "\n",
    "@tf.function\n",
    "def train_step(real_images):\n",
    "    # 在潜在空间中采样随机点\n",
    "    random_latent_vectors = tf.random.normal(shape=(batch_size, latent_dim))\n",
    "    # 将它们解码为假图像\n",
    "    generated_images = generator(random_latent_vectors)\n",
    "    # 将它们与真实图像结合\n",
    "    combined_images = tf.concat([generated_images, real_images], axis=0)\n",
    "\n",
    "    # 组装区分真假图像的标签\n",
    "    labels = tf.concat(\n",
    "        [tf.ones((batch_size, 1)), tf.zeros((real_images.shape[0], 1))], axis=0\n",
    "    )\n",
    "    # 向标签添加随机噪声 - 重要技巧！\n",
    "    labels += 0.05 * tf.random.uniform(labels.shape)\n",
    "\n",
    "    # 训练判别器\n",
    "    with tf.GradientTape() as tape:\n",
    "        predictions = discriminator(combined_images)\n",
    "        d_loss = loss_fn(labels, predictions)\n",
    "    grads = tape.gradient(d_loss, discriminator.trainable_weights)\n",
    "    d_optimizer.apply_gradients(zip(grads, discriminator.trainable_weights))\n",
    "\n",
    "    # 在潜在空间中采样随机点\n",
    "    random_latent_vectors = tf.random.normal(shape=(batch_size, latent_dim))\n",
    "    # 组装标有“所有真实图像”的标签\n",
    "    misleading_labels = tf.zeros((batch_size, 1))\n",
    "    \n",
    "    \n",
    "    # 训练生成器（注意我们不应该*更新鉴别器的权重）！\n",
    "    with tf.GradientTape() as tape:\n",
    "        predictions = discriminator(generator(random_latent_vectors))\n",
    "        g_loss = loss_fn(misleading_labels, predictions)\n",
    "    grads = tape.gradient(g_loss, generator.trainable_weights)\n",
    "    g_optimizer.apply_gradients(zip(grads, generator.trainable_weights))\n",
    "    return d_loss, g_loss, generated_images"
   ]
  },
  {
   "cell_type": "markdown",
   "id": "false-boating",
   "metadata": {},
   "source": [
    "让我们通过对批量图像重复调用 train_step 来训练我们的 GAN。\n",
    "\n",
    "由于我们的判别器和生成器是 convnets，你会想要在 GPU 上运行这段代码。"
   ]
  },
  {
   "cell_type": "code",
   "execution_count": null,
   "id": "romantic-color",
   "metadata": {},
   "outputs": [
    {
     "name": "stdout",
     "output_type": "stream",
     "text": [
      "\n",
      "Start epoch 0\n",
      "discriminator loss at step 0: 0.41\n",
      "adversarial loss at step 0: 1.44\n",
      "discriminator loss at step 200: 0.43\n",
      "adversarial loss at step 200: 1.69\n",
      "discriminator loss at step 400: 0.22\n",
      "adversarial loss at step 400: 2.48\n",
      "discriminator loss at step 600: 0.28\n",
      "adversarial loss at step 600: 2.28\n",
      "discriminator loss at step 800: 0.16\n",
      "adversarial loss at step 800: 3.04\n",
      "discriminator loss at step 1000: 0.10\n",
      "adversarial loss at step 1000: 3.23\n",
      "\n",
      "Start epoch 1\n",
      "discriminator loss at step 0: 0.10\n",
      "adversarial loss at step 0: 3.78\n",
      "discriminator loss at step 200: 0.10\n",
      "adversarial loss at step 200: 3.40\n",
      "discriminator loss at step 400: 0.06\n",
      "adversarial loss at step 400: 4.32\n",
      "discriminator loss at step 600: 0.06\n",
      "adversarial loss at step 600: 3.41\n",
      "discriminator loss at step 800: 0.56\n",
      "adversarial loss at step 800: 2.00\n",
      "discriminator loss at step 1000: 0.67\n",
      "adversarial loss at step 1000: 0.76\n",
      "\n",
      "Start epoch 2\n",
      "discriminator loss at step 0: 0.58\n",
      "adversarial loss at step 0: 1.23\n",
      "discriminator loss at step 200: 0.59\n",
      "adversarial loss at step 200: 0.88\n",
      "discriminator loss at step 400: 0.72\n",
      "adversarial loss at step 400: 1.02\n",
      "discriminator loss at step 600: 0.62\n",
      "adversarial loss at step 600: 0.94\n",
      "discriminator loss at step 800: 0.63\n",
      "adversarial loss at step 800: 0.99\n",
      "discriminator loss at step 1000: 0.63\n",
      "adversarial loss at step 1000: 1.09\n",
      "\n",
      "Start epoch 3\n",
      "discriminator loss at step 0: 0.75\n",
      "adversarial loss at step 0: 0.96\n",
      "discriminator loss at step 200: 0.58\n",
      "adversarial loss at step 200: 0.88\n",
      "discriminator loss at step 400: 0.58\n",
      "adversarial loss at step 400: 0.95\n",
      "discriminator loss at step 600: 0.56\n",
      "adversarial loss at step 600: 1.20\n",
      "discriminator loss at step 800: 0.83\n",
      "adversarial loss at step 800: 0.73\n",
      "discriminator loss at step 1000: 0.66\n",
      "adversarial loss at step 1000: 0.83\n",
      "\n",
      "Start epoch 4\n",
      "discriminator loss at step 0: 0.57\n",
      "adversarial loss at step 0: 1.10\n",
      "discriminator loss at step 200: 0.67\n",
      "adversarial loss at step 200: 1.03\n",
      "discriminator loss at step 400: 0.66\n",
      "adversarial loss at step 400: 0.87\n",
      "discriminator loss at step 600: 0.55\n",
      "adversarial loss at step 600: 1.06\n",
      "discriminator loss at step 800: 0.55\n",
      "adversarial loss at step 800: 1.05\n",
      "discriminator loss at step 1000: 0.69\n",
      "adversarial loss at step 1000: 0.91\n",
      "\n",
      "Start epoch 5\n",
      "discriminator loss at step 0: 0.64\n",
      "adversarial loss at step 0: 1.03\n",
      "discriminator loss at step 200: 0.58\n",
      "adversarial loss at step 200: 1.05\n",
      "discriminator loss at step 400: 0.68\n",
      "adversarial loss at step 400: 0.96\n",
      "discriminator loss at step 600: 0.58\n",
      "adversarial loss at step 600: 1.07\n",
      "discriminator loss at step 800: 0.59\n",
      "adversarial loss at step 800: 1.03\n",
      "discriminator loss at step 1000: 0.73\n",
      "adversarial loss at step 1000: 0.96\n",
      "\n",
      "Start epoch 6\n",
      "discriminator loss at step 0: 0.69\n",
      "adversarial loss at step 0: 1.07\n",
      "discriminator loss at step 200: 0.63\n",
      "adversarial loss at step 200: 0.84\n",
      "discriminator loss at step 400: 0.64\n",
      "adversarial loss at step 400: 1.04\n",
      "discriminator loss at step 600: 0.57\n",
      "adversarial loss at step 600: 0.97\n",
      "discriminator loss at step 800: 0.51\n",
      "adversarial loss at step 800: 1.10\n",
      "discriminator loss at step 1000: 0.56\n",
      "adversarial loss at step 1000: 1.06\n",
      "\n",
      "Start epoch 7\n",
      "discriminator loss at step 0: 0.54\n",
      "adversarial loss at step 0: 1.21\n",
      "discriminator loss at step 200: 0.59\n",
      "adversarial loss at step 200: 1.11\n",
      "discriminator loss at step 400: 0.52\n",
      "adversarial loss at step 400: 1.11\n",
      "discriminator loss at step 600: 0.67\n",
      "adversarial loss at step 600: 0.91\n",
      "discriminator loss at step 800: 0.63\n",
      "adversarial loss at step 800: 0.89\n",
      "discriminator loss at step 1000: 0.55\n",
      "adversarial loss at step 1000: 1.02\n",
      "\n",
      "Start epoch 8\n",
      "discriminator loss at step 0: 0.66\n",
      "adversarial loss at step 0: 1.16\n",
      "discriminator loss at step 200: 0.68\n",
      "adversarial loss at step 200: 0.96\n",
      "discriminator loss at step 400: 0.62\n",
      "adversarial loss at step 400: 1.05\n",
      "discriminator loss at step 600: 0.60\n",
      "adversarial loss at step 600: 0.96\n",
      "discriminator loss at step 800: 0.56\n",
      "adversarial loss at step 800: 0.86\n",
      "discriminator loss at step 1000: 0.60\n",
      "adversarial loss at step 1000: 0.89\n",
      "\n",
      "Start epoch 9\n",
      "discriminator loss at step 0: 0.66\n",
      "adversarial loss at step 0: 1.13\n",
      "discriminator loss at step 200: 0.58\n",
      "adversarial loss at step 200: 0.93\n",
      "discriminator loss at step 400: 0.58\n",
      "adversarial loss at step 400: 1.12\n",
      "discriminator loss at step 600: 0.58\n",
      "adversarial loss at step 600: 0.88\n",
      "discriminator loss at step 800: 0.48\n",
      "adversarial loss at step 800: 1.16\n",
      "discriminator loss at step 1000: 0.63\n",
      "adversarial loss at step 1000: 0.89\n",
      "\n",
      "Start epoch 10\n",
      "discriminator loss at step 0: 0.61\n",
      "adversarial loss at step 0: 1.11\n",
      "discriminator loss at step 200: 0.54\n",
      "adversarial loss at step 200: 0.97\n",
      "discriminator loss at step 400: 0.67\n",
      "adversarial loss at step 400: 1.03\n",
      "discriminator loss at step 600: 0.60\n",
      "adversarial loss at step 600: 0.97\n",
      "discriminator loss at step 800: 0.62\n",
      "adversarial loss at step 800: 0.89\n",
      "discriminator loss at step 1000: 0.60\n",
      "adversarial loss at step 1000: 0.83\n",
      "\n",
      "Start epoch 11\n",
      "discriminator loss at step 0: 0.71\n",
      "adversarial loss at step 0: 1.03\n",
      "discriminator loss at step 200: 0.60\n",
      "adversarial loss at step 200: 1.09\n",
      "discriminator loss at step 400: 0.59\n",
      "adversarial loss at step 400: 1.04\n",
      "discriminator loss at step 600: 0.53\n",
      "adversarial loss at step 600: 1.08\n",
      "discriminator loss at step 800: 0.59\n",
      "adversarial loss at step 800: 0.90\n",
      "discriminator loss at step 1000: 0.50\n",
      "adversarial loss at step 1000: 1.10\n",
      "\n",
      "Start epoch 12\n",
      "discriminator loss at step 0: 0.63\n",
      "adversarial loss at step 0: 1.08\n",
      "discriminator loss at step 200: 0.62\n",
      "adversarial loss at step 200: 1.01\n",
      "discriminator loss at step 400: 0.65\n",
      "adversarial loss at step 400: 0.96\n",
      "discriminator loss at step 600: 0.60\n",
      "adversarial loss at step 600: 0.97\n",
      "discriminator loss at step 800: 0.60\n",
      "adversarial loss at step 800: 0.99\n",
      "discriminator loss at step 1000: 0.59\n",
      "adversarial loss at step 1000: 0.99\n",
      "\n",
      "Start epoch 13\n",
      "discriminator loss at step 0: 0.62\n",
      "adversarial loss at step 0: 1.06\n",
      "discriminator loss at step 200: 0.62\n",
      "adversarial loss at step 200: 0.95\n",
      "discriminator loss at step 400: 0.63\n",
      "adversarial loss at step 400: 0.86\n",
      "discriminator loss at step 600: 0.57\n",
      "adversarial loss at step 600: 0.95\n",
      "discriminator loss at step 800: 0.68\n",
      "adversarial loss at step 800: 0.92\n",
      "discriminator loss at step 1000: 0.60\n",
      "adversarial loss at step 1000: 0.88\n",
      "\n",
      "Start epoch 14\n",
      "discriminator loss at step 0: 0.60\n",
      "adversarial loss at step 0: 1.11\n",
      "discriminator loss at step 200: 0.67\n",
      "adversarial loss at step 200: 1.01\n",
      "discriminator loss at step 400: 0.55\n",
      "adversarial loss at step 400: 1.04\n",
      "discriminator loss at step 600: 0.62\n",
      "adversarial loss at step 600: 0.97\n",
      "discriminator loss at step 800: 0.59\n",
      "adversarial loss at step 800: 1.09\n",
      "discriminator loss at step 1000: 0.59\n",
      "adversarial loss at step 1000: 1.07\n",
      "\n",
      "Start epoch 15\n",
      "discriminator loss at step 0: 0.56\n",
      "adversarial loss at step 0: 1.08\n",
      "discriminator loss at step 200: 0.59\n",
      "adversarial loss at step 200: 0.83\n",
      "discriminator loss at step 400: 0.58\n",
      "adversarial loss at step 400: 0.92\n",
      "discriminator loss at step 600: 0.57\n",
      "adversarial loss at step 600: 1.13\n",
      "discriminator loss at step 800: 0.59\n",
      "adversarial loss at step 800: 0.92\n",
      "discriminator loss at step 1000: 0.59\n",
      "adversarial loss at step 1000: 1.02\n",
      "\n",
      "Start epoch 16\n",
      "discriminator loss at step 0: 0.58\n",
      "adversarial loss at step 0: 1.19\n",
      "discriminator loss at step 200: 0.61\n",
      "adversarial loss at step 200: 0.77\n"
     ]
    }
   ],
   "source": [
    "import os\n",
    "\n",
    "# 准备数据集。 我们同时使用训练和测试 MNIST 数字。\n",
    "batch_size = 64\n",
    "(x_train, _), (x_test, _) = keras.datasets.mnist.load_data()\n",
    "all_digits = np.concatenate([x_train, x_test])\n",
    "all_digits = all_digits.astype(\"float32\") / 255.0\n",
    "all_digits = np.reshape(all_digits, (-1, 28, 28, 1))\n",
    "dataset = tf.data.Dataset.from_tensor_slices(all_digits)\n",
    "dataset = dataset.shuffle(buffer_size=1024).batch(batch_size)\n",
    "\n",
    "epochs = 20  # 在实践中，你至少需要 20 个 epoch 才能生成好的数字。\n",
    "save_dir = \"./\"\n",
    "\n",
    "for epoch in range(epochs):\n",
    "    print(\"\\nStart epoch\", epoch)\n",
    "\n",
    "    for step, real_images in enumerate(dataset):\n",
    "        # 在一批真实图像上训练鉴别器和生成器。\n",
    "        d_loss, g_loss, generated_images = train_step(real_images)\n",
    "\n",
    "        # 记录。\n",
    "        if step % 200 == 0:\n",
    "            # 打印指标\n",
    "            print(\"discriminator loss at step %d: %.2f\" % (step, d_loss))\n",
    "            print(\"adversarial loss at step %d: %.2f\" % (step, g_loss))\n",
    "\n",
    "            # 保存一张生成的图片\n",
    "            img = tf.keras.preprocessing.image.array_to_img(\n",
    "                generated_images[0] * 255.0, scale=False\n",
    "            )\n",
    "            img.save(os.path.join(save_dir, \"generated_img\" + str(step) + \".png\"))\n",
    "\n",
    "            \n",
    "        # 为了限制执行时间，我们在 10 步后停止。\n",
    "        # 删除下面的行以实际训练模型！\n",
    "#         if step > 10:\n",
    "#             break"
   ]
  },
  {
   "cell_type": "markdown",
   "id": "indian-binary",
   "metadata": {},
   "source": [
    "就是这样！ 在 Colab GPU 上训练约 30 秒后，您将获得漂亮的假 MNIST 数字。"
   ]
  },
  {
   "cell_type": "code",
   "execution_count": null,
   "id": "alien-hands",
   "metadata": {},
   "outputs": [],
   "source": []
  }
 ],
 "metadata": {
  "kernelspec": {
   "display_name": "Python [conda env:tensorflow]",
   "language": "python",
   "name": "conda-env-tensorflow-py"
  },
  "language_info": {
   "codemirror_mode": {
    "name": "ipython",
    "version": 3
   },
   "file_extension": ".py",
   "mimetype": "text/x-python",
   "name": "python",
   "nbconvert_exporter": "python",
   "pygments_lexer": "ipython3",
   "version": "3.8.10"
  }
 },
 "nbformat": 4,
 "nbformat_minor": 5
}
