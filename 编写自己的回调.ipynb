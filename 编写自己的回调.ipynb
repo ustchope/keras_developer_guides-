{
 "cells": [
  {
   "cell_type": "markdown",
   "id": "original-simpson",
   "metadata": {},
   "source": [
    "# 介绍"
   ]
  },
  {
   "cell_type": "markdown",
   "id": "social-aggregate",
   "metadata": {},
   "source": [
    "回调是在训练、评估或推理期间自定义 Keras 模型行为的强大工具。 示例包括使用 TensorBoard 可视化训练进度和结果的 tf.keras.callbacks.TensorBoard，或在训练期间定期保存模型的 tf.keras.callbacks.ModelCheckpoint。\n",
    "\n",
    "在本指南中，您将了解 Keras 回调是什么、它可以做什么以及如何构建自己的回调。 我们提供了一些简单的回调应用程序演示来帮助您入门。"
   ]
  },
  {
   "cell_type": "code",
   "execution_count": null,
   "id": "focal-praise",
   "metadata": {},
   "outputs": [],
   "source": []
  }
 ],
 "metadata": {
  "kernelspec": {
   "display_name": "Python [conda env:tensorflow]",
   "language": "python",
   "name": "conda-env-tensorflow-py"
  },
  "language_info": {
   "codemirror_mode": {
    "name": "ipython",
    "version": 3
   },
   "file_extension": ".py",
   "mimetype": "text/x-python",
   "name": "python",
   "nbconvert_exporter": "python",
   "pygments_lexer": "ipython3",
   "version": "3.8.10"
  }
 },
 "nbformat": 4,
 "nbformat_minor": 5
}
