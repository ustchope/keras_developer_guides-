{
 "cells": [
  {
   "cell_type": "markdown",
   "id": "going-north",
   "metadata": {},
   "source": [
    "# 介绍"
   ]
  },
  {
   "cell_type": "markdown",
   "id": "israeli-stanley",
   "metadata": {},
   "source": [
    "Keras 模型由多个组件组成：\n",
    "* 架构或配置，指定模型包含哪些层以及它们如何连接。\n",
    "* 一组权重值（“模型状态”）。\n",
    "* 优化器（通过编译模型定义）。\n",
    "* 一组损失和指标（通过编译模型或调用 add_loss() 或 add_metric() 定义）。"
   ]
  },
  {
   "cell_type": "markdown",
   "id": "detected-yukon",
   "metadata": {},
   "source": [
    "Keras API 可以一次将所有这些部分保存到磁盘，或者仅选择性地保存其中的一些：\n",
    "* 将所有内容以 TensorFlow SavedModel 格式（或较旧的 Keras H5 格式）保存到单个存档中。 这是标准做法。\n",
    "* 仅保存架构/配置，通常为 JSON 文件。\n",
    "* 仅保存权重值。 这通常在训练模型时使用。\n",
    "\n",
    "让我们来看看这些选项中的每一个。 你什么时候会使用其中一种，它们是如何工作的？"
   ]
  },
  {
   "cell_type": "markdown",
   "id": "responsible-prison",
   "metadata": {},
   "source": [
    "# 如何保存和加载模型"
   ]
  },
  {
   "cell_type": "markdown",
   "id": "martial-voltage",
   "metadata": {},
   "source": [
    "如果您只有 10 秒钟的时间阅读本指南，那么您需要了解以下内容。"
   ]
  },
  {
   "cell_type": "markdown",
   "id": "composed-emphasis",
   "metadata": {},
   "source": [
    "**保存一个keras模型：**"
   ]
  },
  {
   "cell_type": "code",
   "execution_count": null,
   "id": "aboriginal-highlight",
   "metadata": {},
   "outputs": [],
   "source": [
    "model = ...  # Get model (Sequential, Functional Model, or Model subclass)\n",
    "model.save('path/to/location')"
   ]
  },
  {
   "cell_type": "markdown",
   "id": "known-bahamas",
   "metadata": {},
   "source": [
    "**重新加载模型：**"
   ]
  },
  {
   "cell_type": "code",
   "execution_count": null,
   "id": "australian-freeware",
   "metadata": {},
   "outputs": [],
   "source": [
    "from tensorflow import keras\n",
    "model = keras.models.load_model('path/to/location')"
   ]
  },
  {
   "cell_type": "markdown",
   "id": "afraid-lunch",
   "metadata": {},
   "source": [
    "现在，让我们来看看细节。"
   ]
  },
  {
   "cell_type": "markdown",
   "id": "rocky-insider",
   "metadata": {},
   "source": [
    "# 设置"
   ]
  },
  {
   "cell_type": "code",
   "execution_count": null,
   "id": "psychological-mailing",
   "metadata": {},
   "outputs": [],
   "source": []
  }
 ],
 "metadata": {
  "kernelspec": {
   "display_name": "Python [conda env:tensorflow]",
   "language": "python",
   "name": "conda-env-tensorflow-py"
  },
  "language_info": {
   "codemirror_mode": {
    "name": "ipython",
    "version": 3
   },
   "file_extension": ".py",
   "mimetype": "text/x-python",
   "name": "python",
   "nbconvert_exporter": "python",
   "pygments_lexer": "ipython3",
   "version": "3.8.10"
  }
 },
 "nbformat": 4,
 "nbformat_minor": 5
}
