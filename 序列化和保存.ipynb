{
 "cells": [
  {
   "cell_type": "code",
   "execution_count": 3,
   "id": "optional-specification",
   "metadata": {},
   "outputs": [
    {
     "name": "stdout",
     "output_type": "stream",
     "text": [
      "time: 402 ms (started: 2021-08-26 00:09:32 +08:00)\n"
     ]
    }
   ],
   "source": [
    "# 自动计算cell的计算时间\n",
    "%load_ext autotime\n",
    "\n",
    "%matplotlib inline\n",
    "%config InlineBackend.figure_format='svg' #矢量图设置，让绘图更清晰"
   ]
  },
  {
   "cell_type": "code",
   "execution_count": null,
   "id": "outside-pressing",
   "metadata": {},
   "outputs": [],
   "source": [
    "%%bash\n",
    "\n",
    "# 增加更新\n",
    "git add *.ipynb *.md\n",
    "\n",
    "git remote -v\n",
    "\n",
    "git commit -m '更新 #2  Aug 26, 2021'\n",
    "\n",
    "#git push origin master\n",
    "git push"
   ]
  },
  {
   "cell_type": "code",
   "execution_count": 5,
   "id": "postal-translator",
   "metadata": {},
   "outputs": [
    {
     "name": "stdout",
     "output_type": "stream",
     "text": [
      "time: 154 ms (started: 2021-08-26 00:10:15 +08:00)\n"
     ]
    }
   ],
   "source": [
    "#设置使用的gpu\n",
    "import tensorflow as tf\n",
    "from tensorflow import keras\n",
    "\n",
    "gpus = tf.config.list_physical_devices(\"GPU\")\n",
    "\n",
    "if gpus:\n",
    "   \n",
    "    gpu0 = gpus[1] #如果有多个GPU，仅使用第0个GPU\n",
    "    tf.config.experimental.set_memory_growth(gpu0, True) #设置GPU显存用量按需使用\n",
    "    # 或者也可以设置GPU显存为固定使用量(例如：4G)\n",
    "    #tf.config.experimental.set_virtual_device_configuration(gpu0,\n",
    "    #    [tf.config.experimental.VirtualDeviceConfiguration(memory_limit=4096)]) \n",
    "    tf.config.set_visible_devices([gpu0],\"GPU\")"
   ]
  },
  {
   "cell_type": "markdown",
   "id": "formed-highway",
   "metadata": {},
   "source": [
    "# 介绍"
   ]
  },
  {
   "cell_type": "markdown",
   "id": "roman-pantyhose",
   "metadata": {},
   "source": [
    "Keras 模型由多个组件组成：\n",
    "* 架构或配置，指定模型包含哪些层以及它们如何连接。\n",
    "* 一组权重值（“模型状态”）。\n",
    "* 优化器（通过编译模型定义）。\n",
    "* 一组损失和指标（通过编译模型或调用 add_loss() 或 add_metric() 定义）。"
   ]
  },
  {
   "cell_type": "markdown",
   "id": "statutory-senator",
   "metadata": {},
   "source": [
    "Keras API 可以一次将所有这些部分保存到磁盘，或者仅选择性地保存其中的一些：\n",
    "* 将所有内容以 TensorFlow SavedModel 格式（或较旧的 Keras H5 格式）保存到单个存档中。 这是标准做法。\n",
    "* 仅保存架构/配置，通常为 JSON 文件。\n",
    "* 仅保存权重值。 这通常在训练模型时使用。\n",
    "\n",
    "让我们来看看这些选项中的每一个。 你什么时候会使用其中一种，它们是如何工作的？"
   ]
  },
  {
   "cell_type": "markdown",
   "id": "desirable-stocks",
   "metadata": {},
   "source": [
    "# 如何保存和加载模型"
   ]
  },
  {
   "cell_type": "markdown",
   "id": "practical-purchase",
   "metadata": {},
   "source": [
    "如果您只有 10 秒钟的时间阅读本指南，那么您需要了解以下内容。"
   ]
  },
  {
   "cell_type": "markdown",
   "id": "german-discretion",
   "metadata": {},
   "source": [
    "**保存一个keras模型：**"
   ]
  },
  {
   "cell_type": "code",
   "execution_count": null,
   "id": "consecutive-mentor",
   "metadata": {},
   "outputs": [],
   "source": [
    "model = ...  # Get model (Sequential, Functional Model, or Model subclass)\n",
    "model.save('path/to/location')"
   ]
  },
  {
   "cell_type": "markdown",
   "id": "iraqi-salad",
   "metadata": {},
   "source": [
    "**重新加载模型：**"
   ]
  },
  {
   "cell_type": "code",
   "execution_count": null,
   "id": "thick-enhancement",
   "metadata": {},
   "outputs": [],
   "source": [
    "from tensorflow import keras\n",
    "model = keras.models.load_model('path/to/location')"
   ]
  },
  {
   "cell_type": "markdown",
   "id": "absolute-first",
   "metadata": {},
   "source": [
    "现在，让我们来看看细节。"
   ]
  },
  {
   "cell_type": "markdown",
   "id": "rapid-promotion",
   "metadata": {},
   "source": [
    "# 设置"
   ]
  },
  {
   "cell_type": "code",
   "execution_count": 2,
   "id": "mineral-printing",
   "metadata": {},
   "outputs": [],
   "source": [
    "import numpy as np\n",
    "import tensorflow as tf\n",
    "from tensorflow import keras"
   ]
  },
  {
   "cell_type": "markdown",
   "id": "elder-employment",
   "metadata": {},
   "source": [
    "# 全模型保存和加载"
   ]
  },
  {
   "cell_type": "markdown",
   "id": "brief-scale",
   "metadata": {},
   "source": [
    "您可以将整个模型保存到单个工件中。 它将包括：\n",
    "* 模型的架构/配置\n",
    "* 模型的权重值（在训练期间学习）\n",
    "* 模型的编译信息（如果 compile() 被调用）\n",
    "* 优化器及其状态（如果有）（这使您可以从离开的地方重新开始训练）"
   ]
  },
  {
   "cell_type": "markdown",
   "id": "reasonable-bradford",
   "metadata": {},
   "source": [
    "## APIs"
   ]
  },
  {
   "cell_type": "markdown",
   "id": "normal-novelty",
   "metadata": {},
   "source": [
    "* `model.save()` 或 `tf.keras.models.save_model()`\n",
    "* `tf.keras.models.load_model()`"
   ]
  },
  {
   "cell_type": "markdown",
   "id": "democratic-judgment",
   "metadata": {},
   "source": [
    "您可以使用两种格式将整个模型保存到磁盘：TensorFlow SavedModel 格式和较旧的 Keras H5 格式。 推荐的格式是 SavedModel。 它是您使用 `model.save()` 时的默认设置。"
   ]
  },
  {
   "cell_type": "markdown",
   "id": "mysterious-birmingham",
   "metadata": {},
   "source": [
    "您可以通过以下方式切换到 H5 格式：\n",
    "* 将 save_format='h5' 传递给 save()。\n",
    "* 将以 .h5 或 .keras 结尾的文件名传递给 save()。"
   ]
  },
  {
   "cell_type": "markdown",
   "id": "immune-cherry",
   "metadata": {},
   "source": [
    "## 保存模型格式"
   ]
  },
  {
   "cell_type": "markdown",
   "id": "adverse-parcel",
   "metadata": {},
   "source": [
    "SavedModel 是更全面的保存格式，用于保存模型架构、权重和调用函数的跟踪 Tensorflow 子图。 这使 Keras 能够恢复内置层和自定义对象。"
   ]
  },
  {
   "cell_type": "markdown",
   "id": "chinese-travel",
   "metadata": {},
   "source": [
    "**例子：**"
   ]
  },
  {
   "cell_type": "code",
   "execution_count": 6,
   "id": "laden-serial",
   "metadata": {},
   "outputs": [
    {
     "name": "stdout",
     "output_type": "stream",
     "text": [
      "4/4 [==============================] - 2s 5ms/step - loss: 0.7806\n",
      "INFO:tensorflow:Assets written to: my_model/assets\n",
      "4/4 [==============================] - 0s 5ms/step - loss: 0.6838\n"
     ]
    },
    {
     "data": {
      "text/plain": [
       "<tensorflow.python.keras.callbacks.History at 0x7f5e9c0b7f10>"
      ]
     },
     "execution_count": 6,
     "metadata": {},
     "output_type": "execute_result"
    },
    {
     "name": "stdout",
     "output_type": "stream",
     "text": [
      "time: 4.68 s (started: 2021-08-26 00:18:17 +08:00)\n"
     ]
    }
   ],
   "source": [
    "def get_model():\n",
    "    # Create a simple model.\n",
    "    inputs = keras.Input(shape=(32,))\n",
    "    outputs = keras.layers.Dense(1)(inputs)\n",
    "    model = keras.Model(inputs, outputs)\n",
    "    model.compile(optimizer=\"adam\", loss=\"mean_squared_error\")\n",
    "    return model\n",
    "\n",
    "\n",
    "model = get_model()\n",
    "\n",
    "# Train the model.\n",
    "test_input = np.random.random((128, 32))\n",
    "test_target = np.random.random((128, 1))\n",
    "model.fit(test_input, test_target)\n",
    "\n",
    "# Calling `save('my_model')` creates a SavedModel folder `my_model`.\n",
    "model.save(\"my_model\")\n",
    "\n",
    "# It can be used to reconstruct the model identically.\n",
    "reconstructed_model = keras.models.load_model(\"my_model\")\n",
    "\n",
    "# Let's check:\n",
    "np.testing.assert_allclose(\n",
    "    model.predict(test_input), reconstructed_model.predict(test_input)\n",
    ")\n",
    "\n",
    "# The reconstructed model is already compiled and has retained the optimizer\n",
    "# state, so training can resume:\n",
    "reconstructed_model.fit(test_input, test_target)"
   ]
  },
  {
   "cell_type": "markdown",
   "id": "simplified-hanging",
   "metadata": {},
   "source": [
    "## SavedModel 包含的内容"
   ]
  },
  {
   "cell_type": "markdown",
   "id": "undefined-aaron",
   "metadata": {},
   "source": [
    "调用 model.save('my_model') 创建一个名为 my_model 的文件夹，其中包含以下内容："
   ]
  },
  {
   "cell_type": "code",
   "execution_count": 7,
   "id": "correct-agriculture",
   "metadata": {},
   "outputs": [
    {
     "name": "stdout",
     "output_type": "stream",
     "text": [
      "assets\tkeras_metadata.pb  saved_model.pb  variables\n",
      "time: 205 ms (started: 2021-08-26 00:19:18 +08:00)\n"
     ]
    }
   ],
   "source": [
    "!ls my_model"
   ]
  },
  {
   "cell_type": "markdown",
   "id": "alert-battery",
   "metadata": {},
   "source": [
    "模型架构和训练配置（包括优化器、损失和指标）存储在 saved_model.pb 中。 权重保存在 variables/ 目录中。\n",
    "\n",
    "有关 SavedModel 格式的详细信息，请参阅 SavedModel 指南（磁盘上的 SavedModel 格式）。"
   ]
  },
  {
   "cell_type": "markdown",
   "id": "silent-sierra",
   "metadata": {},
   "source": [
    "## SavedModel 如何处理自定义对象"
   ]
  },
  {
   "cell_type": "markdown",
   "id": "handled-arbor",
   "metadata": {},
   "source": [
    "保存模型及其层时，SavedModel 格式存储类名、调用函数、损失和权重（以及配置，如果实现）。 call 函数定义了模型/层的计算图。\n",
    "\n",
    "在没有模型/层配置的情况下，调用函数用于创建一个与原始模型一样存在的模型，该模型可以被训练、评估和用于推理。\n",
    "\n",
    "尽管如此，在编写自定义模型或层类时定义 get_config 和 from_config 方法始终是一个好习惯。 这允许您稍后在需要时轻松更新计算。 有关更多信息，请参阅有关自定义对象的部分。\n",
    "\n",
    "例子："
   ]
  },
  {
   "cell_type": "code",
   "execution_count": 8,
   "id": "sacred-madness",
   "metadata": {},
   "outputs": [
    {
     "name": "stdout",
     "output_type": "stream",
     "text": [
      "INFO:tensorflow:Assets written to: my_model/assets\n",
      "WARNING:tensorflow:No training configuration found in save file, so the model was *not* compiled. Compile it manually.\n",
      "WARNING:tensorflow:No training configuration found in save file, so the model was *not* compiled. Compile it manually.\n",
      "Original model: <__main__.CustomModel object at 0x7f5e9c042ac0>\n",
      "Model Loaded with custom objects: <__main__.CustomModel object at 0x7f5e5c18d1f0>\n",
      "Model loaded without the custom object class: <tensorflow.python.keras.saving.saved_model.load.CustomModel object at 0x7f5e5c18d580>\n",
      "time: 598 ms (started: 2021-08-26 00:26:59 +08:00)\n"
     ]
    }
   ],
   "source": [
    "class CustomModel(keras.Model):\n",
    "    def __init__(self, hidden_units):\n",
    "        super(CustomModel, self).__init__()\n",
    "        self.hidden_units = hidden_units\n",
    "        self.dense_layers = [keras.layers.Dense(u) for u in hidden_units]\n",
    "\n",
    "    def call(self, inputs):\n",
    "        x = inputs\n",
    "        for layer in self.dense_layers:\n",
    "            x = layer(x)\n",
    "        return x\n",
    "\n",
    "    def get_config(self):\n",
    "        return {\"hidden_units\": self.hidden_units}\n",
    "\n",
    "    @classmethod\n",
    "    def from_config(cls, config):\n",
    "        return cls(**config)\n",
    "\n",
    "\n",
    "model = CustomModel([16, 16, 10])\n",
    "# 通过调用来构建模型\n",
    "input_arr = tf.random.uniform((1, 5))\n",
    "outputs = model(input_arr)\n",
    "model.save(\"my_model\")\n",
    "\n",
    "# 选项 1：使用 custom_object 参数加载。\n",
    "loaded_1 = keras.models.load_model(\n",
    "    \"my_model\", custom_objects={\"CustomModel\": CustomModel}\n",
    ")\n",
    "\n",
    "\n",
    "# 选项 2：在没有 CustomModel 类的情况下加载。\n",
    "\n",
    "# 删除自定义模型类，确保加载器无权访问。\n",
    "del CustomModel\n",
    "\n",
    "loaded_2 = keras.models.load_model(\"my_model\")\n",
    "np.testing.assert_allclose(loaded_1(input_arr), outputs)\n",
    "np.testing.assert_allclose(loaded_2(input_arr), outputs)\n",
    "\n",
    "print(\"Original model:\", model)\n",
    "print(\"Model Loaded with custom objects:\", loaded_1)\n",
    "print(\"Model loaded without the custom object class:\", loaded_2)"
   ]
  },
  {
   "cell_type": "markdown",
   "id": "empty-newspaper",
   "metadata": {},
   "source": [
    "第一个加载的模型是使用 config 和 CustomModel 类加载的。 第二个模型是通过动态创建与原始模型类似的模型类来加载的。"
   ]
  },
  {
   "cell_type": "markdown",
   "id": "cloudy-planning",
   "metadata": {},
   "source": [
    "## 配置 SavedModel"
   ]
  },
  {
   "cell_type": "markdown",
   "id": "grand-right",
   "metadata": {},
   "source": [
    "TensoFlow 2.4 中的新功能 参数 `save_traces` 已添加到 `model.save`，它允许您切换 SavedModel 函数跟踪。 保存函数是为了允许 Keras 在没有原始类定义的情况下重新加载自定义对象，因此当 `save_traces=False` 时，所有自定义对象都必须定义 `get_config/from_config` 方法。 加载时，自定义对象必须传递给 `custom_objects` 参数。 `save_traces=False` 减少 SavedModel 使用的磁盘空间并节省时间。"
   ]
  },
  {
   "cell_type": "markdown",
   "id": "raised-driving",
   "metadata": {},
   "source": [
    "## keras H5格式"
   ]
  },
  {
   "cell_type": "markdown",
   "id": "straight-cookie",
   "metadata": {},
   "source": [
    "Keras 还支持保存单个 HDF5 文件，其中包含模型的架构、权重值和 compile() 信息。 它是 SavedModel 的轻量级替代品。\n",
    "\n",
    "**例子：**"
   ]
  },
  {
   "cell_type": "code",
   "execution_count": 9,
   "id": "sufficient-bicycle",
   "metadata": {},
   "outputs": [
    {
     "name": "stdout",
     "output_type": "stream",
     "text": [
      "4/4 [==============================] - 0s 5ms/step - loss: 0.3093\n",
      "4/4 [==============================] - 0s 5ms/step - loss: 0.2847\n"
     ]
    },
    {
     "data": {
      "text/plain": [
       "<tensorflow.python.keras.callbacks.History at 0x7f5e4070f8e0>"
      ]
     },
     "execution_count": 9,
     "metadata": {},
     "output_type": "execute_result"
    },
    {
     "name": "stdout",
     "output_type": "stream",
     "text": [
      "time: 622 ms (started: 2021-08-26 00:33:37 +08:00)\n"
     ]
    }
   ],
   "source": [
    "model = get_model()\n",
    "\n",
    "# Train the model.\n",
    "test_input = np.random.random((128, 32))\n",
    "test_target = np.random.random((128, 1))\n",
    "model.fit(test_input, test_target)\n",
    "\n",
    "# Calling `save('my_model.h5')` creates a h5 file `my_model.h5`.\n",
    "model.save(\"my_h5_model.h5\")\n",
    "\n",
    "# It can be used to reconstruct the model identically.\n",
    "reconstructed_model = keras.models.load_model(\"my_h5_model.h5\")\n",
    "\n",
    "# Let's check:\n",
    "np.testing.assert_allclose(\n",
    "    model.predict(test_input), reconstructed_model.predict(test_input)\n",
    ")\n",
    "\n",
    "# The reconstructed model is already compiled and has retained the optimizer\n",
    "# state, so training can resume:\n",
    "reconstructed_model.fit(test_input, test_target)"
   ]
  },
  {
   "cell_type": "markdown",
   "id": "mathematical-nursery",
   "metadata": {},
   "source": [
    "## 限制"
   ]
  },
  {
   "cell_type": "markdown",
   "id": "angry-level",
   "metadata": {},
   "source": [
    "与 SavedModel 格式相比，H5 文件中没有包含两件事：\n",
    "* 通过 model.add_loss() 和 model.add_metric() 添加的外部损失和指标不会被保存（与 SavedModel 不同）。 如果您的模型有这样的损失和指标，并且您想恢复训练，则需要在加载模型后自行添加这些损失。 请注意，这不适用于通过 self.add_loss() 和 self.add_metric() 在层内创建的损失/指标。 只要层被加载，这些损失和指标就会被保留，因为它们是层调用方法的一部分。\n",
    "* 自定义图层等自定义对象的计算图不包含在保存的文件中。 在加载时，Keras 将需要访问这些对象的 Python 类/函数以重建模型。 请参阅自定义对象。"
   ]
  },
  {
   "cell_type": "markdown",
   "id": "metric-victor",
   "metadata": {},
   "source": [
    "# 保存架构"
   ]
  },
  {
   "cell_type": "markdown",
   "id": "convinced-sound",
   "metadata": {},
   "source": [
    "模型的配置（或架构）指定模型包含哪些层，以及这些层如何连接*。 如果您有模型的配置，那么可以使用权重的新初始化状态创建模型，并且没有编译信息。\n",
    "\n",
    "> 请注意，这仅适用于使用功能或顺序 API 而非子类模型定义的模型。"
   ]
  },
  {
   "cell_type": "markdown",
   "id": "superior-administrator",
   "metadata": {},
   "source": [
    "## 顺序模型或功能 API 模型的配置\n",
    "这些类型的模型是层的显式图：它们的配置始终以结构化形式提供。"
   ]
  },
  {
   "cell_type": "markdown",
   "id": "following-gates",
   "metadata": {},
   "source": [
    "## APIs\n",
    "* get_config() 和 from_config()\n",
    "* tf.keras.models.model_to_json() 和 tf.keras.models.model_from_json()"
   ]
  },
  {
   "cell_type": "markdown",
   "id": "optional-separation",
   "metadata": {},
   "source": [
    "### get_config() 和 from_config()\n",
    "调用 config = model.get_config() 将返回一个包含模型配置的 Python 字典。 然后可以通过 Sequential.from_config(config)（对于 Sequential 模型）或 Model.from_config(config)（对于 Functional API 模型）重建相同的模型。\n",
    "\n",
    "相同的工作流程也适用于任何可序列化层。\n",
    "\n",
    "图层示例："
   ]
  },
  {
   "cell_type": "code",
   "execution_count": 15,
   "id": "bulgarian-reaction",
   "metadata": {},
   "outputs": [
    {
     "name": "stdout",
     "output_type": "stream",
     "text": [
      "time: 4.23 ms (started: 2021-08-26 00:39:46 +08:00)\n"
     ]
    }
   ],
   "source": [
    "layer = keras.layers.Dense(3, activation=\"relu\")\n",
    "layer_config = layer.get_config()\n",
    "new_layer = keras.layers.Dense.from_config(layer_config)"
   ]
  },
  {
   "cell_type": "code",
   "execution_count": 16,
   "id": "ambient-wedding",
   "metadata": {},
   "outputs": [
    {
     "data": {
      "text/plain": [
       "{'name': 'dense_11',\n",
       " 'trainable': True,\n",
       " 'dtype': 'float32',\n",
       " 'units': 3,\n",
       " 'activation': 'relu',\n",
       " 'use_bias': True,\n",
       " 'kernel_initializer': {'class_name': 'GlorotUniform',\n",
       "  'config': {'seed': None}},\n",
       " 'bias_initializer': {'class_name': 'Zeros', 'config': {}},\n",
       " 'kernel_regularizer': None,\n",
       " 'bias_regularizer': None,\n",
       " 'activity_regularizer': None,\n",
       " 'kernel_constraint': None,\n",
       " 'bias_constraint': None}"
      ]
     },
     "execution_count": 16,
     "metadata": {},
     "output_type": "execute_result"
    },
    {
     "name": "stdout",
     "output_type": "stream",
     "text": [
      "time: 3.8 ms (started: 2021-08-26 00:39:50 +08:00)\n"
     ]
    }
   ],
   "source": [
    "layer_config"
   ]
  },
  {
   "cell_type": "markdown",
   "id": "retained-wiring",
   "metadata": {},
   "source": [
    "顺序模型示例："
   ]
  },
  {
   "cell_type": "code",
   "execution_count": 13,
   "id": "equal-cache",
   "metadata": {},
   "outputs": [
    {
     "name": "stdout",
     "output_type": "stream",
     "text": [
      "time: 46.1 ms (started: 2021-08-26 00:39:26 +08:00)\n"
     ]
    }
   ],
   "source": [
    "model = keras.Sequential([keras.layers.InputLayer((32,)), keras.layers.Dense(1)])\n",
    "config = model.get_config()\n",
    "new_model = keras.Sequential.from_config(config)"
   ]
  },
  {
   "cell_type": "code",
   "execution_count": 14,
   "id": "living-serum",
   "metadata": {},
   "outputs": [
    {
     "data": {
      "text/plain": [
       "{'name': 'sequential_1',\n",
       " 'layers': [{'class_name': 'InputLayer',\n",
       "   'config': {'batch_input_shape': (None, 32),\n",
       "    'dtype': 'float32',\n",
       "    'sparse': False,\n",
       "    'ragged': False,\n",
       "    'name': 'input_4'}},\n",
       "  {'class_name': 'Dense',\n",
       "   'config': {'name': 'dense_10',\n",
       "    'trainable': True,\n",
       "    'dtype': 'float32',\n",
       "    'units': 1,\n",
       "    'activation': 'linear',\n",
       "    'use_bias': True,\n",
       "    'kernel_initializer': {'class_name': 'GlorotUniform',\n",
       "     'config': {'seed': None}},\n",
       "    'bias_initializer': {'class_name': 'Zeros', 'config': {}},\n",
       "    'kernel_regularizer': None,\n",
       "    'bias_regularizer': None,\n",
       "    'activity_regularizer': None,\n",
       "    'kernel_constraint': None,\n",
       "    'bias_constraint': None}}]}"
      ]
     },
     "execution_count": 14,
     "metadata": {},
     "output_type": "execute_result"
    },
    {
     "name": "stdout",
     "output_type": "stream",
     "text": [
      "time: 4.66 ms (started: 2021-08-26 00:39:31 +08:00)\n"
     ]
    }
   ],
   "source": [
    "config"
   ]
  },
  {
   "cell_type": "markdown",
   "id": "expanded-faith",
   "metadata": {},
   "source": [
    "Functional模型例子："
   ]
  },
  {
   "cell_type": "code",
   "execution_count": 17,
   "id": "positive-makeup",
   "metadata": {},
   "outputs": [
    {
     "name": "stdout",
     "output_type": "stream",
     "text": [
      "time: 38.4 ms (started: 2021-08-26 00:41:17 +08:00)\n"
     ]
    }
   ],
   "source": [
    "inputs = keras.Input((32,))\n",
    "outputs = keras.layers.Dense(1)(inputs)\n",
    "model = keras.Model(inputs, outputs)\n",
    "config = model.get_config()\n",
    "new_model = keras.Model.from_config(config)"
   ]
  },
  {
   "cell_type": "code",
   "execution_count": 18,
   "id": "romance-compiler",
   "metadata": {},
   "outputs": [
    {
     "data": {
      "text/plain": [
       "{'name': 'model_2',\n",
       " 'layers': [{'class_name': 'InputLayer',\n",
       "   'config': {'batch_input_shape': (None, 32),\n",
       "    'dtype': 'float32',\n",
       "    'sparse': False,\n",
       "    'ragged': False,\n",
       "    'name': 'input_5'},\n",
       "   'name': 'input_5',\n",
       "   'inbound_nodes': []},\n",
       "  {'class_name': 'Dense',\n",
       "   'config': {'name': 'dense_12',\n",
       "    'trainable': True,\n",
       "    'dtype': 'float32',\n",
       "    'units': 1,\n",
       "    'activation': 'linear',\n",
       "    'use_bias': True,\n",
       "    'kernel_initializer': {'class_name': 'GlorotUniform',\n",
       "     'config': {'seed': None}},\n",
       "    'bias_initializer': {'class_name': 'Zeros', 'config': {}},\n",
       "    'kernel_regularizer': None,\n",
       "    'bias_regularizer': None,\n",
       "    'activity_regularizer': None,\n",
       "    'kernel_constraint': None,\n",
       "    'bias_constraint': None},\n",
       "   'name': 'dense_12',\n",
       "   'inbound_nodes': [[['input_5', 0, 0, {}]]]}],\n",
       " 'input_layers': [['input_5', 0, 0]],\n",
       " 'output_layers': [['dense_12', 0, 0]]}"
      ]
     },
     "execution_count": 18,
     "metadata": {},
     "output_type": "execute_result"
    },
    {
     "name": "stdout",
     "output_type": "stream",
     "text": [
      "time: 5.33 ms (started: 2021-08-26 00:41:22 +08:00)\n"
     ]
    }
   ],
   "source": [
    "config"
   ]
  },
  {
   "cell_type": "markdown",
   "id": "municipal-absence",
   "metadata": {},
   "source": [
    "### to_json() 和 tf.keras.models.model_from_json()"
   ]
  },
  {
   "cell_type": "markdown",
   "id": "excellent-stylus",
   "metadata": {},
   "source": [
    "这与 get_config / from_config 类似，不同之处在于它将模型转换为 JSON 字符串，然后可以在没有原始模型类的情况下加载该字符串。 它也特定于模型，不适用于图层。\n",
    "\n",
    "例子："
   ]
  },
  {
   "cell_type": "code",
   "execution_count": 19,
   "id": "random-singles",
   "metadata": {},
   "outputs": [
    {
     "name": "stdout",
     "output_type": "stream",
     "text": [
      "WARNING:tensorflow:Please add `keras.layers.InputLayer` instead of `keras.Input` to Sequential model. `keras.Input` is intended to be used by Functional model.\n",
      "time: 47.9 ms (started: 2021-08-26 00:42:42 +08:00)\n"
     ]
    }
   ],
   "source": [
    "model = keras.Sequential([keras.Input((32,)), keras.layers.Dense(1)])\n",
    "json_config = model.to_json()\n",
    "new_model = keras.models.model_from_json(json_config)"
   ]
  },
  {
   "cell_type": "code",
   "execution_count": 20,
   "id": "simplified-paste",
   "metadata": {},
   "outputs": [
    {
     "data": {
      "text/plain": [
       "'{\"class_name\": \"Sequential\", \"config\": {\"name\": \"sequential_2\", \"layers\": [{\"class_name\": \"InputLayer\", \"config\": {\"batch_input_shape\": [null, 32], \"dtype\": \"float32\", \"sparse\": false, \"ragged\": false, \"name\": \"input_6\"}}, {\"class_name\": \"Dense\", \"config\": {\"name\": \"dense_13\", \"trainable\": true, \"dtype\": \"float32\", \"units\": 1, \"activation\": \"linear\", \"use_bias\": true, \"kernel_initializer\": {\"class_name\": \"GlorotUniform\", \"config\": {\"seed\": null}}, \"bias_initializer\": {\"class_name\": \"Zeros\", \"config\": {}}, \"kernel_regularizer\": null, \"bias_regularizer\": null, \"activity_regularizer\": null, \"kernel_constraint\": null, \"bias_constraint\": null}}]}, \"keras_version\": \"2.5.0\", \"backend\": \"tensorflow\"}'"
      ]
     },
     "execution_count": 20,
     "metadata": {},
     "output_type": "execute_result"
    },
    {
     "name": "stdout",
     "output_type": "stream",
     "text": [
      "time: 3.06 ms (started: 2021-08-26 00:42:48 +08:00)\n"
     ]
    }
   ],
   "source": [
    "json_config"
   ]
  },
  {
   "cell_type": "markdown",
   "id": "moved-physics",
   "metadata": {},
   "source": [
    "## 自定义对象"
   ]
  },
  {
   "cell_type": "markdown",
   "id": "technical-tolerance",
   "metadata": {},
   "source": [
    "## 模型和层\n",
    "\n",
    "子类模型和层的架构在方法 `__init__` 和 `call` 中定义。 它们被视为 Python 字节码，无法序列化为与 JSON 兼容的配置——您可以尝试序列化字节码（例如通过 pickle），但它完全不安全，意味着您的模型无法加载到不同的系统上。\n",
    "\n",
    "为了使用自定义层或子类模型保存/加载模型，您应该覆盖 `get_config` 和可选的 `from_config` 方法。 此外，您应该使用 register 自定义对象，以便 Keras 知道它。"
   ]
  },
  {
   "cell_type": "markdown",
   "id": "bronze-ecology",
   "metadata": {},
   "source": [
    "## 自定义函数\n",
    "\n",
    "自定义函数（例如激活丢失或初始化）不需要 get_config 方法。 只要将其注册为自定义对象，函数名称就足以加载。"
   ]
  },
  {
   "cell_type": "markdown",
   "id": "metric-appeal",
   "metadata": {},
   "source": [
    "## 仅加载 TensorFlow 图\n",
    "\n",
    "可以加载由 Keras 生成的 TensorFlow 图。 如果这样做，则不需要提供任何 custom_objects。 你可以这样做："
   ]
  },
  {
   "cell_type": "code",
   "execution_count": 21,
   "id": "steady-stereo",
   "metadata": {},
   "outputs": [
    {
     "name": "stdout",
     "output_type": "stream",
     "text": [
      "WARNING:tensorflow:Compiled the loaded model, but the compiled metrics have yet to be built. `model.compile_metrics` will be empty until you train or evaluate the model.\n",
      "INFO:tensorflow:Assets written to: my_model/assets\n",
      "time: 315 ms (started: 2021-08-26 00:46:02 +08:00)\n"
     ]
    }
   ],
   "source": [
    "model.save(\"my_model\")\n",
    "tensorflow_graph = tf.saved_model.load(\"my_model\")\n",
    "x = np.random.uniform(size=(4, 32)).astype(np.float32)\n",
    "predicted = tensorflow_graph(x).numpy()"
   ]
  },
  {
   "cell_type": "markdown",
   "id": "adaptive-aurora",
   "metadata": {},
   "source": [
    "请注意，此方法有几个缺点： \n",
    "* 出于可追溯性原因，您应该始终可以访问所使用的自定义对象。 您不希望将无法重新创建的模型投入生产。 \n",
    "* `tf.saved_model.load` 返回的对象不是 Keras 模型。 所以它不是那么容易使用。 例如，您将无权访问 `.predict()` 或 `.fit()`\n",
    "\n",
    "即使不鼓励使用它，它也可以在您遇到困难时为您提供帮助，例如，如果您丢失了自定义对象的代码或在使用 `tf.keras.models.load_model()` 加载模型时遇到问题。\n",
    "\n",
    "您可以在有关 [tf.saved_model.load](https://www.tensorflow.org/api_docs/python/tf/saved_model/load) 的页面中找到更多信息"
   ]
  },
  {
   "cell_type": "markdown",
   "id": "powered-mixture",
   "metadata": {},
   "source": [
    "## 定义配置方法\n",
    "规格：\n",
    "* `get_config` 应该返回一个 JSON 可序列化的字典，以便与 Keras 架构和模型保存 API 兼容。\n",
    "* `from_config(config)` (classmethod) 应该返回一个从配置创建的新层或模型对象。 默认实现返回 `cls(**config)`。"
   ]
  },
  {
   "cell_type": "markdown",
   "id": "respective-beverage",
   "metadata": {},
   "source": [
    "**例子：**"
   ]
  },
  {
   "cell_type": "code",
   "execution_count": 22,
   "id": "caroline-donna",
   "metadata": {},
   "outputs": [
    {
     "name": "stdout",
     "output_type": "stream",
     "text": [
      "time: 5.93 ms (started: 2021-08-26 01:10:35 +08:00)\n"
     ]
    }
   ],
   "source": [
    "class CustomLayer(keras.layers.Layer):\n",
    "    def __init__(self, a):\n",
    "        self.var = tf.Variable(a, name=\"var_a\")\n",
    "\n",
    "    def call(self, inputs, training=False):\n",
    "        if training:\n",
    "            return inputs * self.var\n",
    "        else:\n",
    "            return inputs\n",
    "\n",
    "    def get_config(self):\n",
    "        return {\"a\": self.var.numpy()}\n",
    "\n",
    "    # 实际上没有必要在这里定义 `from_config`，因为返回 `cls(**config)` 是默认行为。\n",
    "    @classmethod\n",
    "    def from_config(cls, config):\n",
    "        return cls(**config)\n",
    "\n",
    "\n",
    "layer = CustomLayer(5)\n",
    "layer.var.assign(2)\n",
    "\n",
    "serialized_layer = keras.layers.serialize(layer)\n",
    "new_layer = keras.layers.deserialize(\n",
    "    serialized_layer, custom_objects={\"CustomLayer\": CustomLayer}\n",
    ")"
   ]
  },
  {
   "cell_type": "code",
   "execution_count": 23,
   "id": "funded-quarterly",
   "metadata": {},
   "outputs": [
    {
     "data": {
      "text/plain": [
       "{'class_name': 'CustomLayer', 'config': {'a': 2}}"
      ]
     },
     "execution_count": 23,
     "metadata": {},
     "output_type": "execute_result"
    },
    {
     "name": "stdout",
     "output_type": "stream",
     "text": [
      "time: 3.12 ms (started: 2021-08-26 01:11:29 +08:00)\n"
     ]
    }
   ],
   "source": [
    "serialized_layer"
   ]
  },
  {
   "cell_type": "markdown",
   "id": "particular-copyright",
   "metadata": {},
   "source": [
    "## 注册自定义对象\n",
    "Keras 会记录哪个类生成了配置。 从上面的例子中，tf.keras.layers.serialize 生成自定义层的序列化形式："
   ]
  },
  {
   "cell_type": "code",
   "execution_count": null,
   "id": "frank-cream",
   "metadata": {},
   "outputs": [],
   "source": [
    "{'class_name': 'CustomLayer', 'config': {'a': 2}}"
   ]
  },
  {
   "cell_type": "markdown",
   "id": "other-liberty",
   "metadata": {},
   "source": [
    "Keras 保留了所有内置层、模型、优化器和度量类的主列表，用于找到正确的类来调用 from_config。 如果找不到该类，则会引发错误（值错误：未知层）。 有几种方法可以将自定义类注册到此列表：\n",
    "* 在加载函数中设置 custom_objects 参数。 （请参阅上面“定义配置方法”部分中的示例）\n",
    "* tf.keras.utils.custom_object_scope 或 tf.keras.utils.CustomObjectScope\n",
    "* tf.keras.utils.register_keras_serializable"
   ]
  },
  {
   "cell_type": "markdown",
   "id": "informative-volunteer",
   "metadata": {},
   "source": [
    "## 自定义层和功能示例"
   ]
  },
  {
   "cell_type": "code",
   "execution_count": 25,
   "id": "golden-surgeon",
   "metadata": {},
   "outputs": [
    {
     "name": "stdout",
     "output_type": "stream",
     "text": [
      "time: 87.5 ms (started: 2021-08-26 01:24:35 +08:00)\n"
     ]
    }
   ],
   "source": [
    "class CustomLayer(keras.layers.Layer):\n",
    "    def __init__(self, units=32, **kwargs):\n",
    "        super(CustomLayer, self).__init__(**kwargs)\n",
    "        self.units = units\n",
    "\n",
    "    def build(self, input_shape):\n",
    "        self.w = self.add_weight(\n",
    "            shape=(input_shape[-1], self.units),\n",
    "            initializer=\"random_normal\",\n",
    "            trainable=True,\n",
    "        )\n",
    "        self.b = self.add_weight(\n",
    "            shape=(self.units,), initializer=\"random_normal\", trainable=True\n",
    "        )\n",
    "\n",
    "    def call(self, inputs):\n",
    "        return tf.matmul(inputs, self.w) + self.b\n",
    "\n",
    "    def get_config(self):\n",
    "        config = super(CustomLayer, self).get_config()\n",
    "        config.update({\"units\": self.units})\n",
    "        return config\n",
    "\n",
    "\n",
    "def custom_activation(x):\n",
    "    return tf.nn.tanh(x) ** 2\n",
    "\n",
    "\n",
    "# Make a model with the CustomLayer and custom_activation\n",
    "inputs = keras.Input((32,))\n",
    "x = CustomLayer(32)(inputs)\n",
    "outputs = keras.layers.Activation(custom_activation)(x)\n",
    "model = keras.Model(inputs, outputs)\n",
    "\n",
    "\n",
    "# Retrieve the config\n",
    "config = model.get_config()\n",
    "\n",
    "# At loading time, register the custom objects with a `custom_object_scope`:\n",
    "custom_objects = {\"CustomLayer\": CustomLayer, \"custom_activation\": custom_activation}\n",
    "with keras.utils.custom_object_scope(custom_objects):\n",
    "    new_model = keras.Model.from_config(config)"
   ]
  },
  {
   "cell_type": "markdown",
   "id": "artificial-lighter",
   "metadata": {},
   "source": [
    "## 内存模型克隆"
   ]
  },
  {
   "cell_type": "markdown",
   "id": "pursuant-observer",
   "metadata": {},
   "source": [
    "您还可以通过 tf.keras.models.clone_model() 在内存中克隆模型。 这相当于获取配置然后从其配置重新创建模型（因此它不保留编译信息或层权重值）。\n",
    "\n",
    "例子："
   ]
  },
  {
   "cell_type": "code",
   "execution_count": 26,
   "id": "stock-jumping",
   "metadata": {},
   "outputs": [
    {
     "name": "stdout",
     "output_type": "stream",
     "text": [
      "time: 33.6 ms (started: 2021-08-26 01:25:30 +08:00)\n"
     ]
    }
   ],
   "source": [
    "with keras.utils.custom_object_scope(custom_objects):\n",
    "    new_model = keras.models.clone_model(model)"
   ]
  },
  {
   "cell_type": "markdown",
   "id": "adequate-camel",
   "metadata": {},
   "source": [
    "# 仅保存和加载模型的权重值"
   ]
  },
  {
   "cell_type": "markdown",
   "id": "after-burlington",
   "metadata": {},
   "source": [
    "您可以选择仅保存和加载模型的权重。 这在以下情况下很有用：\n",
    "* 您只需要用于推理的模型：在这种情况下，您不需要重新开始训练，因此您不需要编译信息或优化器状态。\n",
    "* 您正在进行迁移学习：在这种情况下，您将重用先前模型的状态来训练新模型，因此您不需要先前模型的编译信息。"
   ]
  },
  {
   "cell_type": "markdown",
   "id": "together-possession",
   "metadata": {},
   "source": [
    "## 用于内存中权重传输的 API\n",
    "可以使用 get_weights 和 set_weights 在不同对象之间复制权重：\n",
    "* tf.keras.layers.Layer.get_weights()：返回一个 numpy 数组列表。\n",
    "* tf.keras.layers.Layer.set_weights()：将模型权重设置为 weights 参数中的值。\n",
    "\n",
    "下面的例子。"
   ]
  },
  {
   "cell_type": "markdown",
   "id": "complex-store",
   "metadata": {},
   "source": [
    "**在内存中将权重从一层转移到另一层**"
   ]
  },
  {
   "cell_type": "code",
   "execution_count": 27,
   "id": "infrared-guitar",
   "metadata": {},
   "outputs": [
    {
     "name": "stdout",
     "output_type": "stream",
     "text": [
      "time: 21.3 ms (started: 2021-08-26 01:29:55 +08:00)\n"
     ]
    }
   ],
   "source": [
    "def create_layer():\n",
    "    layer = keras.layers.Dense(64, activation=\"relu\", name=\"dense_2\")\n",
    "    layer.build((None, 784))\n",
    "    return layer\n",
    "\n",
    "\n",
    "layer_1 = create_layer()\n",
    "layer_2 = create_layer()\n",
    "\n",
    "# Copy weights from layer 1 to layer 2\n",
    "layer_2.set_weights(layer_1.get_weights())"
   ]
  },
  {
   "cell_type": "code",
   "execution_count": 28,
   "id": "vertical-baltimore",
   "metadata": {},
   "outputs": [
    {
     "data": {
      "text/plain": [
       "[array([[ 0.07517382, -0.02564053, -0.01778287, ...,  0.04400925,\n",
       "         -0.04631099, -0.01575509],\n",
       "        [-0.05088177,  0.02289279, -0.06196739, ..., -0.02231796,\n",
       "         -0.05191361, -0.06438279],\n",
       "        [ 0.06155025,  0.03366031,  0.01924893, ...,  0.01024388,\n",
       "          0.07083455, -0.08136846],\n",
       "        ...,\n",
       "        [-0.01094113,  0.00202128,  0.06957934, ...,  0.07453486,\n",
       "          0.07569278, -0.03115816],\n",
       "        [-0.08033627, -0.00596955, -0.06056705, ...,  0.03357223,\n",
       "          0.02330612, -0.03764711],\n",
       "        [ 0.02882098, -0.06347737, -0.07837206, ...,  0.01619513,\n",
       "          0.07841682, -0.00738808]], dtype=float32),\n",
       " array([0., 0., 0., 0., 0., 0., 0., 0., 0., 0., 0., 0., 0., 0., 0., 0., 0.,\n",
       "        0., 0., 0., 0., 0., 0., 0., 0., 0., 0., 0., 0., 0., 0., 0., 0., 0.,\n",
       "        0., 0., 0., 0., 0., 0., 0., 0., 0., 0., 0., 0., 0., 0., 0., 0., 0.,\n",
       "        0., 0., 0., 0., 0., 0., 0., 0., 0., 0., 0., 0., 0.], dtype=float32)]"
      ]
     },
     "execution_count": 28,
     "metadata": {},
     "output_type": "execute_result"
    },
    {
     "name": "stdout",
     "output_type": "stream",
     "text": [
      "time: 11.4 ms (started: 2021-08-26 01:30:11 +08:00)\n"
     ]
    }
   ],
   "source": [
    "layer_1.get_weights()"
   ]
  },
  {
   "cell_type": "markdown",
   "id": "equivalent-commitment",
   "metadata": {},
   "source": [
    "## 在内存中将权重从一个模型转移到另一个具有兼容架构的模型"
   ]
  },
  {
   "cell_type": "code",
   "execution_count": 29,
   "id": "binary-newport",
   "metadata": {},
   "outputs": [
    {
     "name": "stdout",
     "output_type": "stream",
     "text": [
      "time: 89 ms (started: 2021-08-26 01:32:07 +08:00)\n"
     ]
    }
   ],
   "source": [
    "# 创建一个简单的函数模型\n",
    "inputs = keras.Input(shape=(784,), name=\"digits\")\n",
    "x = keras.layers.Dense(64, activation=\"relu\", name=\"dense_1\")(inputs)\n",
    "x = keras.layers.Dense(64, activation=\"relu\", name=\"dense_2\")(x)\n",
    "outputs = keras.layers.Dense(10, name=\"predictions\")(x)\n",
    "functional_model = keras.Model(inputs=inputs, outputs=outputs, name=\"3_layer_mlp\")\n",
    "\n",
    "# 定义一个具有相同架构的子类模型\n",
    "class SubclassedModel(keras.Model):\n",
    "    def __init__(self, output_dim, name=None):\n",
    "        super(SubclassedModel, self).__init__(name=name)\n",
    "        self.output_dim = output_dim\n",
    "        self.dense_1 = keras.layers.Dense(64, activation=\"relu\", name=\"dense_1\")\n",
    "        self.dense_2 = keras.layers.Dense(64, activation=\"relu\", name=\"dense_2\")\n",
    "        self.dense_3 = keras.layers.Dense(output_dim, name=\"predictions\")\n",
    "\n",
    "    def call(self, inputs):\n",
    "        x = self.dense_1(inputs)\n",
    "        x = self.dense_2(x)\n",
    "        x = self.dense_3(x)\n",
    "        return x\n",
    "\n",
    "    def get_config(self):\n",
    "        return {\"output_dim\": self.output_dim, \"name\": self.name}\n",
    "\n",
    "\n",
    "subclassed_model = SubclassedModel(10)\n",
    "# 调用子类模型一次以创建权重。\n",
    "subclassed_model(tf.ones((1, 784)))\n",
    "\n",
    "# 将权重从功能模型复制到子类模型。\n",
    "subclassed_model.set_weights(functional_model.get_weights())\n",
    "\n",
    "assert len(functional_model.weights) == len(subclassed_model.weights)\n",
    "for a, b in zip(functional_model.weights, subclassed_model.weights):\n",
    "    np.testing.assert_allclose(a.numpy(), b.numpy())"
   ]
  },
  {
   "cell_type": "markdown",
   "id": "surface-numbers",
   "metadata": {},
   "source": [
    "## 无状态层的情况\n",
    "\n",
    "由于无状态层不会改变权重的顺序或数量，因此即使存在额外/缺失的无状态层，模型也可以具有兼容的架构。"
   ]
  },
  {
   "cell_type": "code",
   "execution_count": 30,
   "id": "annual-maldives",
   "metadata": {},
   "outputs": [
    {
     "name": "stdout",
     "output_type": "stream",
     "text": [
      "time: 258 ms (started: 2021-08-26 01:33:44 +08:00)\n"
     ]
    }
   ],
   "source": [
    "inputs = keras.Input(shape=(784,), name=\"digits\")\n",
    "x = keras.layers.Dense(64, activation=\"relu\", name=\"dense_1\")(inputs)\n",
    "x = keras.layers.Dense(64, activation=\"relu\", name=\"dense_2\")(x)\n",
    "outputs = keras.layers.Dense(10, name=\"predictions\")(x)\n",
    "functional_model = keras.Model(inputs=inputs, outputs=outputs, name=\"3_layer_mlp\")\n",
    "\n",
    "inputs = keras.Input(shape=(784,), name=\"digits\")\n",
    "x = keras.layers.Dense(64, activation=\"relu\", name=\"dense_1\")(inputs)\n",
    "x = keras.layers.Dense(64, activation=\"relu\", name=\"dense_2\")(x)\n",
    "\n",
    "# 添加一个不包含任何权重的 dropout 层。\n",
    "x = keras.layers.Dropout(0.5)(x)\n",
    "outputs = keras.layers.Dense(10, name=\"predictions\")(x)\n",
    "functional_model_with_dropout = keras.Model(\n",
    "    inputs=inputs, outputs=outputs, name=\"3_layer_mlp\"\n",
    ")\n",
    "\n",
    "functional_model_with_dropout.set_weights(functional_model.get_weights())"
   ]
  },
  {
   "cell_type": "markdown",
   "id": "mathematical-organic",
   "metadata": {},
   "source": [
    "## 用于将权重保存到磁盘并重新加载它们的 API\n",
    "权重可以通过以下格式调用 model.save_weights 保存到磁盘：\n",
    "* TensorFlow 检查点\n",
    "* HDF5"
   ]
  },
  {
   "cell_type": "markdown",
   "id": "identical-patrick",
   "metadata": {},
   "source": [
    "model.save_weights 的默认格式是 TensorFlow 检查点。 有两种方法可以指定保存格式：\n",
    "* save_format 参数：将值设置为 save_format=\"tf\" 或 save_format=\"h5\"。\n",
    "* 路径参数：如果路径以 .h5 或 .hdf5 结尾，则使用 HDF5 格式。 除非设置了 save_format，否则其他后缀将导致 TensorFlow 检查点。\n",
    "\n",
    "还可以选择将权重作为内存中的 numpy 数组进行检索。 每个 API 都有其优缺点，详情如下。"
   ]
  },
  {
   "cell_type": "markdown",
   "id": "metallic-subdivision",
   "metadata": {},
   "source": [
    "## TF 检查点格式\n",
    "例子："
   ]
  },
  {
   "cell_type": "code",
   "execution_count": 31,
   "id": "nominated-trading",
   "metadata": {},
   "outputs": [
    {
     "name": "stdout",
     "output_type": "stream",
     "text": [
      "WARNING:tensorflow:Please add `keras.layers.InputLayer` instead of `keras.Input` to Sequential model. `keras.Input` is intended to be used by Functional model.\n"
     ]
    },
    {
     "data": {
      "text/plain": [
       "<tensorflow.python.training.tracking.util.CheckpointLoadStatus at 0x7f5e405f0c70>"
      ]
     },
     "execution_count": 31,
     "metadata": {},
     "output_type": "execute_result"
    },
    {
     "name": "stdout",
     "output_type": "stream",
     "text": [
      "time: 1.84 s (started: 2021-08-26 01:36:02 +08:00)\n"
     ]
    }
   ],
   "source": [
    "# Runnable example\n",
    "sequential_model = keras.Sequential(\n",
    "    [\n",
    "        keras.Input(shape=(784,), name=\"digits\"),\n",
    "        keras.layers.Dense(64, activation=\"relu\", name=\"dense_1\"),\n",
    "        keras.layers.Dense(64, activation=\"relu\", name=\"dense_2\"),\n",
    "        keras.layers.Dense(10, name=\"predictions\"),\n",
    "    ]\n",
    ")\n",
    "sequential_model.save_weights(\"ckpt\")\n",
    "load_status = sequential_model.load_weights(\"ckpt\")\n",
    "\n",
    "# `assert_consumed` 可用于验证所有变量值都已从检查点恢复。 \n",
    "# 有关 Status 对象中的其他方法，请参阅 [`tf.train.Checkpoint.restore`]\n",
    "# (https://www.tensorflow.org/api_docs/python/tf/train/Checkpoint/restore)。\n",
    "load_status.assert_consumed()"
   ]
  },
  {
   "cell_type": "markdown",
   "id": "coordinated-corrections",
   "metadata": {},
   "source": [
    "## 格式详情\n",
    "TensorFlow Checkpoint 格式使用对象属性名称保存和恢复权重。 例如，考虑 `tf.keras.layers.Dense` 层。 该层包含两个权重：`dense.kernel` 和`dense.bias`。 当图层保存为 tf 格式时，生成的检查点包含键“kernel”和“bias”及其对应的权重值。 有关更多信息，请参阅 TF 检查点指南中的“加载机制”。\n",
    "\n",
    "请注意，属性/图形边是以父对象中使用的名称命名的，而不是变量的名称。 考虑下面示例中的 CustomLayer。 变量 CustomLayer.var 与“var”一起保存为键的一部分，而不是“var_a”。"
   ]
  },
  {
   "cell_type": "code",
   "execution_count": 32,
   "id": "personal-diary",
   "metadata": {},
   "outputs": [
    {
     "data": {
      "text/plain": [
       "{'save_counter/.ATTRIBUTES/VARIABLE_VALUE': tf.int64,\n",
       " '_CHECKPOINTABLE_OBJECT_GRAPH': tf.string,\n",
       " 'layer/var/.ATTRIBUTES/VARIABLE_VALUE': tf.int32}"
      ]
     },
     "execution_count": 32,
     "metadata": {},
     "output_type": "execute_result"
    },
    {
     "name": "stdout",
     "output_type": "stream",
     "text": [
      "time: 29.6 ms (started: 2021-08-26 01:38:15 +08:00)\n"
     ]
    }
   ],
   "source": [
    "class CustomLayer(keras.layers.Layer):\n",
    "    def __init__(self, a):\n",
    "        self.var = tf.Variable(a, name=\"var_a\")\n",
    "\n",
    "\n",
    "layer = CustomLayer(5)\n",
    "layer_ckpt = tf.train.Checkpoint(layer=layer).save(\"custom_layer\")\n",
    "\n",
    "ckpt_reader = tf.train.load_checkpoint(layer_ckpt)\n",
    "\n",
    "ckpt_reader.get_variable_to_dtype_map()"
   ]
  },
  {
   "cell_type": "markdown",
   "id": "exposed-plain",
   "metadata": {},
   "source": [
    "## 迁移学习示例\n",
    "本质上，只要两个模型具有相同的架构，它们就能够共享相同的检查点。\n",
    "\n",
    "例子："
   ]
  },
  {
   "cell_type": "code",
   "execution_count": 33,
   "id": "motivated-double",
   "metadata": {},
   "outputs": [
    {
     "name": "stdout",
     "output_type": "stream",
     "text": [
      "Model: \"pretrained_model\"\n",
      "_________________________________________________________________\n",
      "Layer (type)                 Output Shape              Param #   \n",
      "=================================================================\n",
      "digits (InputLayer)          [(None, 784)]             0         \n",
      "_________________________________________________________________\n",
      "dense_1 (Dense)              (None, 64)                50240     \n",
      "_________________________________________________________________\n",
      "dense_2 (Dense)              (None, 64)                4160      \n",
      "=================================================================\n",
      "Total params: 54,400\n",
      "Trainable params: 54,400\n",
      "Non-trainable params: 0\n",
      "_________________________________________________________________\n",
      "\n",
      " --------------------------------------------------\n",
      "Model: \"new_model\"\n",
      "_________________________________________________________________\n",
      "Layer (type)                 Output Shape              Param #   \n",
      "=================================================================\n",
      "digits (InputLayer)          [(None, 784)]             0         \n",
      "_________________________________________________________________\n",
      "dense_1 (Dense)              (None, 64)                50240     \n",
      "_________________________________________________________________\n",
      "dense_2 (Dense)              (None, 64)                4160      \n",
      "_________________________________________________________________\n",
      "predictions (Dense)          (None, 5)                 325       \n",
      "=================================================================\n",
      "Total params: 54,725\n",
      "Trainable params: 54,725\n",
      "Non-trainable params: 0\n",
      "_________________________________________________________________\n",
      "Model: \"sequential_4\"\n",
      "_________________________________________________________________\n",
      "Layer (type)                 Output Shape              Param #   \n",
      "=================================================================\n",
      "pretrained (Functional)      (None, 64)                54400     \n",
      "_________________________________________________________________\n",
      "predictions (Dense)          (None, 5)                 325       \n",
      "=================================================================\n",
      "Total params: 54,725\n",
      "Trainable params: 54,725\n",
      "Non-trainable params: 0\n",
      "_________________________________________________________________\n"
     ]
    },
    {
     "data": {
      "text/plain": [
       "<tensorflow.python.training.tracking.util.CheckpointLoadStatus at 0x7f5e5c13e400>"
      ]
     },
     "execution_count": 33,
     "metadata": {},
     "output_type": "execute_result"
    },
    {
     "name": "stdout",
     "output_type": "stream",
     "text": [
      "time: 179 ms (started: 2021-08-26 01:41:27 +08:00)\n"
     ]
    }
   ],
   "source": [
    "inputs = keras.Input(shape=(784,), name=\"digits\")\n",
    "x = keras.layers.Dense(64, activation=\"relu\", name=\"dense_1\")(inputs)\n",
    "x = keras.layers.Dense(64, activation=\"relu\", name=\"dense_2\")(x)\n",
    "outputs = keras.layers.Dense(10, name=\"predictions\")(x)\n",
    "functional_model = keras.Model(inputs=inputs, outputs=outputs, name=\"3_layer_mlp\")\n",
    "\n",
    "# 提取设置部分中定义的功能模型的一部分。\n",
    "# 以下几行生成一个新模型，该模型不包括功能模型的最终输出层。\n",
    "pretrained = keras.Model(\n",
    "    functional_model.inputs, functional_model.layers[-1].input, name=\"pretrained_model\"\n",
    ")\n",
    "# 随机分配“训练过的”权重。\n",
    "for w in pretrained.weights:\n",
    "    w.assign(tf.random.normal(w.shape))\n",
    "pretrained.save_weights(\"pretrained_ckpt\")\n",
    "pretrained.summary()\n",
    "\n",
    "# 假设这是一个单独的程序，其中只有 'pretrained_ckpt' 存在。\n",
    "# 创建一个具有不同输出维度的新功能模型。\n",
    "inputs = keras.Input(shape=(784,), name=\"digits\")\n",
    "x = keras.layers.Dense(64, activation=\"relu\", name=\"dense_1\")(inputs)\n",
    "x = keras.layers.Dense(64, activation=\"relu\", name=\"dense_2\")(x)\n",
    "outputs = keras.layers.Dense(5, name=\"predictions\")(x)\n",
    "model = keras.Model(inputs=inputs, outputs=outputs, name=\"new_model\")\n",
    "\n",
    "# 将 pretrained_ckpt 中的权重加载到模型中。\n",
    "model.load_weights(\"pretrained_ckpt\")\n",
    "\n",
    "# Check that all of the pretrained weights have been loaded.\n",
    "for a, b in zip(pretrained.weights, model.weights):\n",
    "    np.testing.assert_allclose(a.numpy(), b.numpy())\n",
    "\n",
    "print(\"\\n\", \"-\" * 50)\n",
    "model.summary()\n",
    "\n",
    "# 示例 2：顺序模型\n",
    "# 重新创建预训练模型，并加载保存的权重。\n",
    "inputs = keras.Input(shape=(784,), name=\"digits\")\n",
    "x = keras.layers.Dense(64, activation=\"relu\", name=\"dense_1\")(inputs)\n",
    "x = keras.layers.Dense(64, activation=\"relu\", name=\"dense_2\")(x)\n",
    "pretrained_model = keras.Model(inputs=inputs, outputs=x, name=\"pretrained\")\n",
    "\n",
    "# 顺序示例：\n",
    "model = keras.Sequential([pretrained_model, keras.layers.Dense(5, name=\"predictions\")])\n",
    "model.summary()\n",
    "\n",
    "pretrained_model.load_weights(\"pretrained_ckpt\")\n",
    "\n",
    "# ＃ 警告！ 调用 `model.load_weights('pretrained_ckpt')` 不会抛出错误，但不会*按预期工作。 \n",
    "# 如果您检查砝码，您会发现没有任何砝码已加载。 `pretrained_model.load_weights()` 是正确的调用方法。"
   ]
  },
  {
   "cell_type": "markdown",
   "id": "copyrighted-edgar",
   "metadata": {},
   "source": [
    "通常建议坚持使用相同的 API 来构建模型。 如果您在 Sequential 和 Functional，或 Functional 和 subclassed 等之间切换，则始终重建预训练模型并将预训练权重加载到该模型。\n",
    "\n",
    "下一个问题是，如果模型架构完全不同，如何将权重保存并加载到不同的模型中？ 解决方案是使用 tf.train.Checkpoint 来保存和恢复确切的层/变量。"
   ]
  },
  {
   "cell_type": "markdown",
   "id": "documented-commonwealth",
   "metadata": {},
   "source": [
    "例子："
   ]
  },
  {
   "cell_type": "code",
   "execution_count": 35,
   "id": "south-event",
   "metadata": {},
   "outputs": [
    {
     "data": {
      "text/plain": [
       "<tensorflow.python.training.tracking.util.CheckpointLoadStatus at 0x7f6145f7f400>"
      ]
     },
     "execution_count": 35,
     "metadata": {},
     "output_type": "execute_result"
    },
    {
     "name": "stdout",
     "output_type": "stream",
     "text": [
      "time: 325 ms (started: 2021-08-26 01:44:35 +08:00)\n"
     ]
    }
   ],
   "source": [
    "# 创建一个基本上使用functional_model的第一层和最后一层的子类模型。\n",
    "# 首先，保存functional_model的第一个和最后一个密集层的权重。\n",
    "first_dense = functional_model.layers[1]\n",
    "last_dense = functional_model.layers[-1]\n",
    "ckpt_path = tf.train.Checkpoint(\n",
    "    dense=first_dense, kernel=last_dense.kernel, bias=last_dense.bias\n",
    ").save(\"ckpt\")\n",
    "\n",
    "# 定义子类模型。\n",
    "class ContrivedModel(keras.Model):\n",
    "    def __init__(self):\n",
    "        super(ContrivedModel, self).__init__()\n",
    "        self.first_dense = keras.layers.Dense(64)\n",
    "        self.kernel = self.add_weight(\"kernel\", shape=(64, 10))\n",
    "        self.bias = self.add_weight(\"bias\", shape=(10,))\n",
    "\n",
    "    def call(self, inputs):\n",
    "        x = self.first_dense(inputs)\n",
    "        return tf.matmul(x, self.kernel) + self.bias\n",
    "\n",
    "\n",
    "model = ContrivedModel()\n",
    "# 在输入上调用模型以创建密集层的变量。\n",
    "_ = model(tf.ones((1, 784)))\n",
    "\n",
    "# 创建一个与之前结构相同的检查点，并加载权重。\n",
    "tf.train.Checkpoint(\n",
    "    dense=model.first_dense, kernel=model.kernel, bias=model.bias\n",
    ").restore(ckpt_path).assert_consumed()"
   ]
  },
  {
   "cell_type": "markdown",
   "id": "focused-tobago",
   "metadata": {},
   "source": [
    "## HDF5格式\n",
    "HDF5 格式包含按层名称分组的权重。 权重是通过将可训练权重列表连接到不可训练权重列表（与 layer.weights 相同）来排序的列表。 因此，如果模型具有与检查点中保存的相同的层和可训练状态，则该模型可以使用 hdf5 检查点。\n",
    "\n",
    "例子："
   ]
  },
  {
   "cell_type": "code",
   "execution_count": 36,
   "id": "pregnant-cleanup",
   "metadata": {},
   "outputs": [
    {
     "name": "stdout",
     "output_type": "stream",
     "text": [
      "WARNING:tensorflow:Please add `keras.layers.InputLayer` instead of `keras.Input` to Sequential model. `keras.Input` is intended to be used by Functional model.\n",
      "time: 134 ms (started: 2021-08-26 01:46:39 +08:00)\n"
     ]
    }
   ],
   "source": [
    "# Runnable example\n",
    "sequential_model = keras.Sequential(\n",
    "    [\n",
    "        keras.Input(shape=(784,), name=\"digits\"),\n",
    "        keras.layers.Dense(64, activation=\"relu\", name=\"dense_1\"),\n",
    "        keras.layers.Dense(64, activation=\"relu\", name=\"dense_2\"),\n",
    "        keras.layers.Dense(10, name=\"predictions\"),\n",
    "    ]\n",
    ")\n",
    "sequential_model.save_weights(\"weights.h5\")\n",
    "sequential_model.load_weights(\"weights.h5\")"
   ]
  },
  {
   "cell_type": "markdown",
   "id": "about-slave",
   "metadata": {},
   "source": [
    "请注意，当模型包含嵌套层时，更改 layer.trainable 可能会导致不同的 layer.weights 排序。"
   ]
  },
  {
   "cell_type": "code",
   "execution_count": 37,
   "id": "civic-touch",
   "metadata": {},
   "outputs": [
    {
     "name": "stdout",
     "output_type": "stream",
     "text": [
      "WARNING:tensorflow:Please add `keras.layers.InputLayer` instead of `keras.Input` to Sequential model. `keras.Input` is intended to be used by Functional model.\n",
      "variables: ['nested/dense_1/kernel:0', 'nested/dense_1/bias:0', 'nested/dense_2/kernel:0', 'nested/dense_2/bias:0']\n",
      "\n",
      "Changing trainable status of one of the nested layers...\n",
      "\n",
      "variables: ['nested/dense_2/kernel:0', 'nested/dense_2/bias:0', 'nested/dense_1/kernel:0', 'nested/dense_1/bias:0']\n",
      "variable ordering changed: True\n",
      "time: 77.6 ms (started: 2021-08-26 01:47:50 +08:00)\n"
     ]
    }
   ],
   "source": [
    "class NestedDenseLayer(keras.layers.Layer):\n",
    "    def __init__(self, units, name=None):\n",
    "        super(NestedDenseLayer, self).__init__(name=name)\n",
    "        self.dense_1 = keras.layers.Dense(units, name=\"dense_1\")\n",
    "        self.dense_2 = keras.layers.Dense(units, name=\"dense_2\")\n",
    "\n",
    "    def call(self, inputs):\n",
    "        return self.dense_2(self.dense_1(inputs))\n",
    "\n",
    "\n",
    "nested_model = keras.Sequential([keras.Input((784,)), NestedDenseLayer(10, \"nested\")])\n",
    "variable_names = [v.name for v in nested_model.weights]\n",
    "print(\"variables: {}\".format(variable_names))\n",
    "\n",
    "print(\"\\nChanging trainable status of one of the nested layers...\")\n",
    "nested_model.get_layer(\"nested\").dense_1.trainable = False\n",
    "\n",
    "variable_names_2 = [v.name for v in nested_model.weights]\n",
    "print(\"\\nvariables: {}\".format(variable_names_2))\n",
    "print(\"variable ordering changed:\", variable_names != variable_names_2)"
   ]
  },
  {
   "cell_type": "markdown",
   "id": "another-element",
   "metadata": {},
   "source": [
    "## 迁移学习示例\n",
    "从 HDF5 加载预训练权重时，建议将权重加载到原始检查点模型中，然后将所需的权重/层提取到新模型中。\n",
    "\n",
    "例子："
   ]
  },
  {
   "cell_type": "code",
   "execution_count": 38,
   "id": "excited-exclusion",
   "metadata": {},
   "outputs": [
    {
     "name": "stdout",
     "output_type": "stream",
     "text": [
      "Model: \"sequential_7\"\n",
      "_________________________________________________________________\n",
      "Layer (type)                 Output Shape              Param #   \n",
      "=================================================================\n",
      "dense_1 (Dense)              (None, 64)                50240     \n",
      "_________________________________________________________________\n",
      "dense_2 (Dense)              (None, 64)                4160      \n",
      "_________________________________________________________________\n",
      "dense_3 (Dense)              (None, 5)                 325       \n",
      "=================================================================\n",
      "Total params: 54,725\n",
      "Trainable params: 54,725\n",
      "Non-trainable params: 0\n",
      "_________________________________________________________________\n",
      "time: 169 ms (started: 2021-08-26 01:49:03 +08:00)\n"
     ]
    }
   ],
   "source": [
    "def create_functional_model():\n",
    "    inputs = keras.Input(shape=(784,), name=\"digits\")\n",
    "    x = keras.layers.Dense(64, activation=\"relu\", name=\"dense_1\")(inputs)\n",
    "    x = keras.layers.Dense(64, activation=\"relu\", name=\"dense_2\")(x)\n",
    "    outputs = keras.layers.Dense(10, name=\"predictions\")(x)\n",
    "    return keras.Model(inputs=inputs, outputs=outputs, name=\"3_layer_mlp\")\n",
    "\n",
    "\n",
    "functional_model = create_functional_model()\n",
    "functional_model.save_weights(\"pretrained_weights.h5\")\n",
    "\n",
    "# In a separate program:\n",
    "pretrained_model = create_functional_model()\n",
    "pretrained_model.load_weights(\"pretrained_weights.h5\")\n",
    "\n",
    "# Create a new model by extracting layers from the original model:\n",
    "extracted_layers = pretrained_model.layers[:-1]\n",
    "extracted_layers.append(keras.layers.Dense(5, name=\"dense_3\"))\n",
    "model = keras.Sequential(extracted_layers)\n",
    "model.summary()"
   ]
  },
  {
   "cell_type": "code",
   "execution_count": 39,
   "id": "equal-intranet",
   "metadata": {},
   "outputs": [
    {
     "data": {
      "text/plain": [
       "[<tensorflow.python.keras.engine.input_layer.InputLayer at 0x7f5e40741610>,\n",
       " <tensorflow.python.keras.layers.core.Dense at 0x7f5e406e6340>,\n",
       " <tensorflow.python.keras.layers.core.Dense at 0x7f5e5c112070>,\n",
       " <tensorflow.python.keras.layers.core.Dense at 0x7f5e9402bb20>]"
      ]
     },
     "execution_count": 39,
     "metadata": {},
     "output_type": "execute_result"
    },
    {
     "name": "stdout",
     "output_type": "stream",
     "text": [
      "time: 3.06 ms (started: 2021-08-26 01:49:10 +08:00)\n"
     ]
    }
   ],
   "source": [
    "extracted_layers"
   ]
  },
  {
   "cell_type": "code",
   "execution_count": null,
   "id": "phantom-arrangement",
   "metadata": {},
   "outputs": [],
   "source": []
  }
 ],
 "metadata": {
  "kernelspec": {
   "display_name": "Python [conda env:tensorflow]",
   "language": "python",
   "name": "conda-env-tensorflow-py"
  },
  "language_info": {
   "codemirror_mode": {
    "name": "ipython",
    "version": 3
   },
   "file_extension": ".py",
   "mimetype": "text/x-python",
   "name": "python",
   "nbconvert_exporter": "python",
   "pygments_lexer": "ipython3",
   "version": "3.8.10"
  }
 },
 "nbformat": 4,
 "nbformat_minor": 5
}
